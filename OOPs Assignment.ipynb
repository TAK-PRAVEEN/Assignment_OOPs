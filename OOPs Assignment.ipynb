{
 "cells": [
  {
   "cell_type": "markdown",
   "id": "4668f8ab-28b1-4eb3-989e-045a81053607",
   "metadata": {},
   "source": [
    "Constructor:"
   ]
  },
  {
   "cell_type": "markdown",
   "id": "8546c055-377a-4304-b325-2a2120ed8694",
   "metadata": {},
   "source": [
    "1. What is a constructor in Python? Explain its purpose and usage."
   ]
  },
  {
   "cell_type": "markdown",
   "id": "6181e41a-dd11-4939-a775-c24f12212906",
   "metadata": {},
   "source": [
    "In python, a constructor is a special method used to initialize an object of a class. It's called when you create aninstance of the class. The purpose of the constructor is to set up the initial state of the object by assigning values to the object's properties."
   ]
  },
  {
   "cell_type": "markdown",
   "id": "4602e6f4-608b-4a13-bdaf-7a7552b5411d",
   "metadata": {},
   "source": [
    "2. Differentiate between a parameterless constructor and a parameterized constructor in Python."
   ]
  },
  {
   "cell_type": "markdown",
   "id": "328dc871-081c-4f9a-be5c-39d5739c6d85",
   "metadata": {},
   "source": [
    "In python, a parameterless constructor is a special method called `__init__` that does not take any parameters other than the default parameter `self`. It is used to initialize the instance variable of a class."
   ]
  },
  {
   "cell_type": "code",
   "execution_count": null,
   "id": "c89b870b-a6d3-4079-98bd-a03196a50a53",
   "metadata": {},
   "outputs": [],
   "source": [
    "class MyClass:\n",
    "    def __init__(self):\n",
    "        self.myvariable=0"
   ]
  },
  {
   "cell_type": "markdown",
   "id": "1b59eef3-c348-4e1a-a3e4-c1ae14233b3a",
   "metadata": {},
   "source": [
    "A parameterized constructor, on the other hand is a special method called `__init__` that takes parameters in addition to the default parameter `self`. It is used to initialize the instance variables of a class with values provided as parameters."
   ]
  },
  {
   "cell_type": "code",
   "execution_count": 3,
   "id": "c694c12f-087d-4fe9-a356-20f8b28ba49e",
   "metadata": {},
   "outputs": [],
   "source": [
    "class MyClass:\n",
    "    def __init__(self,name):\n",
    "        self.myvariable=name"
   ]
  },
  {
   "cell_type": "markdown",
   "id": "94d79faa-8815-40f6-bdb6-cf07c9906101",
   "metadata": {},
   "source": [
    "3. How do you define a constructor in a Python class? Provide an example."
   ]
  },
  {
   "cell_type": "markdown",
   "id": "106a40fc-27b2-454d-94e9-1fb4daed2591",
   "metadata": {},
   "source": [
    "In python, a constructor is defined using a special method called `__init__`. This method is automatically called when an instance of class is created. It is used to initialize the instance variables of the class."
   ]
  },
  {
   "cell_type": "code",
   "execution_count": 4,
   "id": "ebe55bc5-1de7-4779-b366-1e39f21ca1be",
   "metadata": {},
   "outputs": [
    {
     "name": "stdout",
     "output_type": "stream",
     "text": [
      "5\n"
     ]
    }
   ],
   "source": [
    "class MyClass:\n",
    "    def __init__(self,initial_value):\n",
    "        self.myvariable=initial_value\n",
    "    #Creating an instance of the class\n",
    "    obj=MyClass(5)\n",
    "    \n",
    "    #Accessing the instance variable\n",
    "    print(obj.myvariable)"
   ]
  },
  {
   "cell_type": "markdown",
   "id": "5386137a-ead0-41cf-b956-63542c346ad2",
   "metadata": {},
   "source": [
    "4. Explain the `__init__` method in Python and its role in constructors."
   ]
  },
  {
   "cell_type": "markdown",
   "id": "e1619cac-1630-44de-ba2f-ee725feaa272",
   "metadata": {},
   "source": [
    "The `__init__` method in python is a special method used to initialize the instance variables of a class. It is also known as the constructor method because it is automatically called when an instance of the class is created.\n",
    "\n",
    "When the `__init__` method is defined within a class, any code within it will be executed automatically when a new instance of that class is create. It is used to perform any initialization that is needed for the object."
   ]
  },
  {
   "cell_type": "markdown",
   "id": "59b51038-b66e-4bbb-80ab-c4c5257c859f",
   "metadata": {},
   "source": [
    "5. In a class named `Person`, create a constructor that initializes the `name` and `age` attributes. Provide an\n",
    "example of creating an object of this class."
   ]
  },
  {
   "cell_type": "code",
   "execution_count": 5,
   "id": "af3cb339-a02e-4317-8088-9c85f9815491",
   "metadata": {},
   "outputs": [
    {
     "name": "stdout",
     "output_type": "stream",
     "text": [
      "<__main__.Person object at 0x7f73bc1caa70>\n",
      "Karan\n"
     ]
    }
   ],
   "source": [
    "class Person:\n",
    "    def __init__(self,name,age):\n",
    "        self.name=name\n",
    "        self.age=age\n",
    "obj1=Person(\"Karan\",19)\n",
    "print(obj1)\n",
    "print(obj1.name)"
   ]
  },
  {
   "cell_type": "markdown",
   "id": "013b3d2b-3543-454d-93c1-2188529e0444",
   "metadata": {},
   "source": [
    "6. How can you call a constructor explicitly in Python? Give an example."
   ]
  },
  {
   "cell_type": "markdown",
   "id": "ea0916b6-438a-4831-af55-9271a526022e",
   "metadata": {},
   "source": [
    "In python, you can call the constructor explicitly by using the class name and the `__init__` method. This can be useful in certain cases when you want to reinitializes the instance variables of an object."
   ]
  },
  {
   "cell_type": "code",
   "execution_count": 1,
   "id": "bd3e0e95-be95-4abd-8531-1362e996385b",
   "metadata": {},
   "outputs": [
    {
     "name": "stdout",
     "output_type": "stream",
     "text": [
      "10\n"
     ]
    }
   ],
   "source": [
    "class MyClass:\n",
    "    def __init__(self,name):\n",
    "        self.myvariable=name\n",
    "#creating an instance of the class\n",
    "obj=MyClass(5)\n",
    "#explicitly calling the constructor to update the instance variable\n",
    "obj.__init__(10)\n",
    "#accesssing the updated instance variable\n",
    "print(obj.myvariable)"
   ]
  },
  {
   "cell_type": "markdown",
   "id": "c95cc876-ba55-4c46-ad15-4a05337824aa",
   "metadata": {},
   "source": [
    "7. What is the significance of the `self` parameter in Python constructors? Explain with an example."
   ]
  },
  {
   "cell_type": "markdown",
   "id": "27f8d02a-eac2-470a-873a-b9e4f35794a8",
   "metadata": {},
   "source": [
    "In Python, the `self` parameter in constructor (and all other instance methods) refers top the object itself. When a method is called on an instance of a class, the `self` parameter allows that method to access and modify the attributes and behavior of the specific instance."
   ]
  },
  {
   "cell_type": "code",
   "execution_count": 3,
   "id": "cc8d7494-dfe0-40c9-b8b7-ba96d60b6442",
   "metadata": {},
   "outputs": [
    {
     "name": "stdout",
     "output_type": "stream",
     "text": [
      "Name:Ali,Age:25\n",
      "Name:Ram,Age:19\n"
     ]
    }
   ],
   "source": [
    "class Person:\n",
    "    def __init__(self,name,age):\n",
    "        self.name=name\n",
    "        self.age=age\n",
    "    def display_info(self):\n",
    "        print(f\"Name:{self.name},Age:{self.age}\")\n",
    "#creating instances of the person\n",
    "person1=Person(\"Ali\",25)\n",
    "person2=Person(\"Ram\",19)\n",
    "#calling the display_info() method on each instance\n",
    "person1.display_info()\n",
    "person2.display_info()"
   ]
  },
  {
   "cell_type": "markdown",
   "id": "46a6f501-2e59-4c05-ae87-04b339f5c025",
   "metadata": {},
   "source": [
    "8. Discuss the concept of default constructors in Python. When are they used?"
   ]
  },
  {
   "cell_type": "markdown",
   "id": "486347c9-c2c1-42b1-8d5b-34699976d412",
   "metadata": {},
   "source": [
    "In Python, default constructors, also known as the default `__init__` method, are constructors that are automatically called when an obect of a class is created.\n",
    "Default constructs are used:\n",
    "1. When a class does not need to perform any specific initialization of instance variables or any other setup when an object is created.\n",
    "2. When the class only requires the default behavior provided by python for object initialization."
   ]
  },
  {
   "cell_type": "code",
   "execution_count": 5,
   "id": "c798a0b5-abd7-4378-abcf-531f4ca89845",
   "metadata": {},
   "outputs": [
    {
     "name": "stdout",
     "output_type": "stream",
     "text": [
      "This is a meyhod of the class.\n"
     ]
    }
   ],
   "source": [
    "class MyClass:\n",
    "    def method(self):\n",
    "        print(\"This is a meyhod of the class.\")\n",
    "obj=MyClass()\n",
    "obj.method()"
   ]
  },
  {
   "cell_type": "markdown",
   "id": "405ab060-fd3e-4ad9-adc3-3ab8048a2bd0",
   "metadata": {},
   "source": [
    "9. Create a Python class called `Rectangle` with a constructor that initializes the `width` and `height`\n",
    "attributes. Provide a method to calculate the area of the rectangle."
   ]
  },
  {
   "cell_type": "code",
   "execution_count": 6,
   "id": "9d9e71e7-373a-464f-8014-7f6fc0f0c5c9",
   "metadata": {},
   "outputs": [
    {
     "name": "stdout",
     "output_type": "stream",
     "text": [
      "Area:12\n"
     ]
    }
   ],
   "source": [
    "class Rectangle:\n",
    "    def __init__(self,width,height):\n",
    "        self.width=width\n",
    "        self.height=height\n",
    "    def area(self):\n",
    "        A=self.width*self.height\n",
    "        print(f\"Area:{A}\")\n",
    "obj=Rectangle(3,4)\n",
    "obj.area()"
   ]
  },
  {
   "cell_type": "markdown",
   "id": "a3e7a298-76e9-4490-b7b3-e8d9a1961f14",
   "metadata": {},
   "source": [
    "10. How can you have multiple constructors in a Python class? Explain with an example."
   ]
  },
  {
   "cell_type": "markdown",
   "id": "dd30c815-ab63-4520-8320-d4e7971b25d2",
   "metadata": {},
   "source": [
    "In Python, it is not directly possible to havemultiple constructors."
   ]
  },
  {
   "cell_type": "code",
   "execution_count": 7,
   "id": "153a8b15-fc24-4923-ae66-db8e444a7512",
   "metadata": {},
   "outputs": [
    {
     "name": "stdout",
     "output_type": "stream",
     "text": [
      "Param1:default_value,Param2:default_value\n"
     ]
    }
   ],
   "source": [
    "class MyClass:\n",
    "    def __init__(self,param1=None,param2=None):\n",
    "        if param1 is not None and param2 is not None:\n",
    "            #constructor with 2 parameters\n",
    "            self.param1=param1\n",
    "            self.param2=param2\n",
    "        elif param1 is not None:\n",
    "            #constructor with 1 parameter\n",
    "            self.param1=param1\n",
    "            self.param2=\"default_value\"\n",
    "        else:\n",
    "            #cosntructor with no parameters\n",
    "            self.param1=\"default_value\"\n",
    "            self.param2=\"default_value\"\n",
    "    def display_params(self):\n",
    "        print(f\"Param1:{self.param1},Param2:{self.param2}\")\n",
    "obj1=MyClass()\n",
    "obj1.display_params()"
   ]
  },
  {
   "cell_type": "code",
   "execution_count": 8,
   "id": "6b091790-5022-41fc-a7ac-ed5149295dde",
   "metadata": {},
   "outputs": [
    {
     "name": "stdout",
     "output_type": "stream",
     "text": [
      "Param1:value1,Param2:default_value\n"
     ]
    }
   ],
   "source": [
    "obj2=MyClass(\"value1\")\n",
    "obj2.display_params()"
   ]
  },
  {
   "cell_type": "code",
   "execution_count": 9,
   "id": "31b55e7d-111e-42c8-9fa1-aeb7b81d2d27",
   "metadata": {},
   "outputs": [
    {
     "name": "stdout",
     "output_type": "stream",
     "text": [
      "Param1:value1,Param2:value2\n"
     ]
    }
   ],
   "source": [
    "obj3=MyClass(\"value1\",\"value2\")\n",
    "obj3.display_params()"
   ]
  },
  {
   "cell_type": "markdown",
   "id": "562665e3-aef7-4429-96c3-b04acb9ccdaf",
   "metadata": {},
   "source": [
    "11. What is method overloading, and how is it related to constructors in Python?"
   ]
  },
  {
   "cell_type": "markdown",
   "id": "01afb76c-e20d-444f-abfc-52e1eb93f60a",
   "metadata": {},
   "source": [
    "Method overloading refers to a feature in some programming languages, such as C++ and Java, that allows a class to have multiple methods with the same name but different parameter lists. The method that gets called is determined by the number and types of arguments passe at the time of invocation.\n",
    "\n",
    "In Python, when you define multiple methods with the same name in a class, the most recent definition of the method with that name is the one that will be used.\n",
    "\n",
    "In python, a class can have only one special methods with the name `__init__`, which serves as the constructor for the class. If you define multiple `__init__` methods, the most recent definition will overwrite the previous ones and only as the constructor."
   ]
  },
  {
   "cell_type": "markdown",
   "id": "89cc131a-59a2-4464-94da-9539f208d528",
   "metadata": {},
   "source": [
    "12. Explain the use of the `super()` function in Python constructors. Provide an example."
   ]
  },
  {
   "cell_type": "markdown",
   "id": "3d24cc09-f96a-4124-9b7c-0ce7ef7629aa",
   "metadata": {},
   "source": [
    "In python, the `super()` function is used to call methods of the superclass (or parent class) from the subclass (or child class). When using `super()` in the context of constructor, it allows you to invoke the attributes and behaviors defined in the parent class before adding any additional initialization specific to the subclass."
   ]
  },
  {
   "cell_type": "code",
   "execution_count": 10,
   "id": "a992bf0a-a4a8-4eca-8409-e50a3bb955ae",
   "metadata": {},
   "outputs": [
    {
     "name": "stdout",
     "output_type": "stream",
     "text": [
      "Buddy barks.\n"
     ]
    }
   ],
   "source": [
    "class Animal:\n",
    "    def __init__(self,name):\n",
    "        self.name=name\n",
    "    def speak(self):\n",
    "        print(f\"{self.name} makes a sound.\")\n",
    "class Dog(Animal):\n",
    "    def __init__(self,name,breed):\n",
    "        super().__init__(name)#invoking the parent class constructor\n",
    "        self.breed=breed\n",
    "    def speak(self):\n",
    "        print(f\"{self.name} barks.\")\n",
    "dog=Dog(\"Buddy\",\"Labrador\")\n",
    "dog.speak()"
   ]
  },
  {
   "cell_type": "markdown",
   "id": "5bddd93a-419b-401d-9040-130083fbc235",
   "metadata": {},
   "source": [
    "13. Create a class called `Book` with a constructor that initializes the `title`, `author`, and `published_year`\n",
    "attributes. Provide a method to display book details."
   ]
  },
  {
   "cell_type": "code",
   "execution_count": 15,
   "id": "56a8992b-a202-4e3b-894c-542c62469717",
   "metadata": {},
   "outputs": [
    {
     "name": "stdout",
     "output_type": "stream",
     "text": [
      "Book details are following- Title:Atomic Habits,Author:James Clear & Published year:2018\n"
     ]
    }
   ],
   "source": [
    "class Book:\n",
    "    def __init__(self,title,author,published_year):\n",
    "        self.title=title\n",
    "        self.author=author\n",
    "        self.published_year=published_year\n",
    "    def book_details(self):\n",
    "        print(f\"Book details are following- Title:{self.title},Author:{self.author} & Published year:{self.published_year}\")\n",
    "b1=Book(\"Atomic Habits\",\"James Clear\",2018)\n",
    "b1.book_details()"
   ]
  },
  {
   "cell_type": "markdown",
   "id": "3326a7f9-5ec1-40f7-99cc-112be63b33f7",
   "metadata": {},
   "source": [
    "14. Discuss the differences between constructors and regular methods in Python classes."
   ]
  },
  {
   "cell_type": "markdown",
   "id": "79138940-5d16-4e60-9cd3-1e6fcdd1a5bc",
   "metadata": {},
   "source": [
    "CONSTRUCTOR:\n",
    "1. Constructors are special methods in python classes that are used for initializing objects of the class.\n",
    "2. In python, the construrctors methods is named `__init__` and it is automatically called when an instance of the class is created.\n",
    "3. The main purpose of a constructor is to set initial values for the object's attributes or perform any other necessary setup when the object is created.\n",
    "4. constructor can take parameters to initialize the object's state based on the provided values.\n",
    "5. Constructors are not called explicitly; they are called automatically when an instance of the class is created using the class name followed by paranhesis.[e.g., obj=ClassName()]\n",
    "\n",
    "REGULAR METHODS:\n",
    "1. Regular methods are standard functions defined within a class thatr can perform various operations on te object's attributes.\n",
    "2. Regular methods are called explicitly on insatance of the class and they can take additional parameters, including 'self', which is a reference to the instance that the method is being called on.\n",
    "3. Regular methods can perform a wide range of operations like modifying object attributes, computing values or interacting with other objects.\n",
    "4. Unlike the constructor, regular methods are not automatically called when an instance of the class is created."
   ]
  },
  {
   "cell_type": "markdown",
   "id": "cee832ba-8f4d-41f1-b572-ec0472cf4b97",
   "metadata": {},
   "source": [
    "15. Explain the role of the `self` parameter in instance variable initialization within a constructor."
   ]
  },
  {
   "cell_type": "markdown",
   "id": "dd94d67f-e2f0-4a3e-bc8f-4804a5d8f6f4",
   "metadata": {},
   "source": [
    "In python, the `self` parameter in a constructor plays a crucial role in instance variable initialization to create an object, the constructor (defined by the `__init__` method) is automatically called. The `self` parameter refers to the specific instance of the class being created and is used to initialize and access instance variables within the constructor."
   ]
  },
  {
   "cell_type": "markdown",
   "id": "7e328ea8-e444-41d1-bd0f-4dcf9a3a4eeb",
   "metadata": {},
   "source": [
    "16. How do you prevent a class from having multiple instances by using constructors in Python? Provide an\n",
    "example."
   ]
  },
  {
   "cell_type": "markdown",
   "id": "9e6acf8b-4e51-4c23-8389-7144dd934d93",
   "metadata": {},
   "source": [
    "In python, you can prevent a class from having multiple instances by implementing a design pattern called the singleton pattern. The singleton pattern ensures that a class has only one instance and provides a global point of access to that instance.\n",
    "\n",
    "To achieve this in python, you can use the following approach within the constructor of the class:\n",
    "1. Use of class variable to store the single instance of the class.\n",
    "2. In the constructor, check if the class variable toring the instance is already initialized. If it is, return the existing instance. If not, initialize the instance and assign it to the class variable."
   ]
  },
  {
   "cell_type": "code",
   "execution_count": 2,
   "id": "a6cd2944-f58d-46ba-a7e4-29f026fe68e4",
   "metadata": {},
   "outputs": [
    {
     "name": "stdout",
     "output_type": "stream",
     "text": [
      "False\n"
     ]
    }
   ],
   "source": [
    "class SingletonClass:\n",
    "    _instance=None #class variable to store the single instance\n",
    "    def __new__(cls):\n",
    "        if cls._instance is None:\n",
    "            cls._instance=super(SingletonClass,cls).__new__(cls)\n",
    "            return cls._instance\n",
    "    def __init__(self):\n",
    "        #any initialization code can be placed here\n",
    "        pass\n",
    "#creating instances of the singleton class\n",
    "instance1=SingletonClass()\n",
    "instance2=SingletonClass()\n",
    "#checking if both instances are the same\n",
    "print(instance1 is instance2)"
   ]
  },
  {
   "cell_type": "markdown",
   "id": "af08297d-9201-4780-ba89-ab844af5fe2e",
   "metadata": {},
   "source": [
    "17. Create a Python class called `Student` with a constructor that takes a list of subjects as a parameter and\n",
    "initializes the `subjects` attribute."
   ]
  },
  {
   "cell_type": "code",
   "execution_count": 1,
   "id": "31b53254-9c47-4c56-9cd0-d3482067ab39",
   "metadata": {},
   "outputs": [
    {
     "name": "stdout",
     "output_type": "stream",
     "text": [
      "['math', 'sst', 'science']\n"
     ]
    }
   ],
   "source": [
    "class Student:\n",
    "    def __init__(self,subjects):\n",
    "        self.subjects=subjects\n",
    "    def display(self):\n",
    "        print(self.subjects)\n",
    "sub=['math','sst','science']\n",
    "obj=Student(sub)\n",
    "obj.display()"
   ]
  },
  {
   "cell_type": "markdown",
   "id": "ddbb8f8f-9484-451b-8c8d-bf18a07fc740",
   "metadata": {},
   "source": [
    "18. What is the purpose of the `__del__` method in Python classes, and how does it relate to constructors?"
   ]
  },
  {
   "cell_type": "markdown",
   "id": "e593c11f-a0d4-4130-9f5e-0fa670d628c4",
   "metadata": {},
   "source": [
    "The `__del__` method in python is a special method that serves as a destructor for a class. It is called when a object is about to be destroyed or garbage collected. The purpose of the `__del__` method is to peform any necessary cleanup or resource deallocation before the object is removed from memory.\n",
    "\n",
    "The `__init__` method is responsible for initializing a newly created object, whereas the `__del__` method is responsible for performing cleanup tasks and releasing resources before the object is destroyed."
   ]
  },
  {
   "cell_type": "markdown",
   "id": "330ddf4d-167f-4ffe-8491-90ebc0b3e88a",
   "metadata": {},
   "source": [
    "19. Explain the use of constructor chaining in Python. Provide a practical example."
   ]
  },
  {
   "cell_type": "markdown",
   "id": "1e620ee3-b8b0-44cf-be23-bc19061a3a5b",
   "metadata": {},
   "source": [
    "Constructor chaining in python refers to the ability for a subclass to call the constructor of its parent class(superclass). This allows the subclass to inherit the behavior of the parent class's constructor and also perform its own additional initialization."
   ]
  },
  {
   "cell_type": "code",
   "execution_count": 2,
   "id": "192e09eb-8f94-41bf-8174-f4b66b1c64cb",
   "metadata": {},
   "outputs": [
    {
     "name": "stdout",
     "output_type": "stream",
     "text": [
      "An animal of species Canine is created.\n",
      "A Labrador dog named Buddy is created.\n"
     ]
    }
   ],
   "source": [
    "class Animal:\n",
    "    def __init__(self,species):\n",
    "        self.species=species\n",
    "        print(f\"An animal of species {self.species} is created.\")\n",
    "class Dog(Animal):\n",
    "    def __init__(self,name,breed):\n",
    "        super().__init__(\"Canine\")\n",
    "        #calling the constructor of super class\n",
    "        self.name=name\n",
    "        self.breed=breed\n",
    "        print(f\"A {self.breed} dog named {self.name} is created.\")\n",
    "my_dog=Dog(\"Buddy\",\"Labrador\")"
   ]
  },
  {
   "cell_type": "markdown",
   "id": "e61daddb-66f5-46e5-b06c-c206a9e30251",
   "metadata": {},
   "source": [
    "20. Create a Python class called `Car` with a default constructor that initializes the `make` and `model`\n",
    "attributes. Provide a method to display car information."
   ]
  },
  {
   "cell_type": "code",
   "execution_count": 4,
   "id": "5317ab1f-a9e7-497a-b89e-e9954c0bfe4c",
   "metadata": {},
   "outputs": [
    {
     "name": "stdout",
     "output_type": "stream",
     "text": [
      "Car is made buy Hyundai and model is Tuscon\n"
     ]
    }
   ],
   "source": [
    "class Car:\n",
    "    def __init__(self,make,model):\n",
    "        self.make=make\n",
    "        self.model=model\n",
    "    def car_info(self):\n",
    "        print(f\"Car is made buy {self.make} and model is {self.model}\")\n",
    "car=Car(\"Hyundai\",\"Tuscon\")\n",
    "car.car_info()"
   ]
  },
  {
   "cell_type": "markdown",
   "id": "4ecb1bf4-4342-45b9-a4c5-e91bfad365a8",
   "metadata": {},
   "source": [
    "Inheritance:"
   ]
  },
  {
   "cell_type": "markdown",
   "id": "c1bcf01b-d226-466b-8ddd-614d3a9ad707",
   "metadata": {},
   "source": [
    "1. What is inheritance in Python? Explain its significance in object-oriented programming."
   ]
  },
  {
   "cell_type": "markdown",
   "id": "cb76b7a5-5cc0-4052-945b-9eb7988fb903",
   "metadata": {},
   "source": [
    "In python, inheritance is a fundamental concept of object-oriented programming that allows a new class to inherit properties and behaviors(i.e. attributes and methods) from an existing class. The existing class is known as the superclass pr parent class , and the new class is called the subclass or child class.\n",
    "\n",
    "Signifcance:\n",
    "1. Code reusability: Inhertance allows subclasses to inherit attributes and methods from their superclass. This facilities reuse of code, as common behaviors and attributes can be defined once in a superclass and shared among multiple subclass.\n",
    "2. Modularity: Inheritance supports the creation of modular and modular and organized code by allowing the separation of concerns. Common functionalities can b  implemented in a superclass, promoting a clear and loginal hierarchy.\n",
    "3. Extensibility: Subclasses can extend or modify the behavior inherited from the superclass. This allows for customization and specialization of behavior while maintaining the base functionality.\n",
    "4. Polymorphism: Inheritance is essential for achieving polymorphism, which allow different classes to be treated as instances of the same superclass. This supports flexibilty and modularity in code design."
   ]
  },
  {
   "cell_type": "markdown",
   "id": "a25cc370-7c32-4775-ab8a-68db45a231de",
   "metadata": {},
   "source": [
    "2. Differentiate between single inheritance and multiple inheritance in Python. Provide examples for each."
   ]
  },
  {
   "cell_type": "markdown",
   "id": "f6a4a12f-0b5e-43b5-a584-4a2cd933f2f2",
   "metadata": {},
   "source": [
    "Single Inheritance: In single inheritance, a class inherits from only one superclass. This means that a subclass has a single parent class from which it inherits attributes and methods."
   ]
  },
  {
   "cell_type": "code",
   "execution_count": 5,
   "id": "387f2a42-b607-41b8-82d6-93a9e87fde9b",
   "metadata": {},
   "outputs": [
    {
     "data": {
      "text/plain": [
       "'Woof!'"
      ]
     },
     "execution_count": 5,
     "metadata": {},
     "output_type": "execute_result"
    }
   ],
   "source": [
    "class Animal:\n",
    "    def __init__(self,species):\n",
    "        self.species=species\n",
    "    def make_sound(self):\n",
    "        pass\n",
    "class Dog(Animal):\n",
    "    def __init__(self,species,breed):\n",
    "        super().__init__(species)\n",
    "        self.breed=breed\n",
    "    def make_sound(self):\n",
    "        return \"Woof!\"\n",
    "dog=Dog(\"Canine\",\"Labrador\")\n",
    "dog.make_sound()"
   ]
  },
  {
   "cell_type": "code",
   "execution_count": 6,
   "id": "2a1a3bc8-b6f2-4740-a7ad-f388f37c9baf",
   "metadata": {},
   "outputs": [
    {
     "data": {
      "text/plain": [
       "'Canine'"
      ]
     },
     "execution_count": 6,
     "metadata": {},
     "output_type": "execute_result"
    }
   ],
   "source": [
    "dog.species"
   ]
  },
  {
   "cell_type": "code",
   "execution_count": 7,
   "id": "dd8ae9d8-806e-4331-b7dd-f7b8b24286c3",
   "metadata": {},
   "outputs": [
    {
     "data": {
      "text/plain": [
       "'Labrador'"
      ]
     },
     "execution_count": 7,
     "metadata": {},
     "output_type": "execute_result"
    }
   ],
   "source": [
    "dog.breed"
   ]
  },
  {
   "cell_type": "markdown",
   "id": "38836ddf-fae5-44ec-ac13-3012d38b0e80",
   "metadata": {},
   "source": [
    "Multiple Inheritance: In multiple inheritance, aclass inherit from more than one superclass. This means that a superclass can inherit attributes and methods from multiple parent classes."
   ]
  },
  {
   "cell_type": "code",
   "execution_count": 15,
   "id": "2be59496-1d65-4c4b-9e77-dab180701e4d",
   "metadata": {},
   "outputs": [
    {
     "name": "stdout",
     "output_type": "stream",
     "text": [
      "Red\n",
      "Sony\n",
      "Sedan\n",
      "The car is driving.\n",
      "playing music in the car.\n"
     ]
    }
   ],
   "source": [
    "class Vehicle:\n",
    "    def __init__(self,color):\n",
    "        self.color=color\n",
    "    def drive(self):\n",
    "        pass\n",
    "class Radio:\n",
    "    def __init__(self,brand):\n",
    "        self.brand=brand\n",
    "    def play_music(self):\n",
    "        pass\n",
    "class Car(Vehicle,Radio):\n",
    "    def __init__(self,color,brand,model):\n",
    "        Vehicle.__init__(self,color)\n",
    "        Radio.__init__(self,brand)\n",
    "        self.model=model\n",
    "    def drive(self):\n",
    "        return \"The car is driving.\"\n",
    "    def play_music(self):\n",
    "        return \"playing music in the car.\"\n",
    "    \n",
    "car=Car(\"Red\",\"Sony\",\"Sedan\")\n",
    "print(car.color)\n",
    "print(car.brand)\n",
    "print(car.model)\n",
    "print(car.drive())\n",
    "print(car.play_music())"
   ]
  },
  {
   "cell_type": "markdown",
   "id": "1b67a7c0-953f-460a-abc0-2906d266ed81",
   "metadata": {},
   "source": [
    "3. Create a Python class called `Vehicle` with attributes `color` and `speed`. Then, create a child class called\n",
    "`Car` that inherits from `Vehicle` and adds a `brand` attribute. Provide an example of creating a `Car` object."
   ]
  },
  {
   "cell_type": "code",
   "execution_count": 19,
   "id": "0482d0db-5d9e-4528-abef-ba0b14d82fe8",
   "metadata": {},
   "outputs": [
    {
     "name": "stdout",
     "output_type": "stream",
     "text": [
      "Red\n",
      "Hyundai\n",
      "120\n"
     ]
    }
   ],
   "source": [
    "class Vehicle:\n",
    "    def __init__(self,color,speed):\n",
    "        self.color=color\n",
    "        self.speed=speed\n",
    "    def type(self):\n",
    "        pass\n",
    "class Car(Vehicle):\n",
    "    def __init__(self,color,speed,brand):\n",
    "        super().__init__(color,speed)\n",
    "        self.brand=brand\n",
    "    def drive(self):\n",
    "        pass\n",
    "    \n",
    "car=Car(\"Red\",120,\"Hyundai\")\n",
    "print(car.color)\n",
    "print(car.brand)\n",
    "print(car.speed)"
   ]
  },
  {
   "cell_type": "markdown",
   "id": "9297f83a-1409-44c7-8fd5-fd5131893a4c",
   "metadata": {},
   "source": [
    "4. Explain the concept of method overriding in inheritance. Provide a practical example."
   ]
  },
  {
   "cell_type": "markdown",
   "id": "bdc7e782-52a3-4c76-914d-f418f6d378d7",
   "metadata": {},
   "source": [
    "Method overriding in inheritance allows a subclass to provide a specific implementation of a method that is already defined in it superclass. When a subclass redefines a method that it has inherited from its superclass, the new method in the subclass overrides the implementation of the method in the superclass."
   ]
  },
  {
   "cell_type": "code",
   "execution_count": 1,
   "id": "a3e4e06d-a104-44fe-ae6b-16261cbb92fe",
   "metadata": {},
   "outputs": [
    {
     "data": {
      "text/plain": [
       "'Woof!'"
      ]
     },
     "execution_count": 1,
     "metadata": {},
     "output_type": "execute_result"
    }
   ],
   "source": [
    "class Animal:\n",
    "    def make_sound(self):\n",
    "        return \"Generic animal sound\"\n",
    "class Dog(Animal):\n",
    "    def make_sound(self):\n",
    "        return \"Woof!\"\n",
    "dog=Dog()\n",
    "dog.make_sound()"
   ]
  },
  {
   "cell_type": "markdown",
   "id": "f979ff0e-4055-4615-afcb-77d89e0affc8",
   "metadata": {},
   "source": [
    "5. How can you access the methods and attributes of a parent class from a child class in Python? Give an\n",
    "example."
   ]
  },
  {
   "cell_type": "markdown",
   "id": "201ea92a-0c59-48e4-be66-b96da5b1604e",
   "metadata": {},
   "source": [
    "In python, you can access the methods and attributes of a parent class from a child class using the `super()` function. The `super()` function allows you to call methods and access attributes of the parent class within the child class."
   ]
  },
  {
   "cell_type": "code",
   "execution_count": 5,
   "id": "e1e70cf4-8631-4fae-a227-e20da34bbeda",
   "metadata": {},
   "outputs": [
    {
     "data": {
      "text/plain": [
       "'Hello, I am Praveen and I am child'"
      ]
     },
     "execution_count": 5,
     "metadata": {},
     "output_type": "execute_result"
    }
   ],
   "source": [
    "class Parent:\n",
    "    def  __init__(self,name):\n",
    "        self.name=name\n",
    "    def greet(self):\n",
    "        return f\"Hello, I am {self.name}\"\n",
    "class Child(Parent):\n",
    "    def greet(self):\n",
    "        parent_greeting=super().greet()\n",
    "        return f\"{parent_greeting} and I am child\"\n",
    "child=Child(\"Praveen\")\n",
    "child.greet()"
   ]
  },
  {
   "cell_type": "markdown",
   "id": "098d1bb6-30f1-4bcd-abbd-4fb45318308f",
   "metadata": {},
   "source": [
    "6. Discuss the use of the `super()` function in Python inheritance. When and why is it used? Provide an\n",
    "example."
   ]
  },
  {
   "cell_type": "markdown",
   "id": "600e4110-accd-476a-b0b6-9a9fe09513d3",
   "metadata": {},
   "source": [
    "The `super()` function in python is used to call methods and access attributes of a parent class from within  child class. It is commonly used in inheritance to invoke methods off the superclass, allowing for better code reusability and maintainance."
   ]
  },
  {
   "cell_type": "code",
   "execution_count": 6,
   "id": "e1def05b-cf01-443f-8875-9d0802b57e99",
   "metadata": {},
   "outputs": [
    {
     "data": {
      "text/plain": [
       "'Hello, I am Tak and I am child'"
      ]
     },
     "execution_count": 6,
     "metadata": {},
     "output_type": "execute_result"
    }
   ],
   "source": [
    "class Parent:\n",
    "    def  __init__(self,name):\n",
    "        self.name=name\n",
    "    def greet(self):\n",
    "        return f\"Hello, I am {self.name}\"\n",
    "class Child(Parent):\n",
    "    def greet(self):\n",
    "        parent_greeting=super().greet()\n",
    "        return f\"{parent_greeting} and I am child\"\n",
    "child=Child(\"Tak\")\n",
    "child.greet()"
   ]
  },
  {
   "cell_type": "markdown",
   "id": "e507b86d-5993-453b-a103-f5636ddce9e1",
   "metadata": {},
   "source": [
    "7. Create a Python class called `Animal` with a method `speak()`. Then, create child classes `Dog` and `Cat`"
   ]
  },
  {
   "cell_type": "code",
   "execution_count": 7,
   "id": "b07b75c8-d98e-4754-8772-2be724f6d2b6",
   "metadata": {},
   "outputs": [
    {
     "name": "stdout",
     "output_type": "stream",
     "text": [
      "Woof!\n",
      "Meow!\n"
     ]
    }
   ],
   "source": [
    "class Animal:\n",
    "    def __init__(self,name):\n",
    "        self.name=name\n",
    "    def speak(self):\n",
    "        pass\n",
    "class Dog(Animal):\n",
    "    def __init__(self,name,breed):\n",
    "        super().__init__(name)\n",
    "        self.breed=breed\n",
    "    def speak(self):\n",
    "        return \"Woof!\"\n",
    "class Cat(Animal):\n",
    "    def __init__(self,name,breed):\n",
    "        super().__init__(name)\n",
    "        self.breed=breed\n",
    "    def speak(self):\n",
    "        return \"Meow!\"\n",
    "dog=Dog(\"Tom\",\"German\")\n",
    "print(dog.speak())\n",
    "cat=Cat(\"Mini\",\"Persian\")\n",
    "print(cat.speak())"
   ]
  },
  {
   "cell_type": "markdown",
   "id": "73b6cd24-a18b-409c-8efb-21e91ece0ea2",
   "metadata": {},
   "source": [
    "8. Explain the role of the `isinstance()` function in Python and how it relates to inheritance."
   ]
  },
  {
   "cell_type": "markdown",
   "id": "5c19f218-a77d-4c90-8e77-51a34ab9ba69",
   "metadata": {},
   "source": [
    "The `isinstance()` function in python is used to determine whether an object is an instanace  of a particular class or subclass. It takes two parameters: the object to be checked and the class or type to be checked against. The function return 'True' if the object is an instance of the specified class or any of its subclasses, and 'False' otherwise.\n",
    "\n",
    "In the ontext of inheritance, the `isinstance()` function is useful for checking the type of an object and determinng its class hierarchy. It allows for dynamic type typing based on the inheritance relationships between classes."
   ]
  },
  {
   "cell_type": "code",
   "execution_count": 8,
   "id": "5024a749-07f3-47f2-9fe8-7beb6fa172cd",
   "metadata": {},
   "outputs": [
    {
     "name": "stdout",
     "output_type": "stream",
     "text": [
      "True\n",
      "True\n"
     ]
    }
   ],
   "source": [
    "class Animal:\n",
    "    def speak():\n",
    "        pass\n",
    "class Dog(Animal):\n",
    "    def speak(self):\n",
    "        return \"Woof!\"\n",
    "class Cat(Animal):\n",
    "    def speak(self):\n",
    "        return \"Meow!\"\n",
    "dog=Dog()\n",
    "cat=Cat()\n",
    "print(isinstance(dog,Animal))\n",
    "print(isinstance(cat,Animal))"
   ]
  },
  {
   "cell_type": "markdown",
   "id": "1da9ea1a-c372-4b5b-9fbf-d32017e0c236",
   "metadata": {},
   "source": [
    "9. What is the purpose of the `issubclass()` function in Python? Provide an example."
   ]
  },
  {
   "cell_type": "markdown",
   "id": "446401bd-9868-43b8-8807-5dd640288ca7",
   "metadata": {},
   "source": [
    "The `issubclass()` function in python is used to check whether a given class is a subclass of another class. It takes two parameters: the potential subclass and the potential superclass, and retuen 'True' if the first class is indeed a subclass of the second, and 'False' otherwise."
   ]
  },
  {
   "cell_type": "code",
   "execution_count": 9,
   "id": "0cd211c8-543f-436f-b1ae-bb9d725e8914",
   "metadata": {},
   "outputs": [
    {
     "name": "stdout",
     "output_type": "stream",
     "text": [
      "True\n",
      "True\n",
      "True\n",
      "False\n"
     ]
    }
   ],
   "source": [
    "class Animal:\n",
    "    def speak():\n",
    "        pass\n",
    "class Dog(Animal):\n",
    "    def speak(self):\n",
    "        return \"Woof!\"\n",
    "class Cat(Animal):\n",
    "    def speak(self):\n",
    "        return \"Meow!\"\n",
    "class GoldenRetriever(Dog):\n",
    "    pass\n",
    "print(issubclass(Dog,Animal))\n",
    "print(issubclass(Cat,Animal))\n",
    "print(issubclass(GoldenRetriever,Animal))\n",
    "print(issubclass(Cat,Dog))"
   ]
  },
  {
   "cell_type": "markdown",
   "id": "7bd8df96-6b6a-4825-a563-7c1252f278a2",
   "metadata": {},
   "source": [
    "10. Discuss the concept of constructor inheritance in Python. How are constructors inherited in child classes?"
   ]
  },
  {
   "cell_type": "markdown",
   "id": "7d340ada-ad54-4b3c-a6d4-489ed125cc4f",
   "metadata": {},
   "source": [
    "In python, constructor inheritance refers to the way in which child classes inherit and can extend the behavior of their parent class constructor.\n",
    "\n",
    "When a child class is created, if the child class does not have its own `__init__` method, it will automatically inherit the constructor of its parent class. This allows the child class to take advantage of the initialization code defined in the parent class constructor."
   ]
  },
  {
   "cell_type": "code",
   "execution_count": 11,
   "id": "6b68aab6-fa7a-4917-b3ff-c084fea16f88",
   "metadata": {},
   "outputs": [
    {
     "name": "stdout",
     "output_type": "stream",
     "text": [
      "Animal constructor called\n",
      "Dog constructor called\n"
     ]
    }
   ],
   "source": [
    "class Animal:\n",
    "    def __init__(self,species):\n",
    "        self.species=species\n",
    "        print(\"Animal constructor called\")\n",
    "class Dog(Animal):\n",
    "    def __init__(self,species,name):\n",
    "        super().__init__(species)\n",
    "        self.name=name\n",
    "        print(\"Dog constructor called\")\n",
    "dog=Dog(\"Canine\",\"Buddy\")"
   ]
  },
  {
   "cell_type": "markdown",
   "id": "e85ecd37-6bdb-4d30-b14a-ab4d5ecb6b5f",
   "metadata": {},
   "source": [
    "11. Create a Python class called `Shape` with a method `area()` that calculates the area of a shape. Then, create child classes `Circle` and `Rectangle` that inherit from `Shape` and implement the `area()` method\n",
    "accordingly. Provide an example."
   ]
  },
  {
   "cell_type": "code",
   "execution_count": 17,
   "id": "ef19a167-fb61-4d31-810a-28ecf667ea55",
   "metadata": {},
   "outputs": [
    {
     "name": "stdout",
     "output_type": "stream",
     "text": [
      "Area of circle:78.53981633974483\n",
      "Area of rectangle:12\n"
     ]
    }
   ],
   "source": [
    "import math\n",
    "class Shape:\n",
    "    def area(self):\n",
    "        pass\n",
    "class Circle(Shape):\n",
    "    def __init__(self,radius):\n",
    "        self.radius=radius\n",
    "    def area(self):\n",
    "        return f\"Area of circle:{math.pi*self.radius**2}\"\n",
    "class Rectangle(Shape):\n",
    "    def __init__(self,width,length):\n",
    "        self.width=width\n",
    "        self.length=length\n",
    "    def area(self):\n",
    "        return f\"Area of rectangle:{self.width*self.length}\"\n",
    "c=Circle(5)\n",
    "print(c.area())\n",
    "r=Rectangle(3,4)\n",
    "print(r.area())"
   ]
  },
  {
   "cell_type": "markdown",
   "id": "a695a430-59e0-400e-9dae-c734dd978cfa",
   "metadata": {},
   "source": [
    "12. Explain the use of abstract base classes (ABCs) in Python and how they relate to inheritance. Provide an\n",
    "example using the `abc` module."
   ]
  },
  {
   "cell_type": "markdown",
   "id": "d1c1c9e2-0155-4619-b178-aade7dff0f63",
   "metadata": {},
   "source": [
    "Abstract Base Classes (ABCs) in python provide a way to define abstract methods nd properties that must be implemented by the subclasses. ABCs are used to define a common interface for a group of related classes, ensuring that all subclasses provide specific functinality and behavior.\n",
    "\n",
    "The `abc` module in python provides the tools to create and work with abstract base classes. When a class inherits from a ABC, it must implement all the abstract methods and properties defined in the ABC. If any of the abstract methods are not implemented in the subclass, a 'TypeError' will be raised."
   ]
  },
  {
   "cell_type": "code",
   "execution_count": 21,
   "id": "93a40c29-b3b1-47dd-9707-bc4d90bfa505",
   "metadata": {},
   "outputs": [
    {
     "name": "stdout",
     "output_type": "stream",
     "text": [
      "TypeError: Can't instantiate abstract class Shape with abstract method area\n",
      "Circle area: 78.53981633974483\n",
      "Rectangle area: 12\n"
     ]
    }
   ],
   "source": [
    "import math\n",
    "from abc import ABC, abstractmethod\n",
    "class Shape(ABC):\n",
    "    @abstractmethod\n",
    "    def area(self):\n",
    "        pass\n",
    "class Circle(Shape):\n",
    "    def __init__(self,radius):\n",
    "        self.radius=radius\n",
    "    def area(self):\n",
    "        return math.pi*self.radius**2\n",
    "class Rectangle(Shape):\n",
    "    def __init__(self,width,height):\n",
    "        self.width=width\n",
    "        self.height=height\n",
    "    def area(self):\n",
    "        return self.width*self.height\n",
    "try:\n",
    "    shape=Shape()\n",
    "except TypeError as e:\n",
    "    print(\"TypeError:\",e)\n",
    "circle=Circle(5)\n",
    "reactangle=Rectangle(3,4)\n",
    "print(\"Circle area:\", circle.area())\n",
    "print(\"Rectangle area:\", reactangle.area())"
   ]
  },
  {
   "cell_type": "markdown",
   "id": "4147d61e-d23a-457d-80fc-36d474b14cc8",
   "metadata": {},
   "source": [
    "13. How can you prevent a child class from modifying certain attributes or methods inherited from a parent\n",
    "class in Python?"
   ]
  },
  {
   "cell_type": "markdown",
   "id": "e95a5d6a-929d-4d27-bda1-50d701b469fb",
   "metadata": {},
   "source": [
    "In python, you can prevent a child class from odifying certain attributes or methods inherited from a parent class by making those attributes or methods 'private'. A private attribute or method in python can still be accessed and modified from within the class that defined it, but it cannot be directly accessed or modified from outside the class.\n",
    "\n",
    "To make an attribute or method private in python, simply prefix its name with double underscore('__').\n",
    "For example.,'__attribute' would be private attribute and '__method' would be a private method."
   ]
  },
  {
   "cell_type": "code",
   "execution_count": 24,
   "id": "046fbc41-939d-4a4c-b503-73c55de67ed5",
   "metadata": {},
   "outputs": [
    {
     "name": "stdout",
     "output_type": "stream",
     "text": [
      "I'm public attribute\n",
      "I'm a public method\n",
      "None\n",
      "I'm public attribute\n",
      "I'm a public method\n",
      "None\n",
      "I'm public attribute\n",
      "I'm public attribute - modified by child\n"
     ]
    }
   ],
   "source": [
    "class Parent:\n",
    "    def __init__(self):\n",
    "        self.public_attribute=\"I'm public attribute\"\n",
    "        self.__private_attribute=\"I'm a private attribute\"\n",
    "    def public_method(self):\n",
    "        print(\"I'm a public method\")\n",
    "    def __private_method(self):\n",
    "        print(\"I'm a private attibute\")\n",
    "class Child(Parent):\n",
    "    def modify_parent(self):\n",
    "        self.public_attribute+=\" - modified by child\"\n",
    "        self.__private_attribute=\"new value\" #attribute error\n",
    "        self.__private_attribute #attribute error\n",
    "parent=Parent()\n",
    "child=Child()\n",
    "print(parent.public_attribute)\n",
    "print(parent.public_method())\n",
    "print(child.public_attribute)\n",
    "print(child.public_method())\n",
    "child.modify_parent()\n",
    "print(parent.public_attribute)\n",
    "print(child.public_attribute)"
   ]
  },
  {
   "cell_type": "markdown",
   "id": "52158859-22d3-44ff-9daa-0bac6646eaab",
   "metadata": {},
   "source": [
    "14. Create a Python class called `Employee` with attributes `name` and `salary`. Then, create a child class\n",
    "`Manager` that inherits from `Employee` and adds an attribute `department`. Provide an example."
   ]
  },
  {
   "cell_type": "code",
   "execution_count": 28,
   "id": "987d1d50-1e1f-4219-a938-c69f1d43967f",
   "metadata": {},
   "outputs": [
    {
     "name": "stdout",
     "output_type": "stream",
     "text": [
      "Praveen\n",
      "1cr\n",
      "Data Science\n"
     ]
    }
   ],
   "source": [
    "class Employee:\n",
    "    def __init__(self,name,salary):\n",
    "        self.name=name\n",
    "        self.salary=salary\n",
    "class Manager(Employee):\n",
    "    def __init__(self,name,salary,department):\n",
    "        super().__init__(name,salary)\n",
    "        self.department=department\n",
    "e1=Employee(\"Praveen\",\"1cr\")\n",
    "m1=Manager(e1.name,e1.salary,\"Data Science\")\n",
    "print(m1.name)\n",
    "print(m1.salary)\n",
    "print(m1.department)"
   ]
  },
  {
   "cell_type": "markdown",
   "id": "542741d5-d7a7-4b24-8dd2-2e09f5931490",
   "metadata": {},
   "source": [
    "15. Discuss the concept of method overloading in Python inheritance. How does it differ from method\n",
    "overriding?"
   ]
  },
  {
   "cell_type": "markdown",
   "id": "fdb6bcee-b8ff-4275-a67f-4faaf3eb688d",
   "metadata": {},
   "source": [
    "Method overloading refers to the ability to define multiple mehods in a class with the same name but different parameter types of different number of parameters."
   ]
  },
  {
   "cell_type": "code",
   "execution_count": 30,
   "id": "ae7cace8-7a2b-4416-a3b6-33d035b88b74",
   "metadata": {},
   "outputs": [
    {
     "name": "stdout",
     "output_type": "stream",
     "text": [
      "Method with one parameter: 1\n",
      "Methods with two parameters: 1 2\n"
     ]
    }
   ],
   "source": [
    "class MyClass:\n",
    "    def my_method(self,param1,param2=None):\n",
    "        if param2 is not None:\n",
    "            print(\"Methods with two parameters:\", param1, param2)\n",
    "        else:\n",
    "            print(\"Method with one parameter:\",param1)\n",
    "obj=MyClass()\n",
    "obj.my_method(1)\n",
    "obj.my_method(1,2)"
   ]
  },
  {
   "cell_type": "markdown",
   "id": "d12210ac-adb3-4813-ab8f-d7391e5f2511",
   "metadata": {},
   "source": [
    "Method overriding refers to the ability of a subclass to provide a specific implementation of a method that is already defined in its superclass. When a method in a subclass has the same name, same parameter list, and same return type as a method in its superclass, it is said to override the method of the parent class."
   ]
  },
  {
   "cell_type": "code",
   "execution_count": 32,
   "id": "f335ca85-2298-4345-a291-25d9b7208a65",
   "metadata": {},
   "outputs": [
    {
     "name": "stdout",
     "output_type": "stream",
     "text": [
      "Child's method\n"
     ]
    }
   ],
   "source": [
    "class Parent:\n",
    "    def my_method(self):\n",
    "        print(\"Parent's method\")\n",
    "class Child(Parent):\n",
    "    def my_method(self):\n",
    "        print(\"Child's method\")\n",
    "obj=Child()\n",
    "obj.my_method()"
   ]
  },
  {
   "cell_type": "markdown",
   "id": "f3a3b0df-36c2-4ec4-b46f-0b400779da42",
   "metadata": {},
   "source": [
    "16. Explain the purpose of the `__init__()` method in Python inheritance and how it is utilized in child classes."
   ]
  },
  {
   "cell_type": "markdown",
   "id": "bce6811f-4866-4122-bc65-d14f0360ae3a",
   "metadata": {},
   "source": [
    "The purpose of `__init__()` method in python inheritance is to initialize the attributes of an object when it is created. This method allows you to specify initial values for the object's attributes, and it is often used to set up the initial state of the object by assigning values to instance variables.\n",
    "\n",
    "When a child class inherits from a parent class, the child class can define its own `__init__()` method to perform additional initialization specific to the child clas, while retainingf the ability to utilize the initialization logic defined in the parent class"
   ]
  },
  {
   "cell_type": "code",
   "execution_count": 1,
   "id": "0bb2ded9-7e59-4441-93ae-90cf8c4ac2e6",
   "metadata": {},
   "outputs": [
    {
     "name": "stdout",
     "output_type": "stream",
     "text": [
      "Parent's __init__ method\n",
      "Alice\n",
      "10\n"
     ]
    }
   ],
   "source": [
    "class Parent:\n",
    "    def __init__(self,name):\n",
    "        self.name=name\n",
    "        print(\"Parent's __init__ method\")\n",
    "class Child(Parent):\n",
    "    def __init__(self,name,age):\n",
    "        super().__init__(name)\n",
    "        self.age=age\n",
    "child=Child(\"Alice\",10)\n",
    "print(child.name)\n",
    "print(child.age)"
   ]
  },
  {
   "cell_type": "markdown",
   "id": "a3e239b9-8dfe-46b6-86e3-3380c97f9c91",
   "metadata": {},
   "source": [
    "17. Create a Python class called `Bird` with a method `fly()`. Then, create child classes `Eagle` and `Sparrow` that inherit from `Bird` and implement the `fly()` method differently. Provide an example of using these\n",
    "classes."
   ]
  },
  {
   "cell_type": "code",
   "execution_count": 2,
   "id": "12781500-5035-4cd7-9fd9-adfedfe0ec34",
   "metadata": {},
   "outputs": [
    {
     "name": "stdout",
     "output_type": "stream",
     "text": [
      "Sparrow flies!\n"
     ]
    }
   ],
   "source": [
    "class Bird:\n",
    "    def fly(self):\n",
    "        pass\n",
    "class Eagle(Bird):\n",
    "    def fly(self):\n",
    "        print(\"Eagle flies!\")\n",
    "class Sparrow(Bird):\n",
    "    def fly(self):\n",
    "        print(\"Sparrow flies!\")\n",
    "s=Sparrow()\n",
    "s.fly()"
   ]
  },
  {
   "cell_type": "markdown",
   "id": "b79d9f34-ea4a-4250-acd9-6dd08d04db58",
   "metadata": {},
   "source": [
    "18. What is the \"diamond problem\" in multiple inheritance, and how does Python address it?"
   ]
  },
  {
   "cell_type": "markdown",
   "id": "2feeb5d0-8da0-4916-b7ea-ceacb7d5e418",
   "metadata": {},
   "source": [
    "The \"diamond problem\" is a common issue that arises in languages that support multiple inheritance, such as python. It occurs when a class inherits from two classes that have a common ancestor. This results in ambiguity when calling methods or accessing attributes that are inherited  from the common ancestor, as there may be cnflicting implementations or definitions of these methods or attributes in the parent classes."
   ]
  },
  {
   "cell_type": "code",
   "execution_count": 3,
   "id": "c3c9811b-084b-4674-a6dd-caa699b608bf",
   "metadata": {},
   "outputs": [
    {
     "name": "stdout",
     "output_type": "stream",
     "text": [
      "B method\n"
     ]
    }
   ],
   "source": [
    "class A:\n",
    "    def method(self):\n",
    "        print(\"A method\")\n",
    "class B(A):\n",
    "    def method(self):\n",
    "        print(\"B method\")\n",
    "class C(A):\n",
    "    def method(self):\n",
    "        print(\"C method\")\n",
    "class D(B,C):\n",
    "    pass\n",
    "d=D()\n",
    "d.method()"
   ]
  },
  {
   "cell_type": "markdown",
   "id": "3aea4db4-a887-4218-b5d1-12d25e829b4f",
   "metadata": {},
   "source": [
    "Python addresses the diamond problem by incorpating a mechanism called \"Method Resolution Order (MRO)\", which determines the order in which methods and attributes are inherited and resolved on the presence of multiple inheritance. It uses the C3 linearization algorithm to calculate the method resolution order, which is a consistent and predictable order in which classes are considered for method and attribute resolution."
   ]
  },
  {
   "cell_type": "markdown",
   "id": "283b3e7b-fc6a-4ccc-8221-ee5a9c2edf57",
   "metadata": {},
   "source": [
    "19. Discuss the concept of \"is-a\" and \"has-a\" relationships in inheritance, and provide examples of each."
   ]
  },
  {
   "cell_type": "markdown",
   "id": "64b3ff2a-c8c7-4a2d-accd-183bddcca5cd",
   "metadata": {},
   "source": [
    "The concepts of \"is-a\" and \"has-a\" relationships in inheritance are fundamental to understanding the principles of object-oriented programming. These relationships helps to define the nature and composition of classes and how they relate to each other."
   ]
  },
  {
   "cell_type": "markdown",
   "id": "4e3501d1-7a5c-4852-b314-c800eef59ea3",
   "metadata": {},
   "source": [
    "\"Is-a\" relationship: In an \"is-a\" relationship, inheritance is used to model a class as a specialized version of another class. This relationship implies that an object of a derived class \"is-a\" type of the base class. It represents a more specific type of the base class and inherits its behavior and attributes."
   ]
  },
  {
   "cell_type": "code",
   "execution_count": 5,
   "id": "a2e0037a-d42a-4850-91ea-c0a5d388a751",
   "metadata": {},
   "outputs": [],
   "source": [
    "class Animal:\n",
    "    def __init__(self,name):\n",
    "        self.name=name\n",
    "    def make_sound(self):\n",
    "        pass\n",
    "class Dog(Animal):\n",
    "    def make_sound(self):\n",
    "        return \"Woof!\"\n",
    "class Cat(Animal):\n",
    "    def make_sound(self):\n",
    "        return \"Meow!\"\n",
    "#'Dog' \"is-a\" type of 'Animal'\n",
    "#'Cat' \"is-a\" type of 'Animal'"
   ]
  },
  {
   "cell_type": "markdown",
   "id": "c7c3aa6f-0f1c-41e3-ba9e-c0d4b3e86c04",
   "metadata": {},
   "source": [
    "\"Has-a\" relationship: In a \"has-a\" relationship, composition is used to model a class that contains another class as a part of its structure. This realtionship represents the idea that a class \"has-a\" member of another class as one of its components."
   ]
  },
  {
   "cell_type": "code",
   "execution_count": 6,
   "id": "334e8c91-0a4d-4102-a9f0-b30011695c27",
   "metadata": {},
   "outputs": [],
   "source": [
    "class Engine:\n",
    "    def start(self):\n",
    "        print(\"Engine started\")\n",
    "    def stop(self):\n",
    "        print(\"Engine stopped\")\n",
    "class Car:\n",
    "    def __init__(self):\n",
    "        self.engine=Engine()\n",
    "    def start(self):\n",
    "        self.engine.start()\n",
    "    def stop(self):\n",
    "        self.engine.stop()"
   ]
  },
  {
   "cell_type": "markdown",
   "id": "b6a4c64d-dfd5-4d19-8a03-aaa8f662718e",
   "metadata": {},
   "source": [
    "In this example, the `Car` class \"has-a\" relationship with the `Engine` class, as it contains an instance of the `Engine` class as one of its attributes. This composition represents the idea that a `Car` has a `Engine` as one of its components."
   ]
  },
  {
   "cell_type": "markdown",
   "id": "6e86b7c6-4fc6-4944-bdba-154c25bcc60d",
   "metadata": {},
   "source": [
    "20. Create a Python class hierarchy for a university system. Start with a base class `Person` and create child\n",
    "classes `Student` and `Professor`, each with their own attributes and methods. Provide an example of using\n",
    "these classes in a university context."
   ]
  },
  {
   "cell_type": "code",
   "execution_count": 8,
   "id": "f22dbcaa-f92a-4adb-bdf8-8a0c9531b2c6",
   "metadata": {},
   "outputs": [
    {
     "name": "stdout",
     "output_type": "stream",
     "text": [
      "Name:Praveen,Age:19\n",
      "Name:Dr. Karan,Age:45\n",
      "Praveen enrolled in Humanology\n",
      "Dr. Karan assigned a grade of A to Praveen for Humanology\n"
     ]
    }
   ],
   "source": [
    "class Person:\n",
    "    def __init__(self,name,age):\n",
    "        self.name=name\n",
    "        self.age=age\n",
    "    def get_info(self):\n",
    "        return f\"Name:{self.name},Age:{self.age}\"\n",
    "class Student(Person):\n",
    "    def __init__(self,name,age,roll_no):\n",
    "        super().__init__(name,age)\n",
    "        self.roll_no=roll_no\n",
    "    def course(self,course):\n",
    "        print(f\"{self.name} enrolled in {course}\")\n",
    "class Professor(Person):\n",
    "    def __init__(self,name,age,department):\n",
    "        super().__init__(name,age)\n",
    "        self.department=department\n",
    "    def assign_grade(self,student,course,grade):\n",
    "        print(f\"{self.name} assigned a grade of {grade} to {student} for {course}\")\n",
    "student1=Student(\"Praveen\",19,\"A123\")\n",
    "professor1=Professor(\"Dr. Karan\",45,\"Biology\")\n",
    "print(student1.get_info())\n",
    "print(professor1.get_info())\n",
    "student1.course(\"Humanology\")\n",
    "professor1.assign_grade(\"Praveen\",\"Humanology\",\"A\")"
   ]
  },
  {
   "cell_type": "markdown",
   "id": "65168c7e-a4a5-4898-af33-290b0be8bdd3",
   "metadata": {},
   "source": [
    "Encapsulation:"
   ]
  },
  {
   "cell_type": "markdown",
   "id": "32053540-db83-4ff5-a6ac-ac63d216488f",
   "metadata": {},
   "source": [
    "1. Explain the concept of encapsulation in Python. What is its role in object-oriented programming?"
   ]
  },
  {
   "cell_type": "markdown",
   "id": "9bafa75a-a447-4c0b-9258-193e750eae48",
   "metadata": {},
   "source": [
    "Encapsulation in python is the concept of bundling the data (attributes) and methods (functions) that operate on the data into a single unit, which is known as class.\n",
    "\n",
    "In the context of object-oriented programming, encapsulation plays a key role in ensuring that the internal state of an object is accessible and modifiable only through the defined interface of the class. This means that the implementaion details of a class are hidden from the outside world, and only necessary mathods are exposed for interacting with the object."
   ]
  },
  {
   "cell_type": "markdown",
   "id": "a4205547-d317-4b93-a628-ef1f13926818",
   "metadata": {},
   "source": [
    "2. Describe the key principles of encapsulation, including access control and data hiding."
   ]
  },
  {
   "cell_type": "markdown",
   "id": "583e48ab-278c-4c39-a478-ede8ec6a1fc5",
   "metadata": {},
   "source": [
    "The key principle of encapsulation are:\n",
    "1. Access control:-\n",
    "- Access control refers to the ability to restrict the visibility and accessibility of certain attributes and methods within aclass.\n",
    "- In object-oriented programming, access control is typically implemented using access modifiers to specify the level of access to class members.\n",
    "- In Python, access control is not enforced as strictly as in some other languages, but there are conventions for denoting the intended lavel of access:\n",
    "    + Public members: These are accessible from outside the class. In python, all members are public by default, meaning they can be acccessed from outside the class.\n",
    "    + Protected members: These are intended for use within the class and its subclasses. In python, members with a single leading underscore(e.g., '_variable') are considerd protected, but this is only a convention, and the members can still be accessed from outside the class.\n",
    "    + Private members: These are intended to be accessed only within the class. In python, members with a double leading underscore(e.g., '__variable') are considered private, but it's important to note that python does not actually enforce strict private access, and such members can still be accessed using name mangling.\n",
    "    \n",
    "2. Data hiding:-\n",
    "- Data hiding involves the concept of restricting direct access to the internal data of a class, or hiding the implementation details from the outside world.\n",
    "- By hiding data, a class can ensure that its internal state is accessed and modified only through specified methods, which provide a controlled interface to the outside world.\n",
    "- Data hiding helps to prevent unintended modification of the internal state, maintain consistency, and ensure the integrity of the object's data.\n",
    "- In python, data hiding is typically acjieved by denoting members as private(e.g., using double underscoe prefix), but it's impotant to note that python's approach to data hiding is more about convention and recommendation rather than strict enforcement."
   ]
  },
  {
   "cell_type": "markdown",
   "id": "d7178135-d076-4d41-8d26-bb4401d9af30",
   "metadata": {},
   "source": [
    "3. How can you achieve encapsulation in Python classes? Provide an example."
   ]
  },
  {
   "cell_type": "markdown",
   "id": "206839ee-f6be-4df0-8d46-8deed7fca04e",
   "metadata": {},
   "source": [
    "In python, encapsulation can be achieved through the use of access control and data hiding techniques. While python does not enforce strict access control and data hiding like sime other object-oriented programming languages, it sill provides mechanisms for implementing encapsulation."
   ]
  },
  {
   "cell_type": "code",
   "execution_count": 10,
   "id": "b06d9a29-911d-418b-969b-f2fb683e8010",
   "metadata": {},
   "outputs": [
    {
     "name": "stdout",
     "output_type": "stream",
     "text": [
      "Attribute Error: 'BankAccount' object has no attribute '__balance'\n",
      "15003000\n",
      "Account number:123456, Balance:15003000\n"
     ]
    }
   ],
   "source": [
    "class BankAccount:\n",
    "    def __init__(self,account_number,balance):\n",
    "        self.__account_number=account_number\n",
    "        self.__balance=balance\n",
    "    def deposit(self,amount):\n",
    "        if amount>0:\n",
    "            self.__balance+=amount\n",
    "    def withdraw(self,amount):\n",
    "        if amount<=self.__balance and amount>0:\n",
    "            self.__balance-=amount\n",
    "    def get_balance(self):\n",
    "        return self.__balance\n",
    "    def get_account_info(self):\n",
    "        return f\"Account number:{self.__account_number}, Balance:{self.__balance}\"\n",
    "acc1=BankAccount(\"123456\",15000000)\n",
    "try:\n",
    "    print(acc1.__balance)\n",
    "except AttributeError as a:\n",
    "    print(\"Attribute Error:\",a)\n",
    "acc1.deposit(15000)\n",
    "acc1.withdraw(12000)\n",
    "print(acc1.get_balance())\n",
    "print(acc1.get_account_info())"
   ]
  },
  {
   "cell_type": "markdown",
   "id": "b4d8d783-9f9d-423c-a531-89af021f77cd",
   "metadata": {},
   "source": [
    "4. Discuss the difference between public, private, and protected access modifiers in Python."
   ]
  },
  {
   "cell_type": "markdown",
   "id": "4c76f557-a5c9-490d-b716-335f942f477d",
   "metadata": {},
   "source": [
    "1. Public:\n",
    "- In python, all attributes and methods are considerd public by default. This means that they can be accessed and modified from outside the class without any restrictions.\n",
    "- Public attributes and methods are typically accessed directly, without any special naming conventions or access restrictions.\n",
    "2. Private:\n",
    "- In python, private attributes and methods can be simulated by prefixing their names with a double underscore('__').\n",
    "- While these attributes and methods are not truly private and can still be accessed from outside the class, their names are \"mangled\" to include the class name. This makes it more difficult to access them from outside the class, effictively encouraging data hiding and encapsulation.\n",
    "3. Protected:\n",
    "- In python, protected attributes and methods can be simulated by prefixing their names with a single underscore('_').\n",
    "- This convention is meant to indicate to other developers that a particular attribute or method is intended for internal use within the class or its ubclass, but it does not enforce any access control mechanisms."
   ]
  },
  {
   "cell_type": "markdown",
   "id": "8a6df352-5335-4ff6-9a3e-3a980ea641f2",
   "metadata": {},
   "source": [
    "5. Create a Python class called `Person` with a private attribute `__name`. Provide methods to get and set the\n",
    "name attribute."
   ]
  },
  {
   "cell_type": "code",
   "execution_count": 11,
   "id": "4c03d994-858c-4df2-ab88-b92cac80f78d",
   "metadata": {},
   "outputs": [
    {
     "name": "stdout",
     "output_type": "stream",
     "text": [
      "Praveen\n",
      "Tak\n"
     ]
    }
   ],
   "source": [
    "class Person:\n",
    "    def __init__(self,name):\n",
    "        self.__name=name\n",
    "    def get_name(self):\n",
    "        return self.__name\n",
    "    def set_name(self,newname):\n",
    "        self.__name=newname\n",
    "person1=Person(\"Praveen\")\n",
    "print(person1.get_name())\n",
    "person1.set_name(\"Tak\")\n",
    "print(person1.get_name())"
   ]
  },
  {
   "cell_type": "markdown",
   "id": "ab11d652-1889-45a1-a457-b6ddc206b041",
   "metadata": {},
   "source": [
    "6. Explain the purpose of getter and setter methods in encapsulation. Provide examples."
   ]
  },
  {
   "cell_type": "markdown",
   "id": "3a37dc56-148f-4ea9-ac5c-1e073d99077f",
   "metadata": {},
   "source": [
    "Getter and setter methods are used to achieve enapsulation by providing controlled access to the attributes of a class, allowing for data validation, logic enforcement and maintenance of the class's internal state\n",
    "1. Purpose of getter methods(Accessors):\n",
    "- Getter methods are used to retrieve the values of private attributes from a class, providing read-only accesss to the attribute's value.\n",
    "- They allow controlle access to the attribute, enabling data validation or additional processing before returning the attribute's value.\n",
    "- Getter methods are useful for enforcing logic and adding additional functionality when getting the attribute's value."
   ]
  },
  {
   "cell_type": "code",
   "execution_count": 1,
   "id": "0df0f179-0957-49b3-bb6f-2ae216c11136",
   "metadata": {},
   "outputs": [
    {
     "data": {
      "text/plain": [
       "'John'"
      ]
     },
     "execution_count": 1,
     "metadata": {},
     "output_type": "execute_result"
    }
   ],
   "source": [
    "class Person:\n",
    "    def __init__(self,name):\n",
    "        self.__name=name\n",
    "    #Getter method to retrieve the name attribute\n",
    "    def get_name(self):\n",
    "        return self.__name\n",
    "p=Person(\"John\")\n",
    "p.get_name()"
   ]
  },
  {
   "cell_type": "markdown",
   "id": "25554377-8245-4857-8773-073601f6014b",
   "metadata": {},
   "source": [
    "2. Purpose of setter methods(Mutators):\n",
    "- Setter methods are used to modify the values of private attributes from a class, providing controlled write access to the attribute's value.\n",
    "- They allow for data validation, logic enforcement and maintenance of the class's internal state when setting the attribute's value.\n",
    "- Setter methods can enforce contraints, perform validations and trigger actions when the attribute is updated."
   ]
  },
  {
   "cell_type": "code",
   "execution_count": 1,
   "id": "e075a6aa-60ee-45b0-9141-fa5357f2df09",
   "metadata": {},
   "outputs": [
    {
     "data": {
      "text/plain": [
       "'Hello'"
      ]
     },
     "execution_count": 1,
     "metadata": {},
     "output_type": "execute_result"
    }
   ],
   "source": [
    "class Person:\n",
    "    def __init__(self,name):\n",
    "        self.__name=name\n",
    "    #Setter method to update the name attribute\n",
    "    def set_name(self,new_name):\n",
    "        #Add validation logic if needed\n",
    "        if new_name:\n",
    "            self.__name=new_name\n",
    "    def get_name(self):\n",
    "        return self.__name\n",
    "p1=Person(\"John\")\n",
    "p1.set_name(\"Hello\")\n",
    "p1.get_name()"
   ]
  },
  {
   "cell_type": "markdown",
   "id": "6eb0d83a-2255-4c7c-a40b-f31f5ac62aeb",
   "metadata": {},
   "source": [
    "7. What is name mangling in Python, and how does it affect encapsulation?"
   ]
  },
  {
   "cell_type": "markdown",
   "id": "f88832b0-7b9a-4ca6-a394-a234cf883768",
   "metadata": {},
   "source": [
    "Name mangling in Python is a mechanism that allows class attributes to be \"mangled\" or prefixed with a double underscore('__') when the class is defined. This process alters the attribute name, naking them less accessible from outside the class and preventing accidental access or overriding by subclasses or external code.\n",
    "\n",
    "When a class attribute is prefixed with a double underscore(e.g., '__attribute'), Python internally renames the attribute by prepending the class name to the attribute name. This renaming process is known as name mangling. For example, if the class name is 'ClassName' and the attribute name is '__attribute', Python internally renames it to '_ClassName__attribute'.\n",
    "\n",
    "Name mangling affects encapsulation by providing a form of access control and preventing direct access to the mangled attributes from outside the class. It helps in maintaining the internal integrity of the class and its attributes, reducing the risk of unintended modification or access from external code."
   ]
  },
  {
   "cell_type": "code",
   "execution_count": 3,
   "id": "07568ecf-fbb5-4d4c-a22d-d3a6777e8798",
   "metadata": {},
   "outputs": [
    {
     "name": "stdout",
     "output_type": "stream",
     "text": [
      "Attribute Error: 'MyClass' object has no attribute '__private_attribute'\n",
      "10\n"
     ]
    }
   ],
   "source": [
    "class MyClass:\n",
    "    def __init__(self):\n",
    "        self.__private_attribute=10\n",
    "        #Mangled attribute\n",
    "obj=MyClass()\n",
    "try:\n",
    "    print(obj.__private_attribute)\n",
    "except AttributeError as a:\n",
    "    print(\"Attribute Error:\",a)\n",
    "print(obj._MyClass__private_attribute)"
   ]
  },
  {
   "cell_type": "markdown",
   "id": "ae3af90f-4199-4319-bb81-ea80fc279522",
   "metadata": {},
   "source": [
    "8. Create a Python class called `BankAccount` with private attributes for the account balance (`__balance`) and account number (`__account_number`). Provide methods for depositing and withdrawing money."
   ]
  },
  {
   "cell_type": "code",
   "execution_count": 10,
   "id": "48214cf5-d799-4184-a1f8-85ada8125a2b",
   "metadata": {},
   "outputs": [
    {
     "name": "stdout",
     "output_type": "stream",
     "text": [
      "Amount 15222 is deposited in 123456\n",
      "Amount 1200 is withdrawl from 123456\n",
      "15014022\n"
     ]
    }
   ],
   "source": [
    "class BankAccount:\n",
    "    def __init__(self,balance,account_number):\n",
    "        self.__balance=balance\n",
    "        self.__account_number=account_number\n",
    "    def deposit(self,amount):\n",
    "        if amount>0:\n",
    "            self.__balance+=amount\n",
    "            return f\"Amount {amount} is deposited in {self.__account_number}\"\n",
    "    def withdraw(self,amount):\n",
    "        if amount<=self.__balance:\n",
    "            self.__balance-=amount\n",
    "            return f\"Amount {amount} is withdrawl from {self.__account_number}\"\n",
    "account1=BankAccount(15000000,123456)\n",
    "print(account1.deposit(15222))\n",
    "print(account1.withdraw(1200))\n",
    "print(account1._BankAccount__balance)"
   ]
  },
  {
   "cell_type": "markdown",
   "id": "4c87b47e-a741-49f5-892c-1f481ab309e3",
   "metadata": {},
   "source": [
    "9. Discuss the advantages of encapsulation in terms of code maintainability and security."
   ]
  },
  {
   "cell_type": "markdown",
   "id": "f8c3dcb8-1ce8-45d2-8b36-9eb13fc0d71c",
   "metadata": {},
   "source": [
    "1. Code maintainability:\n",
    "- Encapsulation helps in managing complexity by hiding the internal workings of an object and exposing only the necessary information through a well-defined interface. This reduces the likelihood if unintended interactions with the object's internal state and makes it easier to understand and use the class in a consistent manner.\n",
    "- Changes to the internal implementations of a class can be made without affecting teh code that uses the class, as long as the public interface remains unchanged. This facilities easier maintenance, refactoring and evlution of the codebase without causing ripple effects across the entire system.\n",
    "\n",
    "2. Security:\n",
    "- Encapsulation provides a level of security by preventing direct access to the internal state of an object from outside the class. By controlling access to data and methods, encapsulation helps to validate inuts, maintain invariants and prevent unauthorized modification to the object's state.\n",
    "- In many cases, encapsulation allows you to enforce data integrity and validation rules, ensuring that the object remains in a consistent and valid state. This is particularly important in environments where data security and integrity are critical, such as in cryptographic algorithms or financial transactions."
   ]
  },
  {
   "cell_type": "markdown",
   "id": "51b4ead2-a371-49c6-b340-4d743d306835",
   "metadata": {},
   "source": [
    "10. How can you access private attributes in Python? Provide an example demonstrating the use of name\n",
    "mangling."
   ]
  },
  {
   "cell_type": "markdown",
   "id": "aa591eb1-bd81-4d30-8154-8d968636d21e",
   "metadata": {},
   "source": [
    "In Python, private attributes can be accessed using a feature called name mangling. Name mangling is a technique that allows private attributes to be accessed from outside the class by using a specific naming convention."
   ]
  },
  {
   "cell_type": "code",
   "execution_count": 1,
   "id": "8a09382c-03c6-4eb8-aa10-8abc0c054857",
   "metadata": {},
   "outputs": [
    {
     "name": "stdout",
     "output_type": "stream",
     "text": [
      "10\n"
     ]
    }
   ],
   "source": [
    "class MyClass:\n",
    "    def __init__(self):\n",
    "        self.__private_attribute=10\n",
    "    def get_private_attribute(self):\n",
    "        return self.__private_attribute\n",
    "obj=MyClass()\n",
    "print(obj._MyClass__private_attribute)"
   ]
  },
  {
   "cell_type": "markdown",
   "id": "8b3fe37b-4088-49fe-9ed5-8c54a65921c1",
   "metadata": {},
   "source": [
    "11. Create a Python class hierarchy for a school system, including classes for students, teachers, and courses,\n",
    "and implement encapsulation principles to protect sensitive information."
   ]
  },
  {
   "cell_type": "code",
   "execution_count": 5,
   "id": "be3d2836-335c-47a6-98c1-2b1b58c05220",
   "metadata": {},
   "outputs": [
    {
     "name": "stdout",
     "output_type": "stream",
     "text": [
      "Name:Praveen, Courses:Data Science\n",
      "Name:Sudhanshu Sir, Courses:['Data Science', 'MERN Stack', 'Business Analytics']\n",
      "Course name:['Data Science', 'MERN Stack', 'Business Analytics'], Fee:12000\n"
     ]
    }
   ],
   "source": [
    "class School:\n",
    "    def __init__(self,courses):\n",
    "        self.courses=courses\n",
    "    def fees(self):\n",
    "        pass\n",
    "class Students(School):\n",
    "    def __init__(self,courses,roll_no):\n",
    "        super().__init__(courses)\n",
    "        self.roll_no=roll_no\n",
    "    def student_info(self,name):\n",
    "        return f\"Name:{name}, Courses:{self.courses}\"\n",
    "class Teachers(School):\n",
    "    def __init__(self,courses,salary):\n",
    "        super().__init__(courses)\n",
    "        self.salary=salary\n",
    "    def teacher_info(self,name):\n",
    "        return f\"Name:{name}, Courses:{self.courses}\"\n",
    "class Courses(School):\n",
    "    def __init__(self,courses):\n",
    "        super().__init__(courses)\n",
    "    def fees(self,fee):\n",
    "        return f\"Course name:{self.courses}, Fee:{fee}\"\n",
    "school=School(['Data Science','MERN Stack','Business Analytics'])\n",
    "student=Students(\"Data Science\",12345)\n",
    "print(student.student_info(\"Praveen\"))\n",
    "teacher=Teachers(['Data Science','MERN Stack','Business Analytics'],1500000)\n",
    "print(teacher.teacher_info(\"Sudhanshu Sir\"))\n",
    "courses=Courses(['Data Science','MERN Stack','Business Analytics'])\n",
    "print(courses.fees(12000))"
   ]
  },
  {
   "cell_type": "markdown",
   "id": "948727c5-b574-4ea1-9c1b-b1cd2cec1848",
   "metadata": {},
   "source": [
    "12. Explain the concept of property decorators in Python and how they relate to encapsulation."
   ]
  },
  {
   "cell_type": "markdown",
   "id": "21c9e8f1-7ff9-4245-bd64-ee62d7d24ecb",
   "metadata": {},
   "source": [
    "The concept of property decorators in python is realted to encapsulation because it allows developers to encapsulate their class's data attribute, witout exposing them directly, by defining getter and setter methods(also called accessors and mutators) for access to these attributes in a controlled way.\n",
    "\n",
    "Propert decorators provide a mechanism for encapsulating class attributes in python by allowing you to control the way in which they are accessed. By using property decorators, you can define whenever the attribute is accessed or modified. The '@property' decorator is used to define a getter method for the attribute, and the '@attribute_name.setter' decorator (where 'attribute_name is the name of the attribute) is used to define a setter method."
   ]
  },
  {
   "cell_type": "code",
   "execution_count": 13,
   "id": "147679ab-0068-4e5e-85d2-f5c1e6de2acb",
   "metadata": {},
   "outputs": [
    {
     "name": "stdout",
     "output_type": "stream",
     "text": [
      "10\n",
      "20\n"
     ]
    },
    {
     "ename": "ValueError",
     "evalue": "Attribute value cannot be negative",
     "output_type": "error",
     "traceback": [
      "\u001b[0;31m---------------------------------------------------------------------------\u001b[0m",
      "\u001b[0;31mValueError\u001b[0m                                Traceback (most recent call last)",
      "Cell \u001b[0;32mIn[13], line 17\u001b[0m\n\u001b[1;32m     15\u001b[0m obj\u001b[38;5;241m.\u001b[39mprivate_attr\u001b[38;5;241m=\u001b[39m\u001b[38;5;241m20\u001b[39m\n\u001b[1;32m     16\u001b[0m \u001b[38;5;28mprint\u001b[39m(obj\u001b[38;5;241m.\u001b[39m_MyClass__private_attr)\n\u001b[0;32m---> 17\u001b[0m \u001b[43mobj\u001b[49m\u001b[38;5;241;43m.\u001b[39;49m\u001b[43mprivate_attr\u001b[49m\u001b[38;5;241m=\u001b[39m\u001b[38;5;241m-\u001b[39m\u001b[38;5;241m5\u001b[39m\n",
      "Cell \u001b[0;32mIn[13], line 10\u001b[0m, in \u001b[0;36mMyClass.private_attr\u001b[0;34m(self, value)\u001b[0m\n\u001b[1;32m      7\u001b[0m \u001b[38;5;129m@private_attr\u001b[39m\u001b[38;5;241m.\u001b[39msetter\n\u001b[1;32m      8\u001b[0m \u001b[38;5;28;01mdef\u001b[39;00m \u001b[38;5;21mprivate_attr\u001b[39m(\u001b[38;5;28mself\u001b[39m,value):\n\u001b[1;32m      9\u001b[0m     \u001b[38;5;28;01mif\u001b[39;00m value\u001b[38;5;241m<\u001b[39m\u001b[38;5;241m0\u001b[39m:\n\u001b[0;32m---> 10\u001b[0m         \u001b[38;5;28;01mraise\u001b[39;00m \u001b[38;5;167;01mValueError\u001b[39;00m(\u001b[38;5;124m\"\u001b[39m\u001b[38;5;124mAttribute value cannot be negative\u001b[39m\u001b[38;5;124m\"\u001b[39m)\n\u001b[1;32m     11\u001b[0m     \u001b[38;5;28;01melse\u001b[39;00m:\n\u001b[1;32m     12\u001b[0m         \u001b[38;5;28mself\u001b[39m\u001b[38;5;241m.\u001b[39m__private_attr\u001b[38;5;241m=\u001b[39mvalue\n",
      "\u001b[0;31mValueError\u001b[0m: Attribute value cannot be negative"
     ]
    }
   ],
   "source": [
    "class MyClass:\n",
    "    def __init__(self):\n",
    "        self.__private_attr=10\n",
    "    @property\n",
    "    def private_attr(self):\n",
    "        self.__private_attr\n",
    "    @private_attr.setter\n",
    "    def private_attr(self,value):\n",
    "        if value<0:\n",
    "            raise ValueError(\"Attribute value cannot be negative\")\n",
    "        else:\n",
    "            self.__private_attr=value\n",
    "obj=MyClass()\n",
    "print(obj._MyClass__private_attr)\n",
    "obj.private_attr=20\n",
    "print(obj._MyClass__private_attr)\n",
    "obj.private_attr=-5"
   ]
  },
  {
   "cell_type": "markdown",
   "id": "4e5d88c1-7be4-4249-bbee-6c0bd287c413",
   "metadata": {},
   "source": [
    "13. What is data hiding, and why is it important in encapsulation? Provide examples."
   ]
  },
  {
   "cell_type": "markdown",
   "id": "a0d170d4-21e6-433b-95c5-1dbc40086578",
   "metadata": {},
   "source": [
    "Data hiding is a fundamental concept in object-oriented programming that refers to the practice of restricting access to certain parts of an object or class. By hiding the internal state and implementaion details of a class from the outside world, data hiding helps ensure that the object's internal state is accessed and modified only through well-defined interfaces. This is important in encapsulation because it allows the onject to maintain its integrity and ensures that the object's data is manipulated in a controlled manner."
   ]
  },
  {
   "cell_type": "code",
   "execution_count": 14,
   "id": "8f6223a7-4811-4760-823e-be815452713e",
   "metadata": {},
   "outputs": [
    {
     "name": "stdout",
     "output_type": "stream",
     "text": [
      "12000000\n",
      "12012000\n"
     ]
    },
    {
     "ename": "AttributeError",
     "evalue": "'BankAccount' object has no attribute '__balance'",
     "output_type": "error",
     "traceback": [
      "\u001b[0;31m---------------------------------------------------------------------------\u001b[0m",
      "\u001b[0;31mAttributeError\u001b[0m                            Traceback (most recent call last)",
      "Cell \u001b[0;32mIn[14], line 17\u001b[0m\n\u001b[1;32m     15\u001b[0m acc1\u001b[38;5;241m.\u001b[39mdeposit(\u001b[38;5;241m12000\u001b[39m)\n\u001b[1;32m     16\u001b[0m \u001b[38;5;28mprint\u001b[39m(acc1\u001b[38;5;241m.\u001b[39mget_balance())\n\u001b[0;32m---> 17\u001b[0m \u001b[38;5;28mprint\u001b[39m(\u001b[43macc1\u001b[49m\u001b[38;5;241;43m.\u001b[39;49m\u001b[43m__balance\u001b[49m)\n\u001b[1;32m     18\u001b[0m acc1\u001b[38;5;241m.\u001b[39m__withdraw(\u001b[38;5;241m200\u001b[39m)\n",
      "\u001b[0;31mAttributeError\u001b[0m: 'BankAccount' object has no attribute '__balance'"
     ]
    }
   ],
   "source": [
    "class BankAccount:\n",
    "    def __init__(self,account_number,balance):\n",
    "        self.__account_number=account_number\n",
    "        self.__balance=balance\n",
    "    def get_balance(self):\n",
    "        return self.__balance\n",
    "    def deposit(self,amount):\n",
    "        if amount>0:\n",
    "            self.__balance+=amount\n",
    "    def __withdraw(self,amount):\n",
    "        if amount<=self.__balance:\n",
    "            self.__balance-=amount\n",
    "acc1=BankAccount(123456,12000000)\n",
    "print(acc1.get_balance())\n",
    "acc1.deposit(12000)\n",
    "print(acc1.get_balance())\n",
    "print(acc1.__balance)\n",
    "acc1.__withdraw(200)"
   ]
  },
  {
   "cell_type": "markdown",
   "id": "43f7e0f6-8840-494c-b01a-e4ed6d5ad1db",
   "metadata": {},
   "source": [
    "14. Create a Python class called `Employee` with private attributes for salary (`__salary`) and employee ID (`__employee_id`). Provide a method to calculate yearly bonuses."
   ]
  },
  {
   "cell_type": "code",
   "execution_count": 17,
   "id": "5b2a54c7-5d0f-4539-bad7-7503165011ab",
   "metadata": {},
   "outputs": [
    {
     "name": "stdout",
     "output_type": "stream",
     "text": [
      "Yearly bonus for employee E001 is 5000.0\n"
     ]
    }
   ],
   "source": [
    "class Employee:\n",
    "    def __init__(self,employee_id,salary):\n",
    "        self.__employee_id=employee_id\n",
    "        self.__salary=salary\n",
    "    def calculate_yearly_bonus(self,bonus_percentage):\n",
    "        yearly_bonus=self.__salary*(bonus_percentage/100)\n",
    "        return yearly_bonus\n",
    "emp1=Employee(\"E001\",50000)\n",
    "bonus=emp1.calculate_yearly_bonus(10)\n",
    "print(\"Yearly bonus for employee\",emp1._Employee__employee_id,\"is\",bonus)"
   ]
  },
  {
   "cell_type": "markdown",
   "id": "6fb138a5-bd03-4347-b40e-7d63fb1cda0c",
   "metadata": {},
   "source": [
    "15. Discuss the use of accessors and mutators in encapsulation. How do they help maintain control over\n",
    "attribute access?"
   ]
  },
  {
   "cell_type": "markdown",
   "id": "c5a4648e-cc29-4516-b239-f3503fd6adee",
   "metadata": {},
   "source": [
    "Accessors and mutators helps in encapsulation by providing a controlled interface for accessing and modifying the attributes of a class. Here's how they work:\n",
    "1.Accessors(Getters):\n",
    "- Accessors are methods that are used to return the value of a private attribute from a class. They are typically named with a prefix like \"get\" followed by the attribute name.\n",
    "- Accessors provide read-only access to the private attributes, allowing other parts of the programs t retrieve the value of the attribute wiyhout being able to modify it directly.\n",
    "- By using accessors, the internal representation of the class can be hidden from the outside, allowing the class to change its representation without affecting the code that uses it.\n",
    "\n",
    "2.Mutators(Setters):\n",
    "- Mutators are methods that are used to modify the value of a private attribute within the class. They are typically named with a prefix like \"set\" followed by the attribute name.\n",
    "- Mutators provide a controlled way to modify the state of the object by performing validation, error checking, or any required processing before allowing a change to the attribute's value.\n",
    "- By using mutators, the class can enforce constraints on the values that can be set for its attributes, such as range checks, data validation, or triggering additional actions upon modification."
   ]
  },
  {
   "cell_type": "markdown",
   "id": "61a427fa-f220-4bfd-b214-bc8f4eb2f4dd",
   "metadata": {},
   "source": [
    "16. What are the potential drawbacks or disadvantages of using encapsulation in Python?"
   ]
  },
  {
   "cell_type": "markdown",
   "id": "c4689a81-8802-4c3b-9ab9-bfe545fd550c",
   "metadata": {},
   "source": [
    "Potential drawbacks or disadvantages:\n",
    "i. Overhead: Python does not have built-in support for true data hiding or private members as seen in languages like Java. While python uses naming conventions for private attributes, it does not provide true access control. This means that there is no strict enforcement of encapsulation, and accessing prvate members is still possible, although it is a matter of convention and caution.\n",
    "\n",
    "ii. Flexibilty vs Control: Python emphasizes flrxibilty and simplicity and its philosopy encourages developers to be responsible, rather than enforcing strict rules. While this flexibilty can be benefical, it may also lead to misuse or unintended access to private members.\n",
    "\n",
    "iii. Readability and Complxity: Overuse of encapsulation, especially when defing numerous accessors and mutators for every attribute, can increase the verbosity of the code and make it harder to read and understand.\n",
    "\n",
    "iv. Testing and Mocking: Encapsulation may make it more difficult to test or mock certain components of a class or application, as direct access to private members for testing purposes is not straight forward in python.\n",
    "\n",
    "v. Performance Impact: The use of accessors and mutators(getter and setters) can impact performance, especially in python, which is an interpreted language. In performance critical applications, direct attribute access may br preferred to avoid method all overhead."
   ]
  },
  {
   "cell_type": "markdown",
   "id": "bab4c8c1-bfaf-4fce-9992-29bb0550c7ee",
   "metadata": {},
   "source": [
    "17. Create a Python class for a library system that encapsulates book information, including titles, authors,\n",
    "and availability status."
   ]
  },
  {
   "cell_type": "code",
   "execution_count": 19,
   "id": "a6d6a508-687e-48e2-92da-38f25019ebcf",
   "metadata": {},
   "outputs": [
    {
     "name": "stdout",
     "output_type": "stream",
     "text": [
      "Title of book:Atomic Habits, Author:James Clear, Availiable or not:Avail\n"
     ]
    }
   ],
   "source": [
    "class Library:\n",
    "    def __init__(self,title,author,avail_status):\n",
    "        self.title=title\n",
    "        self.author=author\n",
    "        self.avail_status=avail_status\n",
    "        \n",
    "    def book_info(self):\n",
    "        print(f\"Title of book:{self.title}, Author:{self.author}, Availiable or not:{self.avail_status}\")\n",
    "b=Library(\"Atomic Habits\",\"James Clear\",\"Avail\")\n",
    "b.book_info()"
   ]
  },
  {
   "cell_type": "markdown",
   "id": "91c3fdab-a14c-41a3-a675-af892821b568",
   "metadata": {},
   "source": [
    "18. Explain how encapsulation enhances code reusability and modularity in Python programs."
   ]
  },
  {
   "cell_type": "markdown",
   "id": "bbf86810-6108-446a-8ef5-8a6a28c75a3a",
   "metadata": {},
   "source": [
    "Encapsulation in python enhances code reusability and modularity by promoting a clear separation of concers and defing well-defined interfaces for interactions with objects. Here's how it achieves this:\n",
    "1. Information hiding: Encapsultion allows you to hide the internal state of an object and only expose a limited interface to interact with it. By hiding the implementation details, encapsulation reduces the dependencies betwen differet parts of the code. This allows you to modify the internal structure of an object without affecting the external code that uses it, thus promoting code reusability.\n",
    "\n",
    "2. Abstraction: Encapsulation enables you to define an abstract interface for interacting with an object. This abstraction provides a clear contract for how other parts of the code can interact with the object, allowing for increased modularity. By adhering to the defined interface, different parts of the code can be developed independently and can interact with the encapsulating object without needing to know its internal details.\n",
    "\n",
    "3. Encapsulation of Logic: By encapsulating the implementions details and behavior of an object, encapsulation allows you to define reusable components with well-defined interfaces. This promotes modulrity as these encapsulated components can be used across differnt parts of the codebase without duplication, leading to cleaner, more maintanable code.\n",
    "\n",
    "4. Inheritance and Polymorphism: Encapsulation facilitates the uses of inheritance and polymorphism, which are key concepts in achieving code reusability. By encapsulating the implementation details within classes and leveraging inheritance and polymorphism, you can create hierarchies of classes with shared functionality, promoting code reusablilty and modularity."
   ]
  },
  {
   "cell_type": "markdown",
   "id": "4a23a3e1-fe1c-4eb3-9915-63143839ace1",
   "metadata": {},
   "source": [
    "19. Describe the concept of information hiding in encapsulation. Why is it essential in software development?"
   ]
  },
  {
   "cell_type": "markdown",
   "id": "c7851f53-5805-477f-ad6c-bbaec9d11f77",
   "metadata": {},
   "source": [
    "Information hiding is a concept in encapsulation that involves the restricting the external access to the internal details of a class or object, thereby hiding the implementation dertails and only providing a well-defined interface for interacting with the object.\n",
    "\n",
    "Information hding is essential in software developement for several reasons:\n",
    "1. Modularity: Information hiding facilitates the creation of modular and maintainable coe. By hiding the internal implementation details, each module or object can be developed independently, leading to cleaner and more manageable code.\n",
    "2. Abstraction: It allows developers to define and work with abstract interfaces, focusing on what an object does rather than how it soed it. This abstraction simplifies the interaction with the object and promotes clarity and understanding of the class.\n",
    "3. Encapsultion of Complexity: Information hiding allows developers to encapsulate the complexity of an object, within its boundaries, theerby reducing the cognitive load on other parts of the code that interact with it. This promotes better code organization and improves the overall maintainability of the software."
   ]
  },
  {
   "cell_type": "markdown",
   "id": "40aeaa0b-e41e-4304-8b5b-8f66b9783c2e",
   "metadata": {},
   "source": [
    "20. Create a Python class called `Customer` with private attributes for customer details like name, address,\n",
    "and contact information. Implement encapsulation to ensure data integrity and security."
   ]
  },
  {
   "cell_type": "code",
   "execution_count": 21,
   "id": "4379ba00-885a-4357-b5a5-da19f8f06249",
   "metadata": {},
   "outputs": [
    {
     "data": {
      "text/plain": [
       "'Praveen , Officers enclave , praveentak715@gmail.com , 14589'"
      ]
     },
     "execution_count": 21,
     "metadata": {},
     "output_type": "execute_result"
    }
   ],
   "source": [
    "class Customer:\n",
    "    def __init__(self,name,address,contact_info):\n",
    "        self.__name=name\n",
    "        self.__address=address\n",
    "        self.__contact_info=contact_info\n",
    "    def get_info(self,bill_no):\n",
    "        return f\"{self.__name} , {self.__address} , {self.__contact_info} , {bill_no}\"\n",
    "c=Customer(\"Praveen\",\"Officers enclave\",\"praveentak715@gmail.com\")\n",
    "c.get_info(14589)"
   ]
  },
  {
   "cell_type": "markdown",
   "id": "f303d65e-d1c5-46e0-bed9-358282f82088",
   "metadata": {},
   "source": [
    "Polymorphism:"
   ]
  },
  {
   "cell_type": "markdown",
   "id": "906145bb-e500-449d-bcc8-f5773e5b8fc2",
   "metadata": {},
   "source": [
    "1. What is polymorphism in Python? Explain how it is related to object-oriented programming."
   ]
  },
  {
   "cell_type": "markdown",
   "id": "b59cfdba-75e6-4cf5-b763-fdf5db0db5de",
   "metadata": {},
   "source": [
    "In python, polymorphism is a key feature of object-oriented programming that allows objects of different classes to be treated as objects of a common superclass. This means that different classes can implement the same method or function in differnt ways, and the appropiate implementation is chosen based on the type of object at rumtime.\n",
    "\n",
    "Polymorphism is related to objex=ct-oriented programming in the following ways:\n",
    "1. Method Overriding: Polymorphism allows a subclass to provide a spcific implementation of a method that is already defined in its superclass. When an object calls the overriden method, the specific implementation in the subclass is executed, allowing for class-specific behavior while maintaining a common method signature.\n",
    "\n",
    "2. Method Overloading:While python does not support traditional method overloading by defining multiple methods with the same name but different parameters, polymorphism alllows for the concept of method overloading through the use of default arguments such as *args and **kwargs. This enables a single method name to handle different argument types and numbers, providing flexibility and code simplicity.\n",
    "\n",
    "3. Duck Typing: Python's dynamic typing system and support for duck typing enable polymorphism without requiring explicit interfaces or inhritance. This means the objects are evaluted based on their behavior rather than their type, allowing different objects to be treated interchangeable if they provide the required methods or attributes.\n",
    "\n",
    "4. Abstract Base Classe(ABCs): Python's support for abstract base class allowing for defining interfaces that specify a set of methods that msut be implemented by any class that inherits from them. This promotes polymorphism by defining a common interface for different classes, allowing them to be used interchangeable based on their shared behavior."
   ]
  },
  {
   "cell_type": "markdown",
   "id": "0053738f-35e5-4824-a5cb-5c759fbe4482",
   "metadata": {},
   "source": [
    "2. Describe the difference between compile-time polymorphism and runtime polymorphism in Python."
   ]
  },
  {
   "cell_type": "markdown",
   "id": "b5e78420-ee04-4fb9-9262-37ae6e7ae632",
   "metadata": {},
   "source": [
    "(1) Compile-time polymorphism:\n",
    "- In lnguages like c++ and Java, compile-time polymorphism is achieved through method overloading and operator overloading. Method overloading allows multiple methods with the same name but differnt parameters to be defiond, and the appropiate method is chosen at compile time based on the parameters used.\n",
    "- The compiler resolves the method calls based on the number and types of arguments passed to the method at compile time, and the specific method to be executed is determined during the compilation process.\n",
    "- However, in python, the concept of method overloading and compile-time method overloading and compile-time method resolution is not as prevalent due to its dynamic typic and lack of method signature overloading. Python uses default arguments like *args and **kwargs to achieve a sort of method overloading, but the implementation is resolved at runtime rether than compile time.\n",
    "\n",
    "(2) Runtime polymorphism:\n",
    "- Runtime polymorphism, also known as overriding, is achieved through method overriding in object-oriented programming languages. This llows a subclass to provide a specific implemenatation of a method that is already defined in its superclass.\n",
    "- In python, runtimt polymorphism is achieved through method overriding, where the specific imlementation of a method is determined at runtime based on the type of object calling the method. When an object calls the overriden mrthod, the specifiic imlementation in the subclass is executed, allowing for class-specific behavior while maintaing a common method signature.\n",
    "- Python's dynamic typind and support for duck typing enable runtime polymorphism without requiring explicit interfaces or inheritance, allowing objects to be evaluated based on their behavior rather than their type."
   ]
  },
  {
   "cell_type": "markdown",
   "id": "21a4ff56-ab2b-4110-8fa0-d985c3c1e626",
   "metadata": {},
   "source": [
    "3. Create a Python class hierarchy for shapes (e.g., circle, square, triangle) and demonstrate polymorphism\n",
    "through a common method, such as `calculate_area()`."
   ]
  },
  {
   "cell_type": "code",
   "execution_count": 2,
   "id": "8fff8cab-ee8a-411b-925e-3789366088be",
   "metadata": {},
   "outputs": [
    {
     "name": "stdout",
     "output_type": "stream",
     "text": [
      "The area of shape is 28.274333882308138\n",
      "The area of shape is 4\n",
      "The area of shape is 15.0\n"
     ]
    }
   ],
   "source": [
    "import math\n",
    "class Shapes:\n",
    "    def calculate_area(self):\n",
    "        pass\n",
    "class Circle(Shapes):\n",
    "    def __init__(self,radius):\n",
    "        self.radius=radius\n",
    "    def calculate_area(self):\n",
    "        return math.pi*self.radius**2\n",
    "class Square(Shapes):\n",
    "    def __init__(self,side):\n",
    "        self.side=side\n",
    "    def calculate_area(self):\n",
    "        return self.side**2\n",
    "class Triangle(Shapes):\n",
    "    def __init__(self,base,height):\n",
    "        self.base=base\n",
    "        self.height=height\n",
    "    def calculate_area(self):\n",
    "        return 0.5*self.base*self.height\n",
    "Shapes=[Circle(3),Square(2),Triangle(5,6)]\n",
    "for shape in Shapes:\n",
    "    print(f\"The area of shape is {shape.calculate_area()}\")"
   ]
  },
  {
   "cell_type": "markdown",
   "id": "c0a5ebdd-4339-47fa-958d-fc0349a00b1f",
   "metadata": {},
   "source": [
    "4. Explain the concept of method overriding in polymorphism. Provide an example."
   ]
  },
  {
   "cell_type": "markdown",
   "id": "b26b72c5-b8a4-4599-9102-36f977874000",
   "metadata": {},
   "source": [
    "Method overriding is a concept in object-oriented programming that allows a subclass to provide a specific implementation of a method that is already defined in its superclass. This means that a method is invoked on an object of the subclass, the subclass implementation of the method is used instead of the superclass's implementation. The key idea behind method overriding while still maintaining a common interface with its superclass. This is a powerful feature that promotes code reusability, flexibility, and extensibility in object-oriented systems."
   ]
  },
  {
   "cell_type": "code",
   "execution_count": 2,
   "id": "b8b875da-e4aa-46e5-bfc4-0c9b971d17fd",
   "metadata": {},
   "outputs": [
    {
     "name": "stdout",
     "output_type": "stream",
     "text": [
      "Area of generic shape: None\n",
      "Area of the circle: 78.53981633974483\n"
     ]
    }
   ],
   "source": [
    "import math\n",
    "class Shape:\n",
    "    def calculate_area(self):\n",
    "        pass\n",
    "class Circle(Shape):\n",
    "    def __init__(self,radius):\n",
    "        self.radius=radius\n",
    "    def calculate_area(self):\n",
    "        return math.pi*self.radius**2\n",
    "shape=Shape()\n",
    "circle=Circle(5)\n",
    "print(\"Area of generic shape:\",shape.calculate_area())\n",
    "print(\"Area of the circle:\",circle.calculate_area())"
   ]
  },
  {
   "cell_type": "markdown",
   "id": "3fd45028-58e1-4611-a090-bd7d2228168e",
   "metadata": {},
   "source": [
    "5. How is polymorphism different from method overloading in Python? Provide examples for both."
   ]
  },
  {
   "cell_type": "markdown",
   "id": "74a3296a-5f26-4abd-90e4-ac7a2c6d7a12",
   "metadata": {},
   "source": [
    "In python, metod overloading and polymorphism are related concepts, but they are fundamentally different.\n",
    "\n",
    "Polymorphism is a feature that allows an object to be treated as an instance of its parent class, and it allows different classes to be treated through a uniform interface. This ia achieved through method overriding, where a subclass provides a specific implementation of a method that is already defined in its superclass. Polymorphism allows the same method name to behave different based on the type of object invoking it."
   ]
  },
  {
   "cell_type": "code",
   "execution_count": 4,
   "id": "73f0695b-97ac-4b40-ae58-a7af7db59db8",
   "metadata": {},
   "outputs": [
    {
     "name": "stdout",
     "output_type": "stream",
     "text": [
      "Some generic sound\n",
      "Woof!\n",
      "Meow!\n"
     ]
    }
   ],
   "source": [
    "class Animal:\n",
    "    def make_sound(self):\n",
    "        return \"Some generic sound\"\n",
    "class Dog(Animal):\n",
    "    def make_sound(self):\n",
    "        return \"Woof!\"\n",
    "class Cat(Animal):\n",
    "    def make_sound(self):\n",
    "        return \"Meow!\"\n",
    "animals=[Animal(),Dog(),Cat()]\n",
    "for animal in animals:\n",
    "    print(animal.make_sound())"
   ]
  },
  {
   "cell_type": "markdown",
   "id": "bdf7cc19-51d1-4b4e-a06e-82063b700502",
   "metadata": {},
   "source": [
    "Method overloading involves defining multiple methods with the same name but different parameter lists. In python, method overloading is not supported in the traditional sense, as python does not recognize multiple methods with the same name but differnt parameters a overloads. however, python supports a form of length argument. This means that a single method can be called with differnt numbers of types of parameters , and the method itself is responsible for handling the different cases based on the arguments provided."
   ]
  },
  {
   "cell_type": "code",
   "execution_count": 5,
   "id": "ae9bb2b7-533b-4c7b-a84c-138aeedc17ea",
   "metadata": {},
   "outputs": [
    {
     "name": "stdout",
     "output_type": "stream",
     "text": [
      "Sum: 5\n",
      "Sum: 8\n",
      "Sum: 10\n",
      "Product: 6\n",
      "Product: 24\n"
     ]
    }
   ],
   "source": [
    "class Calculator:\n",
    "    def add(self,a,b=0,c=0):\n",
    "        return a+b+c\n",
    "    def multiply(self,*args):\n",
    "        result=1\n",
    "        for num in args:\n",
    "            result*=num\n",
    "        return result\n",
    "cal=Calculator()\n",
    "print(\"Sum:\",cal.add(5))\n",
    "print(\"Sum:\",cal.add(5,3))\n",
    "print(\"Sum:\",cal.add(5,3,2))\n",
    "print(\"Product:\",cal.multiply(2,3))\n",
    "print(\"Product:\",cal.multiply(2,3,4))"
   ]
  },
  {
   "cell_type": "markdown",
   "id": "a6b66a21-0d9a-4abe-9fa6-92abb34bfc6d",
   "metadata": {},
   "source": [
    "6. Create a Python class called `Animal` with a method `speak()`. Then, create child classes like `Dog`, `Cat`, and `Bird`, each with their own `speak()` method. Demonstrate polymorphism by calling the `speak()` method\n",
    "on objects of different subclasses."
   ]
  },
  {
   "cell_type": "code",
   "execution_count": 7,
   "id": "676b0a31-24ad-4085-8ad9-acd82dcb02c0",
   "metadata": {},
   "outputs": [
    {
     "name": "stdout",
     "output_type": "stream",
     "text": [
      "Animal speaks:None\n",
      "Animal speaks:Woof!\n",
      "Animal speaks:Meow!\n",
      "Animal speaks:Chirps!\n"
     ]
    }
   ],
   "source": [
    "class Animal:\n",
    "    def speak(self):\n",
    "        pass\n",
    "class Dog(Animal):\n",
    "    def speak(self):\n",
    "        return \"Woof!\"\n",
    "class Cat(Animal):\n",
    "    def speak(self):\n",
    "        return \"Meow!\"\n",
    "class Bird(Animal):\n",
    "    def speak(self):\n",
    "        return \"Chirps!\"\n",
    "animals=[Animal(),Dog(),Cat(),Bird()]\n",
    "for animal in animals:\n",
    "    print(f\"Animal speaks:{animal.speak()}\")"
   ]
  },
  {
   "cell_type": "markdown",
   "id": "118fc2d4-02c3-4e4e-b97c-8588c785b554",
   "metadata": {},
   "source": [
    "7. Discuss the use of abstract methods and classes in achieving polymorphism in Python. Provide an example\n",
    "using the `abc` module."
   ]
  },
  {
   "cell_type": "markdown",
   "id": "ab96d5dc-a1e3-4dbf-8348-010896119bf3",
   "metadata": {},
   "source": [
    "In python, abstract methods and classes, combined with the 'abc' (Abstract Base Classes) module, can be used to achieve polymorphism by defing a common interface that subclasses must adhere to.\n",
    "\n",
    "Abstract methods are methods that have no implementation in the base class and must be overriden in the subclasses. Abstract classes, on the other hand, are classes that contain one or more abstract methods. These classes cannot be instantiated; they exist solely to provide a common interface for their subclasses.\n",
    "\n",
    "The 'abc' module provides the 'ABC'(Abstract Base Class) and 'abstractmethod' decorator, which allow the creation of abstract classes and methods rtespectively."
   ]
  },
  {
   "cell_type": "code",
   "execution_count": 10,
   "id": "984bcd40-fbc2-468b-928f-1a389eeddf85",
   "metadata": {},
   "outputs": [
    {
     "name": "stdout",
     "output_type": "stream",
     "text": [
      "Woof!\n",
      "Meow!\n"
     ]
    }
   ],
   "source": [
    "from abc import ABC, abstractmethod\n",
    "class Animal(ABC):\n",
    "    @abstractmethod\n",
    "    def make_sound(self):\n",
    "        pass\n",
    "class Dog(Animal):\n",
    "    def make_sound(self):\n",
    "        return \"Woof!\"\n",
    "class Cat(Animal):\n",
    "    def make_sound(self):\n",
    "        return \"Meow!\"\n",
    "animals=[Dog(),Cat()]\n",
    "for animal in animals:\n",
    "    print(animal.make_sound())"
   ]
  },
  {
   "cell_type": "markdown",
   "id": "dad870f1-5b43-41f2-9c98-fde13e718580",
   "metadata": {},
   "source": [
    "8. Create a Python class hierarchy for a vehicle system (e.g., car, bicycle, boat) and implement a polymorphic `start()` method that prints a message specific to each vehicle type."
   ]
  },
  {
   "cell_type": "code",
   "execution_count": 11,
   "id": "62ff959a-3ffc-41e7-819b-5c1675b80569",
   "metadata": {},
   "outputs": [
    {
     "name": "stdout",
     "output_type": "stream",
     "text": [
      "TheSedan has started. Vroom Vroom!\n",
      "The Mountain Bike has started. Pedal Pedal!\n",
      "The Sailboat is started. Chug Chug!\n"
     ]
    }
   ],
   "source": [
    "class Vehicle:\n",
    "    def __init__(self,name):\n",
    "        self.name=name\n",
    "    def start(self):\n",
    "        pass\n",
    "class Car(Vehicle):\n",
    "    def start(self):\n",
    "        return f\"The{self.name} has started. Vroom Vroom!\"\n",
    "class Bicycle(Vehicle):\n",
    "    def start(self):\n",
    "        return f\"The {self.name} has started. Pedal Pedal!\"\n",
    "class Boat(Vehicle):\n",
    "    def start(self):\n",
    "        return f\"The {self.name} is started. Chug Chug!\"\n",
    "car=Car(\"Sedan\")\n",
    "bicycle=Bicycle(\"Mountain Bike\")\n",
    "boat=Boat(\"Sailboat\")\n",
    "print(car.start())\n",
    "print(bicycle.start())\n",
    "print(boat.start())"
   ]
  },
  {
   "cell_type": "markdown",
   "id": "43543bfe-5448-4092-b0aa-b8a8966a6ce2",
   "metadata": {},
   "source": [
    "9. Explain the significance of the `isinstance()` and `issubclass()` functions in Python polymorphism."
   ]
  },
  {
   "cell_type": "markdown",
   "id": "ce8ff251-782b-4ba8-b5e3-39171890b7a8",
   "metadata": {},
   "source": [
    "`isnstance()`: This function is used to check if an object belongs to a particular class or is an instance of a subclass. It takle two parameters- the object to be checked and the class or a tuple of classes. The function returns 'True' f the object is an instance of the specified class or any its subclasses, and 'False' otherwise.\n",
    "\n",
    "`isusbclass()`: This function is used to check if a class is a subclass of another class. It takes two parameters- the subclass to be checked and the superclas. The function returns 'True' if the subclass is indeed a subclass of the specified superclass, and 'False' otherwise. The 'issubclass()' fynction is commonly used to build class nierarchies and to perform runtime checks to ensure that a class conforms to certain requirements."
   ]
  },
  {
   "cell_type": "markdown",
   "id": "8f3165d0-e53c-4353-b3b9-92d645d7437d",
   "metadata": {},
   "source": [
    "10. What is the role of the `@abstractmethod` decorator in achieving polymorphism in Python? Provide an\n",
    "example."
   ]
  },
  {
   "cell_type": "markdown",
   "id": "287359a5-20c9-4558-b05b-723d28e76437",
   "metadata": {},
   "source": [
    "The `@abstractmethod` decorator is part of the `abc`(Abstract Base Classes) module in python, and it is ued to define abstract methods within an abstract base class. Abstract methods are methods that must be implemented by concrete subclasses, ensuring that the subclasses provide a specific interface.\n",
    "\n",
    "The role of the `@abstractmethod` decorator in achieveing polymorphism is to enforce a common interface for different subclasses, which allows for polymorphic behavior. That means even through the implementation of a method may vary across different subclasses, the method's signature and availiability are consistent, allowing users to interact with objects in uniform way."
   ]
  },
  {
   "cell_type": "code",
   "execution_count": 14,
   "id": "a0f41a10-733e-4bc3-ad7a-ea14922f92d1",
   "metadata": {},
   "outputs": [
    {
     "name": "stdout",
     "output_type": "stream",
     "text": [
      "Can't instantiate abstract class Vehicle with abstract method start\n"
     ]
    }
   ],
   "source": [
    "from abc import ABC, abstractmethod\n",
    "class Vehicle(ABC):\n",
    "    @abstractmethod\n",
    "    def start(self):\n",
    "        pass\n",
    "class Car(Vehicle):\n",
    "    def start(self):\n",
    "        return \"The car has started. Vroom Vroom!\"\n",
    "try:\n",
    "    vehicle=Vehicle()\n",
    "except TypeError as t:\n",
    "    print(t)"
   ]
  },
  {
   "cell_type": "markdown",
   "id": "6a6823d4-6734-4d60-9d6a-8f4bb23d88e1",
   "metadata": {},
   "source": [
    "11. Create a Python class called `Shape` with a polymorphic method `area()` that calculates the area of different shapes (e.g., circle, rectangle, triangle)."
   ]
  },
  {
   "cell_type": "code",
   "execution_count": 17,
   "id": "6feb54dc-2aab-4672-9a37-f0b126a034db",
   "metadata": {},
   "outputs": [
    {
     "name": "stdout",
     "output_type": "stream",
     "text": [
      "Area: 78.53981633974483\n",
      "Area: 12\n",
      "Area: 6.0\n"
     ]
    }
   ],
   "source": [
    "class Shape:\n",
    "    def area(self):\n",
    "        pass\n",
    "class Circle(Shape):\n",
    "    def __init__(self,radius):\n",
    "        self.radius=radius\n",
    "    def area(self):\n",
    "        return math.pi*self.radius**2\n",
    "class Rectangle(Shape):\n",
    "    def __init__(self,length,width):\n",
    "        self.length=length\n",
    "        self.width=width\n",
    "    def area(self):\n",
    "        return self.length*self.width\n",
    "class Triangle(Shape):\n",
    "    def __init__(self,base,height):\n",
    "        self.base=base\n",
    "        self.height=height\n",
    "    def area(self):\n",
    "        return 0.5*self.base*self.height\n",
    "shapes=[Circle(5),Rectangle(3,4),Triangle(4,3)]\n",
    "for shape in shapes:\n",
    "    print(\"Area:\",shape.area())"
   ]
  },
  {
   "cell_type": "markdown",
   "id": "96b60b56-adc6-4a8b-929e-b03ad5362792",
   "metadata": {},
   "source": [
    "12. Discuss the benefits of polymorphism in terms of code reusability and flexibility in Python programs."
   ]
  },
  {
   "cell_type": "markdown",
   "id": "e64b61c1-3f0a-49a7-874d-2a10e53fb510",
   "metadata": {},
   "source": [
    "1. Code reusability: Polymorphis, allows differnt clsses to treted as instances of a common superclass, enabling the reuse of code that interacts with the superclass. This means that a single piece of code can work with multiple different types of objects, as lond as they adhere to a common interfce. This reduces the nedd to duplicate code for each specific type of object, leading to a more efficient and maintainable codebase.\n",
    "2. Flexibility: Polymorphism promotes flexibility in designing and extending systems. By defining a common interface through an abstract base class or a common set of methods, new classes can be added to the system without modifying xisting code. This makes it easier to expand and modify the behavior of a system without affecting the existing codebase, allowing for greater adaptibility to changing requirements.\n",
    "3. Simplified code maintenance: Polymorphism can help simplify code maintenance by reducing the number of conditional statements needed to handle different types of objects. Instaed of checking the type of an object and implementing different behaviors based on the type, polymorphism alloes the code to work with objects through a common interface, making the code more robust and easier to maintain.\n",
    "4. Ease of collaboration: Polymorphism facilitates collaboration between developers by defining clear and consistent interfaces for objects. This allows differtent developers to work on different parts of a system, knowing that their code will seamlessly integrate with the code written by others, as long as they adhere to the common interface provided by polymorphism.\n",
    "5. Enhanced testability: Polymorphism can improve the testability of code by enabling the use of mock objects objects and stubs, which can simulate different behavios or responses from objects. This allows for easier testing of components that interact with polymorphic objects, leading to more comprehensive and effective testing strategies."
   ]
  },
  {
   "cell_type": "markdown",
   "id": "9ee52bd8-68c3-4ef6-b5b6-36e531c15cb2",
   "metadata": {},
   "source": [
    "13. Explain the use of the `super()` function in Python polymorphism. How does it help call methods of parent\n",
    "classes?"
   ]
  },
  {
   "cell_type": "markdown",
   "id": "c77971aa-4da1-49f3-b7a8-63a71d7b282e",
   "metadata": {},
   "source": [
    "The `super()` function in python is used to access methods and attributes from a parent or superclass within a subclass. It is commonly used to invoke methods of the superclass, especially in the context of method overriding and polymorphism.\n",
    "\n",
    "When a method is overriden in a subclass, the `super()` function allows the subclass to invoke the overridden method of the superclass, providing a way to extend or modify the behavior of the superclass mthod without completely re-implementing it. This promotes code reusability and maintain the principle of DRY(Don't Repeat Yourself)"
   ]
  },
  {
   "cell_type": "code",
   "execution_count": 19,
   "id": "5d99fff4-46e6-41be-8354-8f94f348880a",
   "metadata": {},
   "outputs": [
    {
     "name": "stdout",
     "output_type": "stream",
     "text": [
      "Vehicle is being driven\n",
      "Car is being driven\n"
     ]
    }
   ],
   "source": [
    "class Vehicle:\n",
    "    def drive(self):\n",
    "        print(\"Vehicle is being driven\")\n",
    "class Car(Vehicle):\n",
    "    def drive(self):\n",
    "        super().drive()\n",
    "        print(\"Car is being driven\")\n",
    "car=Car()\n",
    "car.drive()"
   ]
  },
  {
   "cell_type": "markdown",
   "id": "4d75dbe2-d83e-473e-8d96-4e199a932e4f",
   "metadata": {},
   "source": [
    "14. Create a Python class hierarchy for a banking system with various account types (e.g., savings, checking, credit card) and demonstrate polymorphism by implementing a common `withdraw()` method."
   ]
  },
  {
   "cell_type": "code",
   "execution_count": 25,
   "id": "e9b3b1d9-b58e-4588-99d9-babed3ef88f4",
   "metadata": {},
   "outputs": [
    {
     "name": "stdout",
     "output_type": "stream",
     "text": [
      "Withdrawl of 12000 successful. Remaining balance:138000\n",
      "None\n",
      "Withdrawl of 1450 from savings account successful. Remaining balance:13550\n",
      "None\n",
      "Withdrawl of 1400 from checking account successful. Remaining balance:13600\n",
      "None\n",
      "Withdrawal of 1400 from credit card account successfuk. Remaining balance:43600\n",
      "None\n"
     ]
    }
   ],
   "source": [
    "class Account:\n",
    "    def __init__(self,account_number,balance):\n",
    "        self.account_number=account_number\n",
    "        self.balance=balance\n",
    "    def withdraw(self,amount):\n",
    "        if amount<=self.balance:\n",
    "            self.balance-=amount\n",
    "            print(f\"Withdrawl of {amount} successful. Remaining balance:{self.balance}\")\n",
    "        else:\n",
    "            print(\"Insufficient funds\")\n",
    "class SavingsAccount(Account):\n",
    "    def __init__(self,account_number,balance,interest_rate):\n",
    "        super().__init__(account_number,balance)\n",
    "        self.interest_rate=interest_rate\n",
    "    def withdraw(self,amount):\n",
    "        if amount<=self.balance:\n",
    "            self.balance-=amount\n",
    "            print(f\"Withdrawl of {amount} from savings account successful. Remaining balance:{self.balance}\")\n",
    "        else:\n",
    "            print(\"Insufficient funds\")\n",
    "class CheckingAccount(Account):\n",
    "    def __init__(self,account_number,balance,overdraft_limit):\n",
    "        super().__init__(account_number,balance)\n",
    "        self.overdraft_limit=overdraft_limit\n",
    "    def withdraw(self,amount):\n",
    "        if amount<=self.balance:\n",
    "            self.balance-=amount\n",
    "            print(f\"Withdrawl of {amount} from checking account successful. Remaining balance:{self.balance}\")\n",
    "        else:\n",
    "            print(\"Exceeded overfraft limit\")\n",
    "class CreditCardAccount(Account):\n",
    "    def __init__(self,account_number,balance,credit_limit):\n",
    "        super().__init__(account_number,balance)\n",
    "        self.credit_limit=credit_limit\n",
    "    def withdraw(self,amount):\n",
    "        if amount<=self.balance:\n",
    "            self.balance-=amount\n",
    "            print(f\"Withdrawal of {amount} from credit card account successfuk. Remaining balance:{self.balance}\")\n",
    "        else:\n",
    "            print(\"Exceeded credit limit\")\n",
    "acc1=Account(123456,150000)\n",
    "print(acc1.withdraw(12000))\n",
    "saving=SavingsAccount(123456,15000,12)\n",
    "print(saving.withdraw(1450))\n",
    "checking=CheckingAccount(123456,15000,12000)\n",
    "print(checking.withdraw(1400))\n",
    "creditcard=CreditCardAccount(123456,45000,1200)\n",
    "print(creditcard.withdraw(1400))"
   ]
  },
  {
   "cell_type": "markdown",
   "id": "aa4ee4f3-9657-4eda-aacc-cf79fa18acac",
   "metadata": {},
   "source": [
    "15. Describe the concept of operator overloading in Python and how it relates to polymorphism. Provide\n",
    "examples using operators like `+` and `*`."
   ]
  },
  {
   "cell_type": "markdown",
   "id": "a948f73c-eb8d-4f4c-a1b5-976fc0fc0c82",
   "metadata": {},
   "source": [
    "Operator overloading in python allows us to define how operators behave for objects of custom classes. This means that we can define special methods in our classes to provide custom implementation for standard operators such as '+' , '-' , '*' , '/' , '==' , '!=' , '<' , '>' , and many others.\n",
    "\n",
    "Operators overloading relates to polymorphism in the sense that it allows different classes to define their own behavior for the same operator. This means that the same operator can have different meanings when applied to objects of different types, achieveing polymorphic behavior.\n",
    "\n",
    "For example, let's consider a simple class 'vector' that represents a 2D vector. We can define operator of the '+' and '*' operators for our 'Vector' class:"
   ]
  },
  {
   "cell_type": "code",
   "execution_count": 6,
   "id": "db16c429-be9e-479e-b4f0-9319bdd8b13b",
   "metadata": {},
   "outputs": [
    {
     "name": "stdout",
     "output_type": "stream",
     "text": [
      "Sum of vectors: 5,9\n",
      "Vector multiplied by scalar: 6,12\n"
     ]
    }
   ],
   "source": [
    "class Vector:\n",
    "    def __init__(self,x,y):\n",
    "        self.x=x\n",
    "        self.y=y\n",
    "    def __add__(self,other):\n",
    "        return Vector(self.x+other.x,self.y+other.y)\n",
    "    def __mul__(self,scalar):\n",
    "        return Vector(self.x*scalar,self.y*scalar)\n",
    "    def __str__(self):\n",
    "        return f\"{self.x},{self.y}\"\n",
    "v1=Vector(2,4)\n",
    "v2=Vector(3,5)\n",
    "result_add=v1+v2\n",
    "print(\"Sum of vectors:\",result_add)\n",
    "result_mul=v1*3\n",
    "print(\"Vector multiplied by scalar:\",result_mul)"
   ]
  },
  {
   "cell_type": "markdown",
   "id": "3f3ac6d9-90e4-448a-b5f4-5db843ed1de2",
   "metadata": {},
   "source": [
    "16. What is dynamic polymorphism, and how is it achieved in Python?"
   ]
  },
  {
   "cell_type": "markdown",
   "id": "426479cd-c198-464f-aa8f-fcb78d13e64f",
   "metadata": {},
   "source": [
    "Dynamic polymorphism, also known as runtime polymorphism, is the ability of the program to determine the appropiate method or behavior to execute at runtimte based on the actual object being operated on, rather than at compile time. In other words, dynamic polymorphism allows different classes to have different methods with the same name, and the appropiate method to be called is resolved at runtime based on the actual type of the object being refrenced.\n",
    "\n",
    "In python, dynamic polymorphism is achieved through mthod overriding and inheritance. When a subclass inherits from a parent class, it can provide its own implementations of a method that is already defined in the parent class. When a method is called on an object, Python checks the actual type of the object at runtime and invikes the appropiate implementation of the method based on the actual type of the object."
   ]
  },
  {
   "cell_type": "markdown",
   "id": "df40b3d5-b08d-4c2a-8608-13953489bce2",
   "metadata": {},
   "source": [
    "17. Create a Python class hierarchy for employees in a company (e.g., manager, developer, designer) and implement polymorphism through a common `calculate_salary()` method."
   ]
  },
  {
   "cell_type": "code",
   "execution_count": 1,
   "id": "d76f152a-8a84-4ba3-a3f7-7d706a464ff9",
   "metadata": {},
   "outputs": [
    {
     "name": "stdout",
     "output_type": "stream",
     "text": [
      "62000\n",
      "6600.000000000001\n",
      "11265000.0\n"
     ]
    }
   ],
   "source": [
    "class Employee:\n",
    "    def __init__(self,name,role):\n",
    "        self.name=name\n",
    "        self.role=role\n",
    "    def calculate_salary(self):\n",
    "        raise NotImplementError(\"Subclass must implement calculate_salary method\")\n",
    "class Manager(Employee):\n",
    "    def __init__(self,name,role,salary,bonus):\n",
    "        super().__init__(name,role)\n",
    "        self.salary=salary\n",
    "        self.bonus=bonus\n",
    "    def calculate_salary(self):\n",
    "        total_salary=self.salary+self.bonus\n",
    "        return total_salary\n",
    "class Developer(Employee):\n",
    "    def __init__(self,name,role,salary,level):\n",
    "        super().__init__(name,role)\n",
    "        self.salary=salary\n",
    "        self.level=level\n",
    "    def calculate_salary(self):\n",
    "        total_salary=self.salary*(1+self.level*0.1)\n",
    "        return total_salary\n",
    "class Designer(Employee):\n",
    "    def __init__(self,name,role,salary,experience):\n",
    "        super().__init__(name,role)\n",
    "        self.salary=salary\n",
    "        self.experience=experience\n",
    "    def calculate_salary(self):\n",
    "        total_salary=self.salary*(1+self.salary*0.05)\n",
    "        return total_salary\n",
    "manager=Manager(\"Praveen Tak\",\"Manager\",50000,12000)\n",
    "developer=Developer(\"John Smith\",\"Developer\",6000,1)\n",
    "designer=Designer(\"Alice Johnson\",\"Designer\",15000,5)\n",
    "print(manager.calculate_salary())\n",
    "print(developer.calculate_salary())\n",
    "print(designer.calculate_salary())"
   ]
  },
  {
   "cell_type": "markdown",
   "id": "76194ca4-9f47-4b05-a97c-a7d417943994",
   "metadata": {},
   "source": [
    "18. Discuss the concept of function pointers and how they can be used to achieve polymorphism in Python."
   ]
  },
  {
   "cell_type": "markdown",
   "id": "442ed321-1a6d-45a0-ae7a-fcb862d5bff6",
   "metadata": {},
   "source": [
    "Function pointer, also called callback functions, are a feature in some programming languages that allow functions to be passed as arguments to other functions. This can be useful when you want to generalize a particulat behavior performed by a function and allow it to be reused in a variety of contexts without needing to modify the original functiion.\n",
    "\n",
    "While python doest not have fuction pointers in the traditional sense, it has a similar feature called first-call functiuons. This means that functions are objects just like any other data type and can be passed as arguments to other functions are treated as first-class citizens which means that they can be passed as arguments, returned from a function or assigned to variables.\n",
    "\n",
    "In python, polymorphism is achieved through duck typing, which means that an object's suitaility for a particular operation is determined by whether it the necessary method or attribute, rather than by its type. Since functions are objects in python, they can be used to implement this concept of duck typing."
   ]
  },
  {
   "cell_type": "code",
   "execution_count": 2,
   "id": "afaeae46-cf73-4dd5-a05f-c83c3d32a738",
   "metadata": {},
   "outputs": [
    {
     "name": "stdout",
     "output_type": "stream",
     "text": [
      "62000\n"
     ]
    }
   ],
   "source": [
    "def calculate_salary_manager(employee):\n",
    "    total_salary=employee.salary+employee.bonus\n",
    "    return total_salary\n",
    "def calculate_salary_developer(employee):\n",
    "    total_salary=employee.salary*(1+employee.level*0.1)\n",
    "    return total_salary\n",
    "def calculate_salary_designer(employee):\n",
    "    total_salary=employee.salary*(1+employee.level*0.05)\n",
    "    return total_salary\n",
    "def calculate_salary(employee,calculate_fn):\n",
    "    return calculate_fn(employee)\n",
    "class Manager:\n",
    "    def __init__(self,salary,bonus):\n",
    "        self.salary=salary\n",
    "        self.bonus=bonus\n",
    "class Developer:\n",
    "    def __init__(self,salary,level):\n",
    "        self.salary=salary\n",
    "        self.level=level\n",
    "class Designer:\n",
    "    def __init__(self,salary,experience):\n",
    "        self.salary=salary\n",
    "        self.experience=experience\n",
    "maanager=Manager(50000000,10000)\n",
    "print(calculate_salary(manager,calculate_salary_manager))"
   ]
  },
  {
   "cell_type": "markdown",
   "id": "8d399b93-b65b-4907-8b7b-af09ec3d2df5",
   "metadata": {},
   "source": [
    "19. Explain the role of interfaces and abstract classes in polymorphism, drawing comparisons between them."
   ]
  },
  {
   "cell_type": "markdown",
   "id": "f17197d2-1509-46fa-9c61-1e5ad9054fa8",
   "metadata": {},
   "source": [
    "Interfaces:\n",
    "- An interface in object-oriented programming is a way to define a set of methods that a class must implement. It only contains method signatures and does not provide any implementation details.\n",
    "- In many programming languages, a class can implement multiple interfaces, allowing it to fulfill the requirements of each interface.\n",
    "- Interfaces provide a way to achieve polymorphism by allowing multiple classes to implement the same interface and be treated interchangeable where the interface is expected.\n",
    "- Interfaces are particularly useful when you want to define a contract that multiplr unrelated classes should adhere to, without enforcing any common implementation details.\n",
    "\n",
    "Abstract classes:\n",
    "- An abstract class is a class that cannot be instantiated and may contaion abstract methods that do not have an implementation.\n",
    "- In many programming languages, a  class can inherit from only one abstract class, makling abstract classes useful for defining a common base for related classes.\n",
    "- Abstract classes allow you to define common methods and behavior that subclasses should follow, while also providing default implementation for some methods.\n",
    "- Abstract classes provide a way ti achieve polymorphism by allowing related classes to inherit from from a common base class and be treated interchangeable through their common interface.\n",
    "\n",
    "Comparisons:\n",
    "- Interfaces only contain method signatures, while abstract classes can contain method signatures as well as implemented methods.\n",
    "- Classes can implement multiple interfaces, but can only inherit from one abstract class.\n",
    "- Abstract classes are useful when you want to provide a common base for related classes and share some common behavior, while interfaces are useful for defining contracts that multiple unrelated clases should adhere to."
   ]
  },
  {
   "cell_type": "markdown",
   "id": "3039b099-9028-4ca7-b3ed-290fd9e84332",
   "metadata": {},
   "source": [
    "20. Create a Python class for a zoo simulation, demonstrating polymorphism with different animal types (e.g., mammals, birds, reptiles) and their behavior (e.g., eating, sleeping, making sounds)."
   ]
  },
  {
   "cell_type": "code",
   "execution_count": 4,
   "id": "2b6bbb46-132d-4c4e-9199-931d5651c995",
   "metadata": {},
   "outputs": [
    {
     "name": "stdout",
     "output_type": "stream",
     "text": [
      "Elephant Mammal sound\n",
      "Parrot Bird eating\n",
      "Snake Reptile sleeping\n"
     ]
    }
   ],
   "source": [
    "class Zoo:\n",
    "    def __init__(self,name,animal_type):\n",
    "        self.name=name\n",
    "        self.animal_type=animal_type\n",
    "    def make_sound(self):\n",
    "        pass\n",
    "    def eat(self):\n",
    "        pass\n",
    "    def sleep(self):\n",
    "        pass\n",
    "class Mammal(Zoo):\n",
    "    def make_sound(self):\n",
    "        return f\"{self.name} Mammal sound\"\n",
    "    def eat(self):\n",
    "        return f\"{self.name} Mammal eating\"\n",
    "    def sleep(self):\n",
    "        return f\"{self.name} Mammal sleeping\"\n",
    "class Bird(Zoo):\n",
    "    def make_sound(self):\n",
    "        return f\"{self.name} Bird sound\"\n",
    "    def eat(self):\n",
    "        return f\"{self.name} Bird eating\"\n",
    "    def sleep(self):\n",
    "        return f\"{self.name} Bird sleeping\"\n",
    "class Reptile(Zoo):\n",
    "    def make_sound(self):\n",
    "        return f\"{self.name} Reptile sound\"\n",
    "    def eat(self):\n",
    "        return f\"{self.name} Reptile eating\"\n",
    "    def sleep(self):\n",
    "        return f\"{self.name} Reptile sleeping\"\n",
    "mammal=Mammal(\"Elephant\",\"Mammal\")\n",
    "bird=Bird(\"Parrot\",\"Bird\")\n",
    "reptile=Reptile(\"Snake\",\"Reptile\")\n",
    "print(mammal.make_sound())\n",
    "print(bird.eat())\n",
    "print(reptile.sleep())"
   ]
  },
  {
   "cell_type": "markdown",
   "id": "a43e8831-008e-40c2-b56b-415fa17885ef",
   "metadata": {},
   "source": [
    "Abstraction:"
   ]
  },
  {
   "cell_type": "markdown",
   "id": "35b43c83-5c90-4e1c-b8e1-f07327f0fd86",
   "metadata": {},
   "source": [
    "1. What is abstraction in Python, and how does it relate to object-oriented programming?"
   ]
  },
  {
   "cell_type": "markdown",
   "id": "cb2b2d89-6b8f-4fb5-83b4-0dd9ea9e82c8",
   "metadata": {},
   "source": [
    "Abstraction in python, as well as in object-oriented programming in general, refers to the oncept of hiding teh complex implementation details of a class or an object and only exposing the necesaary features to the outside world. This allows for a simplified and more user-friendly interface, making it easier to work with the class or object.\n",
    "\n",
    "In Pyhton, abstraction is acjieved through the use of abstract classes and abstract methods. an abstract class is a class that cannot be instantiated on its own and is meant to be subclassed. It may contain abstract methods, which are defined but not implemented in the abstract class. Subclases of the abstract class are then required to implement these abstract methods.\n",
    "\n",
    "Abstraction in python allows for the creation of classes with defiend interfaces and behaviors, without needinhg to know the internal implementation details. This promotes better organix=zation of code, reduces complexity and makes it easier to work with and maintain large codebases."
   ]
  },
  {
   "cell_type": "markdown",
   "id": "95b2fe38-bffe-4f95-809b-2893bd7d3d15",
   "metadata": {},
   "source": [
    "2. Describe the benefits of abstraction in terms of code organization and complexity reduction."
   ]
  },
  {
   "cell_type": "markdown",
   "id": "549d153d-8d4c-47ca-bb52-2abcd9a9eb1d",
   "metadata": {},
   "source": [
    "(i) Encapsulation  of Implementation Details: Abstraction allows the hiding of complex implementation details within a class, exposing only the necessary features and behaviors to the outside world. This encapsulation prevents the direct manipulation of internal state and provides a clear interface for interaction promoting a more organized and structured codebase.\n",
    "\n",
    "(ii) Reduced Complexity: By abstracting away implementation details, the complexity of a class or objct's internal workings is hidden from the user. This simplification makes it easier to work with the code, understand its functionality, ans reduces the cognitive load when incorporating the class into larger systems.\n",
    "\n",
    "(iii) Clear Interface: Abstraction provides a well-defined interface for interacting with onjects. This clear separation between the interface and the implementation details allows users of the class to focus on the using the provided functionality without being concerned about the underlying complexilities.\n",
    "\n",
    "(iv) Reusability and Maintenance: Abstraction promotes reusability by allowing classes to be easily integrated into new systems without requiring a deep understanding of their internal workings. Additiionslly, by islating imlementation details, changes to the underlying code can be made more easily without affecting the overall functionality of the class, leading to improved maintainability.\n",
    "\n",
    "(v) Modularization: Abstraction facilitates the modularization of code by breaking down complex systems into manageable, self-contained units. This promotes a more organized codebase, making it eaasier to updat, extend, and maintain the software."
   ]
  },
  {
   "cell_type": "markdown",
   "id": "73c1126f-0f9f-40a7-b88c-a96dc8829ef1",
   "metadata": {},
   "source": [
    "3. Create a Python class called `Shape` with an abstract method `calculate_area()`. Then, create child classes (e.g., `Circle`, `Rectangle`) that implement the `calculate_area()` method. Provide an example of\n",
    "using these classes."
   ]
  },
  {
   "cell_type": "code",
   "execution_count": 5,
   "id": "12d71125-4d7a-45bd-98f3-f26c8fe7e028",
   "metadata": {},
   "outputs": [
    {
     "name": "stdout",
     "output_type": "stream",
     "text": [
      "Area of circle is 78.53981633974483\n",
      "Area of rectangle is 24\n"
     ]
    }
   ],
   "source": [
    "from abc import ABC, abstractmethod\n",
    "import math\n",
    "class Shape(ABC):\n",
    "    @abstractmethod\n",
    "    def calculate_area(self):\n",
    "        pass\n",
    "class Circle(Shape):\n",
    "    def __init__(self,radius):\n",
    "        self.radius=radius\n",
    "    def calculate_area(self):\n",
    "        return math.pi*self.radius**2\n",
    "class Rectangle(Shape):\n",
    "    def __init__(self,length,width):\n",
    "        self.length=length\n",
    "        self.width=width\n",
    "    def calculate_area(self):\n",
    "        return self.length*self.width\n",
    "c=Circle(5)\n",
    "print(\"Area of circle is\",c.calculate_area())\n",
    "r=Rectangle(4,6)\n",
    "print(\"Area of rectangle is\",r.calculate_area())"
   ]
  },
  {
   "cell_type": "markdown",
   "id": "56312198-0753-4e23-b142-a47413405d0b",
   "metadata": {},
   "source": [
    "4. Explain the concept of abstract classes in Python and how they are defined using the `abc` module. Provide\n",
    "an example."
   ]
  },
  {
   "cell_type": "markdown",
   "id": "ecc86d8a-0fe5-43d6-a7a1-92c78e557a4d",
   "metadata": {},
   "source": [
    "In Python, abstract classes are classes that cannot be instantiated directly and typically include one or more abstract methods, which are methods that mustbe implemented by their concrete subclasses. Python provides the `abc` module(Abstract Base Classes) as a way to define and work with abstract classes.\n",
    "\n",
    "The `abc` module provides the `ABC`(Abstract Base Class) as a metaclass, and the `abstractmethod` decorator to define abstract methods within abstract classes. It allows for the creation of abstract classes that enforce a certain structure and ensure that all of their concrete subclasses provide the necessary implementation."
   ]
  },
  {
   "cell_type": "code",
   "execution_count": 7,
   "id": "5512c090-1425-440d-809f-e3c1d7c35d6a",
   "metadata": {},
   "outputs": [
    {
     "name": "stdout",
     "output_type": "stream",
     "text": [
      "TypeError: Can't instantiate abstract class Animal with abstract method make_sound\n"
     ]
    }
   ],
   "source": [
    "from abc import ABC,abstractmethod\n",
    "class Animal(ABC):\n",
    "    @abstractmethod\n",
    "    def make_sound(self):\n",
    "        pass\n",
    "class Dog(Animal):\n",
    "    def make_sound(self):\n",
    "        return \"Woof!\"\n",
    "try:\n",
    "    animal=Animal()\n",
    "except TypeError as e:\n",
    "    print(\"TypeError:\",e)\n",
    "dog=Dog()"
   ]
  },
  {
   "cell_type": "markdown",
   "id": "3b63dcd1-a725-403c-b21c-b5e212cf319d",
   "metadata": {},
   "source": [
    "5. How do abstract classes differ from regular classes in Python? Discuss their use cases."
   ]
  },
  {
   "cell_type": "markdown",
   "id": "df9daeae-4c3e-455a-9465-7fcca72ec615",
   "metadata": {},
   "source": [
    "Abstract classes are differ from regular classes in python is that abstract classes cannot ne instantiated directly, while regular classes can be instantiated to creating objects. Anstract classes may include one or more abstract methods, which are defined but not implemented, and these methods must be implemented by concrete subclasses. Regular classes, on the other hand, can be instantiated and may or may not have methods that need to be implemented by their subclasses.\n",
    "\n",
    "Use cases for abstract classes include:\n",
    "1. Defing a common interface: Abstract classes re useful for defining a common interface that must be implemented by multiple related classes. For example, an abstract class \"Shape\" may define a method \"calculate_area()\" that must be implemented by concrete subclasses such as \"Cicle\",\"Rectangle\" and \"Triangle\".\n",
    "2. Enforcing a specific structure: Abstract classes can be used to enforce a specific structure or set of methods that must be implemented by concrete subclasses. This ensures consistency and helps avoid errors or missions in the implementation of these methods.\n",
    "3. Providing a blueprint: Abstract classes can serve as a blueprint for a family of realtd classes, ensuring that they all share  certain common methods or properties.\n",
    "4. Partial implementation: Abstract classes can provide partial implementation for methods that can be implemented by the subclasses."
   ]
  },
  {
   "cell_type": "markdown",
   "id": "5bacf856-994c-4fd7-bd5e-66bac2505fcc",
   "metadata": {},
   "source": [
    "6. Create a Python class for a bank account and demonstrate abstraction by hiding the account balance and\n",
    "providing methods to deposit and withdraw funds."
   ]
  },
  {
   "cell_type": "code",
   "execution_count": 10,
   "id": "63d1be83-6493-4e30-bff5-e1558726a3d7",
   "metadata": {},
   "outputs": [
    {
     "name": "stdout",
     "output_type": "stream",
     "text": [
      "Deposited 150000 into savings account. New balance is 150000\n",
      "Withdrawl 500 from savings account. New balance is 149500\n",
      "Withdrawl 1500 from savings account. New balance is 148000\n"
     ]
    }
   ],
   "source": [
    "from abc import ABC,abstractmethod\n",
    "class BankAccount(ABC):\n",
    "    def __init__(self,account_number,account_holder):\n",
    "        self._account_number=account_number\n",
    "        self._account_holder=account_holder\n",
    "        self._balance=0\n",
    "    @abstractmethod\n",
    "    def deposit(self,amount):\n",
    "        pass\n",
    "    @abstractmethod\n",
    "    def withdraw(self,amount):\n",
    "        pass\n",
    "class SavingsAccount(BankAccount):\n",
    "    def deposit(self,amount):\n",
    "        self._balance+=amount\n",
    "        print(f\"Deposited {amount} into savings account. New balance is {self._balance}\")\n",
    "    def withdraw(self,amount):\n",
    "        if self._balance>=amount:\n",
    "            self._balance-=amount\n",
    "            print(f\"Withdrawl {amount} from savings account. New balance is {self._balance}\")\n",
    "        else:\n",
    "            print(\"Insufficient balance\")\n",
    "saving_account=SavingsAccount(11345,\"Praveen\")\n",
    "saving_account.deposit(150000)\n",
    "saving_account.withdraw(500)\n",
    "saving_account.withdraw(1500)"
   ]
  },
  {
   "cell_type": "markdown",
   "id": "5cebf5f0-7d87-4508-8f21-135e4f5beed4",
   "metadata": {},
   "source": [
    "7. Discuss the concept of interface classes in Python and their role in achieving abstraction."
   ]
  },
  {
   "cell_type": "markdown",
   "id": "76908006-ee8c-4c8c-883a-2faff51975ef",
   "metadata": {},
   "source": [
    "In python, interface classes are not strictly defined as in languages like Java, where interfaces are explicitly declared using the ‘interface’ keyword. However, the concept of interface classes can be achieved in python through the use of abstract base classes (ABC) from the ‘abc’ module.\n",
    "\n",
    "An interface class in python can be represented by an abstract base class that defines a set of methods that must be implemented by any concrete class that inherits from it. These abstract methods act as the interface contract, specifying the behavior that concrete subclasses must adhere to.\n",
    "\n",
    "The role of interface classes in achieving abstraction in python is as follows:\n",
    "\n",
    "1.\tDefining a common interface: Interface classes define a common set of methods that any class implementing the interface must provide. This allows for a consistent way of interacting with different concrete implementations of the interface.\n",
    "\n",
    "2.\tHiding implementation details: By providing a clear interface contract, interface classes allow the internal implementation details of the concrete classes to be hidden from the external code. This encapsulation helps in achieving abstraction by focusing on what the class does rather than how it does it.\n",
    "\n",
    "3.\tPolymorphism and interchangeability: Interface classes enable polymorphism, where objects of different classes that implement the same interface can be used interchangeably. This allows for greater flexibility and modularity in code, as different implementations of the interface can be seamlessly integrated."
   ]
  },
  {
   "cell_type": "markdown",
   "id": "ed8bebbf-a01c-41f8-8859-45f0dcc85384",
   "metadata": {},
   "source": [
    "8. Create a Python class hierarchy for animals and implement abstraction by defining common methods (e.g., `eat()`, `sleep()`) in an abstract base class."
   ]
  },
  {
   "cell_type": "code",
   "execution_count": 1,
   "id": "0813936c-2882-48c5-8413-4e888446fdfe",
   "metadata": {},
   "outputs": [
    {
     "name": "stdout",
     "output_type": "stream",
     "text": [
      "Cat eating\n"
     ]
    }
   ],
   "source": [
    "from abc import ABC, abstractmethod\n",
    "class Animal(ABC):\n",
    "    @abstractmethod\n",
    "    def eat(self):\n",
    "        pass\n",
    "    @abstractmethod\n",
    "    def sleep(self):\n",
    "        pass\n",
    "class Dog(Animal):\n",
    "    def eat(self):\n",
    "        print(\"Dog eating\")\n",
    "    def sleep(self):\n",
    "        print(\"Dog sleeping\")\n",
    "class Cat(Animal):\n",
    "    def eat(self):\n",
    "        print(\"Cat eating\")\n",
    "    def sleep(self):\n",
    "        print(\"Cat sleeping\")\n",
    "cat=Cat()\n",
    "cat.eat()"
   ]
  },
  {
   "cell_type": "markdown",
   "id": "c772a1f7-4f02-4b4c-ba67-ae1c6247bda1",
   "metadata": {},
   "source": [
    "9. Explain the significance of encapsulation in achieving abstraction. Provide examples."
   ]
  },
  {
   "cell_type": "markdown",
   "id": "0a3d56bb-3ce8-495c-97a6-72b06d224b97",
   "metadata": {},
   "source": [
    "Encapsulation is a fundamental concept in object-oriented programming that allows the bundling of data and methods that operate on data within a single unit, usually a class. Encapsulation plays a significant role in achieving abstraction by hiding the internal state of an object and restricting direct access to it, while providing a set of public methods through which the object’s state can accessed and modified. This allows for the representation of complex systems in a simplified manner, thus achieving abstraction.\n",
    "\n",
    "Here are few examples to illustrate the significance of encapsulation in achieving abstraction:\n",
    "\n",
    "1.\tData Hiding: One of the key aspects of encapsulation is data hiding, where an internal state of an object is not directly accessible from external code. This allows the object to protect its internal state from external interference and ensures that the state can only be accessed and modifies through well-defined methods."
   ]
  },
  {
   "cell_type": "code",
   "execution_count": null,
   "id": "41e58661-4568-4bb8-98cb-1a4c3cd333e1",
   "metadata": {},
   "outputs": [],
   "source": [
    "class BankAccount:\n",
    "    def __iinit__(self,account_number,balance):\n",
    "        self._account_number=account_number\n",
    "        self._balance=balance\n",
    "    def get_balance(self):\n",
    "        return self._balance #Accessing encapsulated data through a method\n",
    "    def deposit(self,amount):\n",
    "        self._balance+=amount #Modifying encapsulated data through a method"
   ]
  },
  {
   "cell_type": "markdown",
   "id": "b5ee18e8-bd51-439c-b078-9eda4a138610",
   "metadata": {},
   "source": [
    "2.\tAbstraction of Complex Processes: Encapsulation allows us to abstract complex processes into a simplified interface. For example, a ‘Car’ class might encapsulate the internal workings of an engine, transmission, and other components, providing  straightforward interface for interacting with the Car’s functionality without needing to understand the intricate details of its internal operations.\n",
    "\n",
    "3.\tModularity and Reusability: Encapsulation promotes modularity by bundling related data and methods together within a class. This makes it easier to understand and maintain the code, as well as facilitating code reuse. Other parts of the program can interact with the encapsulated functionality without needing to know the implementation details, thus achieving a higher level of abstraction.\n"
   ]
  },
  {
   "cell_type": "markdown",
   "id": "5c01cb3b-2f5c-4a75-9c2e-a8268d4f6eff",
   "metadata": {},
   "source": [
    "10. What is the purpose of abstract methods, and how do they enforce abstraction in Python classes?"
   ]
  },
  {
   "cell_type": "markdown",
   "id": "75cc6994-eca0-424b-8538-e1b2700b0aba",
   "metadata": {},
   "source": [
    "The purpose of abstract methods is to define a method signature in a base class without providing an implementation. This allows the base class to define a set of methods that must be implemented by any concrete subclasses, ensuring that those subclasses adhere to a specific interface. Abstract methods enforce abstraction by mandating that concrete subclasses provide their own implementation for these methods, thereby enforcing a contract and providing a clear interface for interacting with the subclasses."
   ]
  },
  {
   "cell_type": "code",
   "execution_count": 2,
   "id": "28ded000-9ea2-414f-843c-2d0df590abd2",
   "metadata": {},
   "outputs": [],
   "source": [
    "from abc import ABC,abstractmethod\n",
    "class Shape(ABC):\n",
    "    @abstractmethod\n",
    "    def area(self):\n",
    "        pass\n",
    "    @abstractmethod\n",
    "    def perimeter(self):\n",
    "        pass\n",
    "class Circle(Shape):\n",
    "    def __init__(self,radius):\n",
    "        self.radius=radius\n",
    "    def area(self):\n",
    "        return 3.14*self.radius**2\n",
    "    def perimeter(self):\n",
    "        return 2*3.14*self.radius"
   ]
  },
  {
   "cell_type": "markdown",
   "id": "fcb09b94-9cc7-4b73-83ad-b916e483068a",
   "metadata": {},
   "source": [
    "In this example,\n",
    "- `Shape` is an abstract base class that defines `area()` and `perimeter()` as an abstract methods using the `@abstractmethod` decorator. Concrete subclasses of `Shape` must provide their own implementation for these methods.\n",
    "- `Circle` is a concrete subclass of `Shape` that provides implementations for `area()` and `perimeter()`. By implementing these abstract methods, `Circle` fulfilss the contract defined by `Shape` abstract class.\n"
   ]
  },
  {
   "cell_type": "markdown",
   "id": "c82335fd-4d42-45de-ac9d-49f537c8c372",
   "metadata": {},
   "source": [
    "11. Create a Python class for a vehicle system and demonstrate abstraction by defining common methods (e.g., `start()`, `stop()`) in an abstract base class."
   ]
  },
  {
   "cell_type": "code",
   "execution_count": 5,
   "id": "9016fea9-66d3-4e58-9d62-088d12592aa6",
   "metadata": {},
   "outputs": [
    {
     "name": "stdout",
     "output_type": "stream",
     "text": [
      "Car started\n",
      "Car stopped\n",
      "Bus started\n",
      "Bus stopped\n"
     ]
    }
   ],
   "source": [
    "from abc import ABC,abstractmethod\n",
    "class Vehicle(ABC):\n",
    "    @abstractmethod\n",
    "    def start(self):\n",
    "        pass\n",
    "    @abstractmethod\n",
    "    def stop(self):\n",
    "        pass\n",
    "class Car(Vehicle):\n",
    "    def start(self):\n",
    "        return(\"Car started\")\n",
    "    def stop(self):\n",
    "        return(\"Car stopped\")\n",
    "class Bus(Vehicle):\n",
    "    def start(self):\n",
    "        return(\"Bus started\")\n",
    "    def stop(self):\n",
    "        return(\"Bus stopped\")\n",
    "car=Car()\n",
    "print(car.start())\n",
    "print(car.stop())\n",
    "bus=Bus()\n",
    "print(bus.start())\n",
    "print(bus.stop())"
   ]
  },
  {
   "cell_type": "markdown",
   "id": "716f8c35-3e3d-4550-a234-0c81e7386961",
   "metadata": {},
   "source": [
    "12. Describe the use of abstract properties in Python and how they can be employed in abstract classes."
   ]
  },
  {
   "cell_type": "markdown",
   "id": "557239a2-bfd1-411d-a9c4-67652edde02c",
   "metadata": {},
   "source": [
    "Abstract properties in python allow us to define properties in an abstract base class without providing an implementation. This means that concrete subclasses must provide their own implementation for these properties, ensuring that they adhere to a specific interface that must be implemented by concrete subclasses. \n",
    "\n",
    "In Python, the `abc` module provides the `ABC` (Abstract Base Class) and `abstractmethod` decorator to define abstract properties.\n",
    "\n",
    "Abstract properties can be employed in abstract classes to ensure that concrete subclasses provide their own implementation for specific attributes, just like abstract methods ensure the implementation of specific methods. They help enforce a clearly defined interface for attributes while promoting code reusability and standardizing class interactions.\n"
   ]
  },
  {
   "cell_type": "markdown",
   "id": "23c38947-6375-473a-985f-57217c33c027",
   "metadata": {},
   "source": [
    "13. Create a Python class hierarchy for employees in a company (e.g., manager, developer, designer) and implement abstraction by defining a common `get_salary()` method."
   ]
  },
  {
   "cell_type": "code",
   "execution_count": 1,
   "id": "c161949f-b44c-4017-8cc3-3c58e2984a1f",
   "metadata": {},
   "outputs": [
    {
     "name": "stdout",
     "output_type": "stream",
     "text": [
      "10150000\n",
      "18000000.0\n",
      "143750.0\n"
     ]
    }
   ],
   "source": [
    "from abc import ABC, abstractmethod\n",
    "class Employees(ABC):\n",
    "    def __init__(self,name,role):\n",
    "        self.name=name\n",
    "        self.role=role\n",
    "    @abstractmethod\n",
    "    def get_salary(self):\n",
    "        pass\n",
    "class Manager(Employees):\n",
    "    def __init__(self,name,role,salary,bonus):\n",
    "        super().__init__(name,role)\n",
    "        self.salary=salary\n",
    "        self.bonus=bonus\n",
    "    def get_salary(self):\n",
    "        total_salary=self.salary+self.bonus\n",
    "        return total_salary\n",
    "class Developer(Employees):\n",
    "    def __init__(self,name,role,salary,level):\n",
    "        super().__init__(name,role)\n",
    "        self.salary=salary\n",
    "        self.level=level\n",
    "    def get_salary(self):\n",
    "        total_salary=self.salary*(1+self.level*0.1)\n",
    "        return total_salary\n",
    "class Designer(Employees):\n",
    "    def __init__(self,name,role,salary,experience):\n",
    "        super().__init__(name,role)\n",
    "        self.salary=salary\n",
    "        self.experience=experience\n",
    "    def get_salary(self):\n",
    "        total_salary=self.salary*(1+self.experience*0.05)\n",
    "        return total_salary\n",
    "manager=Manager(\"Praveen\",\"Manager\",10000000,150000)\n",
    "print(manager.get_salary())\n",
    "developer=Developer(\"Prince\",\"Developer\",12000000,5)\n",
    "print(developer.get_salary())\n",
    "designer=Designer(\"Paru\",\"Designer\",125000,3)\n",
    "print(designer.get_salary())"
   ]
  },
  {
   "cell_type": "markdown",
   "id": "11c94f66-82b9-47f7-871f-a10210e69425",
   "metadata": {},
   "source": [
    "14. Discuss the differences between abstract classes and concrete classes in Python, including their\n",
    "instantiation."
   ]
  },
  {
   "cell_type": "markdown",
   "id": "60166964-5970-43e6-910b-bd35e9e47607",
   "metadata": {},
   "source": [
    "Abstract Classes:\n",
    "1.  An abstract class in python is a class that cannot be instantiated on its own and is meant to used as a base class for other classes.\n",
    "2. Abstract classes often contain abstract methods and/or abstract properties, which are defined using the `@abstractmethod` and `@abstractproperty` decorators from the `abc` module.\n",
    "3. Abstract classes can define a contract specifying the methods and the properties that concrete subclasses must implement.\n",
    "4. Since an abstract class cannot be instantiated, its main purpose is to serve as a blueprint for other classes and enforce a certain interface or behavior.\n",
    "\n",
    "Concrete Classes:\n",
    "1. A concrete class in python is a regular class that can be instantiated directly to create objects.\n",
    "2. Concrete classes can have regular methods, properties, and attributes and they may or may not inherit from other classes.\n",
    "3. Instances of concrete classes can be created using the class constructor with the ‘()’ operator.\n"
   ]
  },
  {
   "cell_type": "markdown",
   "id": "00ecbfee-fb4d-46f3-9664-60aa26667dcc",
   "metadata": {},
   "source": [
    "15. Explain the concept of abstract data types (ADTs) and their role in achieving abstraction in Python."
   ]
  },
  {
   "cell_type": "markdown",
   "id": "46b640ba-6183-4cd5-861c-cc58213b039e",
   "metadata": {},
   "source": [
    "Abstract Data Types (ADTs) are a fundamental concept in computer science and programming that focus on the abstraction of data structures and operations. ADTs provide a way to define a clear interface for a data structure, including the operations that can be performed on it and the properties it should exhibit, without specifying the actual implementation details. In python, ADTs are important for achieving abstraction and separating the interface from the implementation.\n",
    "\n",
    "The role of ADTs in achieving abstraction in python can be summarized as follows:\n",
    "1. Encapsulation: ADTs encapsulate the data and operations related to a particular data structure, hiding the implementation details and exposing only the essential interface. This allows users of the ADT to work with the data structure without needing to understand its internal workings.\n",
    "2. Modularity: By defining data structures and operations are ADTs, developers can create modules that can be used independently in various parts of a program. This promotes code reusability and simplifies the overall design of the program.\n",
    "3. Interface Specification: ADTs defines a set of operations that can be performed on a data structure, along with their expected behavior. This clear interface allows different implementations of the ADT to be interchangeable, as long as they adhere to the specified operations and properties.\n",
    "4. Abstraction of Implementation: ADTs provide a way to focus on the essential characteristics of a data structure without getting bogged down in the details of how it is implemented. This allows for greater flexibility in choosing or switching implementations based on performance, memory requirements or other considerations.\n"
   ]
  },
  {
   "cell_type": "markdown",
   "id": "62459768-1d02-43c2-bc2c-caca7c298669",
   "metadata": {},
   "source": [
    "16. Create a Python class for a computer system, demonstrating abstraction by defining common methods (e.g., `power_on()`, `shutdown()`) in an abstract base class."
   ]
  },
  {
   "cell_type": "code",
   "execution_count": 3,
   "id": "f941e7e5-7d99-4993-a957-2dbce65accbb",
   "metadata": {},
   "outputs": [
    {
     "name": "stdout",
     "output_type": "stream",
     "text": [
      "PC is power on.\n",
      "PC is power off.\n"
     ]
    }
   ],
   "source": [
    "from abc import ABC,abstractmethod\n",
    "class System(ABC):\n",
    "    @abstractmethod\n",
    "    def power_on(self):\n",
    "        pass\n",
    "    @abstractmethod\n",
    "    def shutdown(self):\n",
    "        pass\n",
    "class Operations(System):\n",
    "    def power_on(self):\n",
    "        return(\"PC is power on.\")\n",
    "    def shutdown(self):\n",
    "        return(\"PC is power off.\")\n",
    "ops=Operations()\n",
    "print(ops.power_on())\n",
    "print(ops.shutdown())"
   ]
  },
  {
   "cell_type": "markdown",
   "id": "2799e405-1f47-4cee-94ac-c82968e5106b",
   "metadata": {},
   "source": [
    "17. Discuss the benefits of using abstraction in large-scale software development projects."
   ]
  },
  {
   "cell_type": "markdown",
   "id": "77346ca9-c881-41fb-a58f-2be24c411be4",
   "metadata": {},
   "source": [
    "1. Manageability and Maintainability: Abstraction allows developers to focus on high-level design and concepts, reducing the complexity of individual components and making it easier to understand and maintain the codebase. This makes it simpler to debug issues and make changes without needing to understand the intricate details of every implementation.\n",
    "2. Reusability: Abstraction facilitates the development of reusable components and modules. By creating abstract interfaces and classes, developers can create generic solutions that can be utilized across different parts of the system, promoting code reusability and reducing duplication.\n",
    "3. Flexibility and Adaptability: Abstraction enables developers to create replaceable components with well-defined interfaces. This makes it easier to swap out implementations without affecting the rest of the system, allowing for greater flexibility and adaptability to changing requirements and technologies.\n",
    "4. Collaboration and teamwork: Abstraction provide a common language and structure for development teams to work together effectively. It promotes a modular and organized approach to development, allowing team members to focus on their specific area of expertise while understanding how their work fits into the larger system.\n",
    "5. Scalability: Abstraction supports the scalability of software systems by allowing for the development of components that can be easily integrated and scaled as the project grows. It enables the system to be extended and modifies without disrupting the existing functionality.\n",
    "6. Improved Testing and Quality Assurance: Abstraction promotes the development of testable components with well-defined interfaces. This makes it easier to create clear and comprehensive tests, leading to improved quality assurance and reduced likelihood of introducing regressions when making changes."
   ]
  },
  {
   "cell_type": "markdown",
   "id": "018ac950-cfe4-453d-b38d-51795cf4e192",
   "metadata": {},
   "source": [
    "18. Explain how abstraction enhances code reusability and modularity in Python programs."
   ]
  },
  {
   "cell_type": "markdown",
   "id": "e30befae-97ef-47b8-8f98-bf5ffba56b64",
   "metadata": {},
   "source": [
    "In Python, abstraction enhances code reusability and modularity through several key features and best practices:\n",
    "\n",
    "1. Encapsulation: Encapsulation is a fundamental concept in object-oriented programming that allows the bundling of data and methods that operate on that data into single unit, called a class. By defining classes with well-defined interfaces and hiding the implementation details, encapsulation promotes code reusability and modularity.\n",
    "2. Abstract Base Classes (ABCs): Python’s built-in ‘abc’ module provides support for defining abstract base classes. By defining base classes and by defining abstract methods within an ABC, developers can enforce a certain interface or contract that concrete subclasses must implement. This promotes a consistent and modular approach to creating reusable components.\n",
    "3. Inheritance and Polymorphism: Python supports inheritance, which allows classes to inherit attributes and methods from a base class. This inheritance mechanism enables code reusability by allow subclasses to extend or specialize the behavior of their parent classes. It also facilitates polymorphism, where different objects can be treated as instances of a common base class, promoting modularity through interchangeable components.\n",
    "4. Module-level; Abstraction: Python’s module system encourages modularity by providing a way to logically organize code into separate files. By defining functions, classes and variables within modules, developers can create reusable components that can be imported and used across different parts of the program.\n",
    "5. Interfaces and Duck Typing: Python does not have a built-in interface keyword, but it supports the concept of “duck typing”, where the suitability of an object for a particular purpose is determined by the presence of certain methods and properties rather than by explicitly declaring interfaces. This allows for flexible and modular design, where different classes can be used interchangeable based on their behavior rather than their explicit type."
   ]
  },
  {
   "cell_type": "markdown",
   "id": "bfcd024e-cfa7-448b-8de2-11d74a76b1b5",
   "metadata": {},
   "source": [
    "19. Create a Python class for a library system, implementing abstraction by defining common methods (e.g., `add_book()`, `borrow_book()`) in an abstract base class."
   ]
  },
  {
   "cell_type": "code",
   "execution_count": 5,
   "id": "8bccd070-e8b0-454e-80e6-dd813479f91a",
   "metadata": {},
   "outputs": [
    {
     "name": "stdout",
     "output_type": "stream",
     "text": [
      "Helping hand\n",
      "Atomic habits\n"
     ]
    }
   ],
   "source": [
    "from abc import ABC, abstractmethod\n",
    "class Library(ABC):\n",
    "    def __init__(self,title,price):\n",
    "        self.title=title\n",
    "        self.price=price\n",
    "    @abstractmethod\n",
    "    def add_book(self):\n",
    "        pass\n",
    "    @abstractmethod\n",
    "    def borrow_book(self):\n",
    "        pass\n",
    "class Book(Library):\n",
    "    def __init__(self,title,price,author):\n",
    "        super().__init__(title,price)\n",
    "        self.author=author\n",
    "    def add_book(self,name):\n",
    "        self.title=name\n",
    "        return self.title\n",
    "    def borrow_book(self,name):\n",
    "        self.title=name\n",
    "        return self.title\n",
    "book=Book(\"Atomic habits\",150,\"James clear\")\n",
    "print(book.add_book(\"Helping hand\"))\n",
    "print(book.borrow_book(\"Atomic habits\"))"
   ]
  },
  {
   "cell_type": "markdown",
   "id": "326e5241-c2b3-4bd8-a5b4-04950779d265",
   "metadata": {},
   "source": [
    "20. Describe the concept of method abstraction in Python and how it relates to polymorphism."
   ]
  },
  {
   "cell_type": "markdown",
   "id": "d8938a92-8a46-4fa8-b7f8-34f6518365ab",
   "metadata": {},
   "source": [
    "Method abstraction in python refers to the practice of defining in a way that their behavior is abstracted from the specific implementation details. This involves creating method signatures and interfaces that specify what the method necessarily providing the exact details how it does it. This allows different classes to provide their own implementations of the methods, promoting code reusability and modularity.\n",
    "\n",
    "When method abstraction is used in conjunction with polymorphism, it allows for a powerful mechanism where different classes can provide their unique implementations of the same method. This means that even though multiple classes may have a method with the same name, the behavior of that method can vary based on the specific class instance that is being used.\n",
    "\n",
    "By abstracting the method in the base class, developers can promote code reusability and ensure that different subclasses adhere to a common interface or contract. This means that as long as the subclasses implement the abstract method with their own specific behavior, they can be used interchangeably where the base class is expected, thus promoting modularity and flexibility in the code."
   ]
  },
  {
   "cell_type": "markdown",
   "id": "209d1faf-e816-4552-bf9d-f5f6054250e8",
   "metadata": {},
   "source": [
    "Composition:"
   ]
  },
  {
   "cell_type": "markdown",
   "id": "deed62d9-f49e-49d3-bf09-463c064b88f9",
   "metadata": {},
   "source": [
    "1. Explain the concept of composition in Python and how it is used to build complex objects from simpler ones."
   ]
  },
  {
   "cell_type": "markdown",
   "id": "06d8bc74-43be-4df7-992e-17a1a12faff4",
   "metadata": {},
   "source": [
    "In python, composition refers to the practice of building complex objects by combining simpler objects as their components. This is achieved by creating relationships between objects where one object contains another object as a part of its internal structure. This concept allows for the creation of complex and modular designs by combining smaller, reusable components to form more sophisticated objects.\n",
    "\n",
    "Composition is typically implemented using object attributes or instance variables within a class. For example, a class representing a complex object can contain instances of other classes as its attributes, effectively incorporating those objects as parts of the larger whole. This allows the complex object to delegate certain responsibilities or behaviors to its component objects, promoting code reusability and modular design.\n",
    "\n",
    "Composition is often used to model real-world relationships and hierarchies, where complex entities are composed of simpler elements. For example, a car object may be composed of engine, chassis, and transmission objects, each responsible for its specific functionality. By using composition, the car object can encapsulate the behaviors of its component objects and provide a unified interface for interacting with the entire vehicle.\n",
    "\n",
    "Another common use of composition is in creating complex data structures or aggregating data from multiple sources. For instance, a complex data processing pipeline may be built by composing individual processing components that handle specific tasks such as data ingestion, transformation and analysis."
   ]
  },
  {
   "cell_type": "markdown",
   "id": "70dbdfa0-6eb4-4bc3-b071-abed8ad2cd50",
   "metadata": {},
   "source": [
    "2. Describe the difference between composition and inheritance in object-oriented programming."
   ]
  },
  {
   "cell_type": "markdown",
   "id": "5d21af76-86df-4971-979a-97a09682b749",
   "metadata": {},
   "source": [
    "1. Inheritance:\n",
    "- Inheritance is a mechanism in which a new class (subclass or s=derived class) is created by inheriting the properties and behaviors of an existing class (superclass or base class). This subclass can extend or modify the functionality of the superclass while inheriting its attributes and methods.\n",
    "- The key principle of inheritance is the “is-a” relationship, where the subclass is a specific type of the superclass. This relationship signifies that the subclass shares common characteristics with the superclass but may also have its own unique features.\n",
    "- Inheritance promotes code reuse by allowing subclasses to inherit the code and behavior of their subclasses, thereby reducing redundancy and promoting a hierarchical organization of class.\n",
    "- However, inheritance can lead to tight coupling between classes, making the code harder to maintain and extend. Changes in the superclass can directly impact its subclasses, and deeply nested inheritance hierarchies can become complex and difficult to understand.\n",
    "\n",
    "2. Composition:\n",
    "- Composition is a design principle where a class contains object of other classes as part of its internal structure. The class created relationships with its component objects, and its behavior is often implemented by delegating responsibilities to these components.\n",
    "- The key principle of composition is the “has-a” relationship, indicating that a class has another class as a part of its structure or functionality. Through composition, classes can be combined to create more complex and modular design, promoting code reusability and flexibility.\n",
    "- Composition facilitates loose coupling between classes, allowing for independent modification of component objects without affecting the overall structure of the containing class. This promotes flexibility and easier maintenance of the codebase.\n",
    "- While composition promotes flexibility and modularity, it may lead to a higher degree of complexity in managing the relations between classes, especially in large and interconnected systems."
   ]
  },
  {
   "cell_type": "markdown",
   "id": "af0b1a51-9a51-41eb-8542-13a2bdb76d1e",
   "metadata": {},
   "source": [
    "3. Create a Python class called `Author` with attributes for name and birthdate. Then, create a `Book` class\n",
    "that contains an instance of `Author` as a composition. Provide an example of creating a `Book` object."
   ]
  },
  {
   "cell_type": "code",
   "execution_count": 9,
   "id": "cc710e86-969a-42ef-8352-f176488069c5",
   "metadata": {},
   "outputs": [
    {
     "name": "stdout",
     "output_type": "stream",
     "text": [
      "Title:Harry Potter and Sorcerer's stone, Author:JK Rowling, Published year:1997\n"
     ]
    }
   ],
   "source": [
    "class Author:\n",
    "    def __init__(self,name,birth_date):\n",
    "        self.name=name\n",
    "        self.birth_date=birth_date\n",
    "class Book:\n",
    "    def __init__(self,title,author,published_year):\n",
    "        self.title=title\n",
    "        self.author=author\n",
    "        self.published_year=published_year\n",
    "author=Author(\"JK Rowling\",\"July 31, 1965\")\n",
    "book1=Book(\"Harry Potter and Sorcerer's stone\",author,1997)\n",
    "print(f\"Title:{book1.title}, Author:{book1.author.name}, Published year:{book1.published_year}\")"
   ]
  },
  {
   "cell_type": "markdown",
   "id": "d9a8e492-357b-4db0-83f5-d3866d0eecb8",
   "metadata": {},
   "source": [
    "4. Discuss the benefits of using composition over inheritance in Python, especially in terms of code flexibility\n",
    "and reusability."
   ]
  },
  {
   "cell_type": "markdown",
   "id": "e8c9b29d-aace-47d2-b87e-23b19285748f",
   "metadata": {},
   "source": [
    "Composition and inheritance are two different ways to achieve code flexibility and reusability in object-oriented programming. While inheritance allows a class to inherit properties and behavior from another class, composition involves constructing a class with references to other objects. Here are some benefits of using composition over inheritance in python, especially in terms of code flexibility and reusability:\n",
    "\n",
    "1. Flexibility: Composition allows for more flexibility in defining the relationships between objects. With inheritance, the subclass is tightly bound to the superclass, and any changes to the superclass can have a cascading impact on the subclasses. In contrast, with composition, the relationship between objects can be more dynamic and flexible, allowing for easier modification and extension of the class.\n",
    "2. Code Reusability: Composition promotes code reusability by allowing the reuse of existing classes within new classes without being tightly coupled to the behavior of the reused classes. This make it easier to create and adapt complex object structures by reusing existing components.\n",
    "3. Encapsulation: Composition provides better encapsulation by allowing objects to define their own behavior and manage their own state. This can result in more modular and maintainable code, as the internal implementation details of the composed objects can be hidden from the rest of the system.\n",
    "4. Reduced Coupling: By using composition, classes can be designed to be loosely coupled, which means that changes to one class do not necessarily affect the behavior or implementation of the other classes. This reduces the risk of unintended side effects and makes the codebase more robust.\n",
    "5. Multiple Inheritance Pitfalls: Python’s support for multiple inheritance can lead to complex class hierarchies and the diamond problem. Composition allows developers to achieve the same code structure without the pitfalls associated with multiple inheritance."
   ]
  },
  {
   "cell_type": "markdown",
   "id": "c0deb87b-cec3-43d5-9428-b3cb0c0f8d18",
   "metadata": {},
   "source": [
    "5. How can you implement composition in Python classes? Provide examples of using composition to create\n",
    "complex objects."
   ]
  },
  {
   "cell_type": "markdown",
   "id": "6fb54cc3-40b6-46cb-8992-96ca478e202b",
   "metadata": {},
   "source": [
    "In python, you can implement composition by creating classes that contain instances of other classes as attributes. This allows you to build complex objects by composing them from simpler components. Here’s an example of using composition to create complex objects."
   ]
  },
  {
   "cell_type": "code",
   "execution_count": 12,
   "id": "c8f91f7a-f3db-4e97-b60f-c7e4c4a75507",
   "metadata": {},
   "outputs": [
    {
     "data": {
      "text/plain": [
       "'Car started'"
      ]
     },
     "execution_count": 12,
     "metadata": {},
     "output_type": "execute_result"
    }
   ],
   "source": [
    "class Engine:\n",
    "    def __init__(self,horsepower):\n",
    "        self.horsepower=horsepower\n",
    "    def start(self):\n",
    "        return \"Engine started\"\n",
    "class Car:\n",
    "    def __init__(self,make,model,engine):\n",
    "        self.make=make\n",
    "        self.model=model\n",
    "        self.engine=engine\n",
    "    def start_engine(self):\n",
    "        self.engine.start()\n",
    "        return \"Car started\"\n",
    "engine=Engine(200)\n",
    "car=Car(\"Hyundai\",\"Tuscon\",engine)\n",
    "car.start_engine()"
   ]
  },
  {
   "cell_type": "markdown",
   "id": "6cb535f6-e346-460e-b209-7854a22f52b1",
   "metadata": {},
   "source": [
    "This composition allows us to build complex objects like a car with an engine. The `Car` class delegates the responsibility of starting the engine to the `Engine` class, demonstrating the encapsulation and flexibility achieved through composition."
   ]
  },
  {
   "cell_type": "markdown",
   "id": "5b462db5-717f-4f9e-bf03-200e1d6a6709",
   "metadata": {},
   "source": [
    "6. Create a Python class hierarchy for a music player system, using composition to represent playlists and\n",
    "songs."
   ]
  },
  {
   "cell_type": "code",
   "execution_count": 1,
   "id": "b5ce4be4-b407-4eb6-bb45-4b5c7f7428a3",
   "metadata": {},
   "outputs": [
    {
     "name": "stdout",
     "output_type": "stream",
     "text": [
      "Playlist:Classic Rock\n",
      "Now plaing: Steal My Girl by One Direction\n",
      "Now plaing: Closer by The Chainsmoker\n",
      "Now plaing: Animal by Martin Garrix\n"
     ]
    }
   ],
   "source": [
    "class Song:\n",
    "    def __init__(self,title,artist,duration):\n",
    "        self.title=title\n",
    "        self.artist=artist\n",
    "        self.duration=duration\n",
    "    def play(self):\n",
    "        print(f\"Now plaing: {self.title} by {self.artist}\")\n",
    "class Playlist:\n",
    "    def __init__(self,name):\n",
    "        self.name=name\n",
    "        self.songs=[]\n",
    "    def add_songs(self,song):\n",
    "        self.songs.append(song)\n",
    "    def play(self):\n",
    "        print(f\"Playlist:{self.name}\")\n",
    "        for song in self.songs:\n",
    "            song.play()\n",
    "class MusicPlayer:\n",
    "    def __init__(self):\n",
    "        self.playlists=[]\n",
    "    def add_playlist(self,playlist):\n",
    "        self.playlists.append(playlist)\n",
    "    def play(self,playlist_name):\n",
    "        for playlist in self.playlists:\n",
    "            if playlist.name==playlist_name:\n",
    "                playlist.play()\n",
    "            else:\n",
    "                return(f\"Playlist {playlist_name} not found\")\n",
    "song1=Song(\"Steal My Girl\",\"One Direction\",354)\n",
    "song2=Song(\"Closer\",\"The Chainsmoker\",255)\n",
    "song3=Song(\"Animal\",\"Martin Garrix\",455)\n",
    "playlist1=Playlist(\"Classic Rock\")\n",
    "playlist1.add_songs(song1)\n",
    "playlist1.add_songs(song2)\n",
    "playlist1.add_songs(song3)\n",
    "music_player=MusicPlayer()\n",
    "music_player.add_playlist(playlist1)\n",
    "music_player.play(\"Classic Rock\")"
   ]
  },
  {
   "cell_type": "markdown",
   "id": "ade39d94-e1af-42b0-a149-4a531c8f8b9a",
   "metadata": {},
   "source": [
    "7. Explain the concept of \"has-a\" relationships in composition and how it helps design software systems."
   ]
  },
  {
   "cell_type": "markdown",
   "id": "bd5e4dcc-b249-4635-a9dc-46c3eaa8e99c",
   "metadata": {},
   "source": [
    "In object-oriented programming, the concept of “has-a” relationships in composition refers to the idea the one class “has” another class as a part of its implementation. This means that one class contains an instance of another class as one of its member variables. In other words, the containing class is composed of (or has as a part) the contained class.\n",
    "\n",
    "Composition allows for creating complex classes and systems by building them from simpler, reusable components. Here are some key points about how “has-a” relationships in composition helps design software systems:\n",
    "\n",
    "1. Modularity and Reusability: By breaking down a system into separate components and using composition to combine them, we can create modular and reusable classes. This makes it easier to maintain and extend the system, as changes to one component do not necessarily affect other components.\n",
    "2. Encapsulation: Each component can encapsulate its own functionality and data, providing a clear interface for interacting with the component. This promotes encapsulation a fundamental principle of object-oriented design, and allows for better separation of concerns.\n",
    "3. Flexibility and Extensibility: Composition allows for flexibility and extensibility in design. It enables the creation of complex systems by combining simpler components, and it allows for new components to be added or existing components to be replaced without impacting the entire system.\n",
    "4. Code Reuse: Composition encourages code reuse by allowing the same component classes to be used in different context and systems. This can lead to more efficient and maintainable code, as well as more consistent behavior across different parts of a system.\n",
    "5. Dependency Management: using composition to build systems helps manage dependencies between classes and reduce coupling. This can lead to more maintainable and testable code, as changes to one class do not, necessarily impact other classes.\n"
   ]
  },
  {
   "cell_type": "markdown",
   "id": "132d665c-e6c7-4a85-b3b6-60209ab0a777",
   "metadata": {},
   "source": [
    "8. Create a Python class for a computer system, using composition to represent components like CPU, RAM,\n",
    "and storage devices."
   ]
  },
  {
   "cell_type": "code",
   "execution_count": 3,
   "id": "60a4eb27-47c3-4684-9995-4c35db77f6b2",
   "metadata": {},
   "outputs": [
    {
     "name": "stdout",
     "output_type": "stream",
     "text": [
      "Computer System- CPU: Intel Core i7, Cores: 8 , RAM: 16GB, Speed: 2400MHz , Storage: 512GB, Type: SSD\n"
     ]
    }
   ],
   "source": [
    "class CPU:\n",
    "    def __init__(self,model,core):\n",
    "        self.model=model\n",
    "        self.core=core\n",
    "    def __str__(self):\n",
    "        return f\"CPU: {self.model}, Cores: {self.core}\"\n",
    "class RAM:\n",
    "    def __init__(self,size_gb,speed_mhz):\n",
    "        self.size_gb=size_gb\n",
    "        self.speed_mhz=speed_mhz\n",
    "    def __str__(self):\n",
    "        return f\"RAM: {self.size_gb}GB, Speed: {self.speed_mhz}MHz\"\n",
    "class Storage:\n",
    "    def __init__(self,capacity_gb,type):\n",
    "        self.capacity_gb=capacity_gb\n",
    "        self.type=type\n",
    "    def __str__(self):\n",
    "        return f\"Storage: {self.capacity_gb}GB, Type: {self.type}\"\n",
    "class ComputerSystem:\n",
    "    def __init__(self,cpu,ram,storage):\n",
    "        self.cpu=cpu\n",
    "        self.ram=ram\n",
    "        self.storage=storage\n",
    "    def __str__(self):\n",
    "        return f\"Computer System- {self.cpu} , {self.ram} , {self.storage}\"\n",
    "cpu=CPU(\"Intel Core i7\",8)\n",
    "ram=RAM(16,2400)\n",
    "storage=Storage(512,\"SSD\")\n",
    "computer=ComputerSystem(cpu,ram,storage)\n",
    "print(computer)"
   ]
  },
  {
   "cell_type": "markdown",
   "id": "5149b139-99f0-4727-8dc2-3272c08885f6",
   "metadata": {},
   "source": [
    "9. Describe the concept of \"delegation\" in composition and how it simplifies the design of complex systems."
   ]
  },
  {
   "cell_type": "markdown",
   "id": "3acb152d-3fec-4b1c-b882-ebfdf44923c6",
   "metadata": {},
   "source": [
    "In context of object-oriented programming, delegation in composition refers to the practice of designing classes to use other classes to achieve some their functionalities, rather than inheriting from them. This approach allows for greater flexibility and modularity in the design of complex systems.\n",
    "\n",
    "By using delegation, a class can delegate specific tasks or responsibilities to another class, resulting in a more loosely coupled and maintainable system. This simplifies the design of complex systems in several ways:\n",
    "\n",
    "1. Separation of concerns: Delegation allows different classes to focus on specific responsibilities, making the system easier to understand and modify. Each class is responsible for a specific set of tasks, enhancing the overall organization and reusability of the code.\n",
    "2. Reusability: Delegation facilitates the reuse of existing classes and components in different contexts. By delegating tasks to separate classes, components can be easily swapped or extended without affecting the overall system’s functionality.\n",
    "3. Encapsulation: Delegation promotes encapsulation as each class is responsible for its own functionality. This can lead to better encapsulation and information hiding, preventing unintended dependencies and side effects.\n",
    "4. Flexibility: Delegation allows for greater flexibility in the design of complex systems. Different implementations of delegated components can be easily plugged in, enabling the system to adapt to changing requirements and environments.\n",
    "5. Testability: Delegation can improve testability by allowing individual classes to be tested in isolation. This makes it easier to write unit tests for different components, ensuring their correctness and reliability."
   ]
  },
  {
   "cell_type": "markdown",
   "id": "c76ea452-fd06-4c2f-bd1b-5d66eed1e754",
   "metadata": {},
   "source": [
    "10. Create a Python class for a car, using composition to represent components like the engine, wheels, and\n",
    "transmission."
   ]
  },
  {
   "cell_type": "code",
   "execution_count": 4,
   "id": "c3e027db-9524-4710-aea5-ff759b545c7d",
   "metadata": {},
   "outputs": [
    {
     "name": "stdout",
     "output_type": "stream",
     "text": [
      "The Tuscon made by Hyundai has specifications- EngineType:Petrol, Torque:6200rpm, Horsepower:153.81bhp, Wheels:Size:18In, Type of alloy:Diamond cut, Transmission:Transmission:Automatic\n"
     ]
    }
   ],
   "source": [
    "class Engine:\n",
    "    def __init__(self,type,rpm,horsepower):\n",
    "        self.type=type\n",
    "        self.rpm=rpm\n",
    "        self.horsepower=horsepower\n",
    "    def __str__(self):\n",
    "        return f\"Type:{self.type}, Torque:{self.rpm}rpm, Horsepower:{self.horsepower}bhp\"\n",
    "class Wheels:\n",
    "    def __init__(self,size,alloy_type):\n",
    "        self.size=size\n",
    "        self.alloy_type=alloy_type\n",
    "    def __str__(self):\n",
    "        return f\"Size:{self.size}In, Type of alloy:{self.alloy_type}\"\n",
    "class Transmission:\n",
    "    def __init__(self,transmission):\n",
    "        self.transmission=transmission\n",
    "    def __str__(self):\n",
    "        return f\"Transmission:{self.transmission}\"\n",
    "class Car:\n",
    "    def __init__(self,make,model,engine,wheels,transmission):\n",
    "        self.make=make\n",
    "        self.model=model\n",
    "        self.engine=engine\n",
    "        self.wheels=wheels\n",
    "        self.transmission=transmission\n",
    "    def __str__(self):\n",
    "        return f\"The {self.model} made by {self.make} has specifications- Engine{self.engine}, Wheels:{self.wheels}, Transmission:{self.transmission}\"\n",
    "engine=Engine(\"Petrol\",6200,153.81)\n",
    "wheels=Wheels(18,\"Diamond cut\")\n",
    "transmission=Transmission(\"Automatic\")\n",
    "car=Car(\"Hyundai\",\"Tuscon\",engine,wheels,transmission)\n",
    "print(car)"
   ]
  },
  {
   "cell_type": "markdown",
   "id": "c46c77c3-7d83-4fff-ac87-2f549dfe0013",
   "metadata": {},
   "source": [
    "11. How can you encapsulate and hide the details of composed objects in Python classes to maintain\n",
    "abstraction?"
   ]
  },
  {
   "cell_type": "markdown",
   "id": "428679f1-4ba9-4d9f-9a1d-13e042448572",
   "metadata": {},
   "source": [
    "In Python, you can encapsulate and hide the details of composed objects in classes to maintain abstraction by using private variables and methods. Python uses a convention for private variables and methods, which involves prefixing the variable or method name with a double underscore (e.g., ’__variable’ or ‘__method()’). This convention indicates that the variable or method is intended to be private and should not be accessed directly by external code."
   ]
  },
  {
   "cell_type": "code",
   "execution_count": 5,
   "id": "13d6d001-dd96-4ebb-8491-2b8a00200a53",
   "metadata": {},
   "outputs": [],
   "source": [
    "class ComposedObject:\n",
    "    def __init__(self):\n",
    "        self.__inner_object=InnerObject()\n",
    "    def public_method(self):\n",
    "        return self.__inner_object.public_method()\n",
    "    def __private_method(self):\n",
    "        returnself.__inner_object.__private_method()\n",
    "class InnerObject:\n",
    "    def public_method(self):\n",
    "        pass\n",
    "    def __private_method(self):\n",
    "        pass"
   ]
  },
  {
   "cell_type": "markdown",
   "id": "521d138f-3f87-406e-ac91-dd6a0a5b0969",
   "metadata": {},
   "source": [
    "12. Create a Python class for a university course, using composition to represent students, instructors, and\n",
    "course materials."
   ]
  },
  {
   "cell_type": "code",
   "execution_count": 2,
   "id": "bcd2a131-82bc-4e61-b3a8-25dd2136f480",
   "metadata": {},
   "outputs": [
    {
     "name": "stdout",
     "output_type": "stream",
     "text": [
      "Course:Introduction to DSA\n",
      "Instructor:Instructor:Dr. Smith (ID:L001)\n",
      "Students:\n",
      "Student:Ali (ID:S001)\n",
      "Student:Ram (ID:S002)\n",
      "Textbooks:\n",
      "-Maths\n",
      "-DSA\n",
      "Syllabus:Week-by-week schedule and topics\n",
      "Course Materials:None\n"
     ]
    }
   ],
   "source": [
    "class Student:\n",
    "    def __init__(self,name,roll_no):\n",
    "        self.name=name\n",
    "        self.roll_no=roll_no\n",
    "    def __str__(self):\n",
    "        return f\"Student:{self.name} (ID:{self.roll_no})\"\n",
    "class Instructor:\n",
    "    def __init__(self,name,id):\n",
    "        self.name=name\n",
    "        self.id=id\n",
    "    def __str__(self):\n",
    "        return f\"Instructor:{self.name} (ID:{self.id})\"\n",
    "class CourseMaterials:\n",
    "    def __init__(self,textbooks,syllabus):\n",
    "        self.textbooks=textbooks\n",
    "        self.syllabus=syllabus\n",
    "    def display_materials(self):\n",
    "        print(\"Textbooks:\")\n",
    "        for book in self.textbooks:\n",
    "            print(f\"-{book}\")\n",
    "        print(f\"Syllabus:{self.syllabus}\")\n",
    "class UniversityCourse:\n",
    "    def __init__(self,course_name,instructor,students,course_materials):\n",
    "        self.course_name=course_name\n",
    "        self.instructor=instructor\n",
    "        self.students=students\n",
    "        self.course_materials=course_materials\n",
    "    def display_course_info(self):\n",
    "        print(f\"Course:{self.course_name}\")\n",
    "        print(f\"Instructor:{self.instructor}\")\n",
    "        print(f\"Students:\")\n",
    "        for student in self.students:\n",
    "            print(student)\n",
    "        print(f\"Course Materials:{self.course_materials.display_materials()}\")\n",
    "student1=Student(\"Ali\",\"S001\")\n",
    "student2=Student(\"Ram\",\"S002\")\n",
    "instructor=Instructor(\"Dr. Smith\",\"L001\")\n",
    "textbooks=[\"Maths\",\"DSA\"]\n",
    "syllabus=\"Week-by-week schedule and topics\"\n",
    "course_materials=CourseMaterials(textbooks,syllabus)\n",
    "university_course=UniversityCourse(\"Introduction to DSA\",instructor,[student1,student2],course_materials)\n",
    "university_course.display_course_info()"
   ]
  },
  {
   "cell_type": "markdown",
   "id": "d10a6ffb-9cbd-4a29-9463-926a48868fb0",
   "metadata": {},
   "source": [
    "14. Create a Python class hierarchy for a restaurant system, using composition to represent menus, dishes,\n",
    "and ingredients."
   ]
  },
  {
   "cell_type": "code",
   "execution_count": 5,
   "id": "9b95ad7f-26a3-444d-9bd6-2c679ed4451a",
   "metadata": {},
   "outputs": [
    {
     "name": "stdout",
     "output_type": "stream",
     "text": [
      "Table number: 2\n",
      "Menus: [<__main__.Menus object at 0x7f92dc904400>, <__main__.Menus object at 0x7f92dc907ac0>]\n",
      "Dishes:\n",
      "Chicken Curry\n",
      "Rice\n",
      "Panner Pasanda\n",
      "Ingredients:\n",
      "Cumin\n",
      "Coriander\n",
      "Turmeric\n",
      "Ginger\n",
      "Amount: half-teaspoon\n",
      "Ingredients: None\n"
     ]
    }
   ],
   "source": [
    "class Menus:\n",
    "    def __init__(self,type,starters):\n",
    "        self.type=type\n",
    "        self.starters=starters\n",
    "    def __str__(self):\n",
    "        return f\"Menu:{self.type}, Starters:{self.starters}\"\n",
    "class Dishes:\n",
    "    def __init__(self,veg_or_nonveg,name,price):\n",
    "        self.veg_or_nonveg=veg_or_nonveg\n",
    "        self.name=name\n",
    "        self.price=price\n",
    "    def __str__(self):\n",
    "        return f\"Dish:{self.name} is {self.veg_or_nonveg}, Price:{self.price}\"\n",
    "class Ingredients:\n",
    "    def __init__(self,name,amount):\n",
    "        self.name=name\n",
    "        self.amount=amount\n",
    "    def display_info(self):\n",
    "        print(\"Ingredients:\")\n",
    "        for i in self.name:\n",
    "            print(i)\n",
    "        print(\"Amount:\",self.amount)\n",
    "class Restaurant:\n",
    "    def __init__(self,table_no,menus,dishes,ingredients):\n",
    "        self.table_no=table_no\n",
    "        self.menus=menus\n",
    "        self.dishes=dishes\n",
    "        self.ingredients=ingredients\n",
    "    def display_details(self):\n",
    "        print(\"Table number:\",self.table_no)\n",
    "        print(\"Menus:\",self.menus)\n",
    "        print(\"Dishes:\")\n",
    "        for dish in self.dishes.name:\n",
    "            print(dish)\n",
    "        print(\"Ingredients:\",self.ingredients.display_info())\n",
    "menus1=Menus(\"Dinner\",\"Manchurian\")\n",
    "menus2=Menus(\"Coffee house menu\",\"None\")\n",
    "name=[\"Chicken Curry\",\"Rice\",\"Panner Pasanda\"]\n",
    "price=[1200,600,2000]\n",
    "dishes=Dishes(\"veg/non-veg\",name,price)\n",
    "name1=['Cumin','Coriander','Turmeric','Ginger']\n",
    "ingredients=Ingredients(name1,\"half-teaspoon\")\n",
    "restaurant=Restaurant(2,[menus1,menus2],dishes,ingredients)\n",
    "restaurant.display_details()"
   ]
  },
  {
   "cell_type": "markdown",
   "id": "04999786-8e07-4e3d-9c8a-60c440a4709d",
   "metadata": {},
   "source": [
    "15. Explain how composition enhances code maintainability and modularity in Python programs."
   ]
  },
  {
   "cell_type": "markdown",
   "id": "ec81b0a6-e52e-4f22-8eb3-7a3f2d487d89",
   "metadata": {},
   "source": [
    "Composition enhances code maintainability and modularity in python programs by promoting the creation of independent, reusable components that can be combined to build more complex systems. Here’s how composition achieves this:\n",
    "\n",
    "1. Encapsulation: Composition allows you to encapsulate the functionality of a component within a separate class. This enables you to define a clear interacting with the component, hiding its implementation details. This encapsulation promotes modularity by allowing you to focus on the behavior of individual components without being concerned with how they are implemented.\n",
    "2. Reusability: With composition, you can create small specialized components that can be reused in different contexts. This promotes modularity by allowing you to build systems from a collection of independent, interchangeable parts. These components are often easier to maintain and extend because they have well-defined interfaces and can be tested in isolation. \n",
    "3. Separation of concerns: Composition encourages the separation of concerns, where each class or component is responsible for a specific aspect of the system. This separation makes it easier to understand, modify, and maintain the code by keeping related functionality together and minimizing the impact of changes on other parts of the system.\n",
    "4. Flexibility: By composition objects from smaller, independent components, you can create flexible and adaptable systems. You can easily replace or extend individual components without affecting the rest of the system. This flexibility promotes maintainability by allowing you to evolve the codebase in response to changing requirements.\n",
    "5. Abstraction: Composition allows you to create abstraction layers, where higher-level components rely on the interfaces of lower-level components without needing to understand their internal implementation. This abstraction promotes modularity by reducing the complexity of the code and providing clear boundaries between parts of the system.\n"
   ]
  },
  {
   "cell_type": "markdown",
   "id": "27bd061e-1abd-4eb7-9fe8-e29105bc2355",
   "metadata": {},
   "source": [
    "16. Create a Python class for a computer game character, using composition to represent attributes like\n",
    "weapons, armor, and inventory."
   ]
  },
  {
   "cell_type": "code",
   "execution_count": 2,
   "id": "c81a3ba1-9013-49db-825f-adf8687bafb4",
   "metadata": {},
   "outputs": [],
   "source": [
    "class Weapon:\n",
    "    def __init__(self,name,damage):\n",
    "        self.name=name\n",
    "        self.damage=damage\n",
    "class Inventory:\n",
    "    def __init__(self):\n",
    "        self.items=[]\n",
    "    def add_item(self,item):\n",
    "        self.items.append(item)\n",
    "    def remove_item(self,item):\n",
    "        if item in self.items:\n",
    "            self.items.remove(item)\n",
    "class GameCharacter:\n",
    "    def __init__(self,name,health):\n",
    "        self.name=name\n",
    "        self.health=health\n",
    "        self.weapon=None\n",
    "        self.armor=None\n",
    "        self.inventory=Inventory()\n",
    "    def equip_weapon(self,weapon):\n",
    "        self.weapon=weapon\n",
    "    def equip_armor(self,armor):\n",
    "        self.armor=armor\n",
    "    def add_to_inventory(self,item):\n",
    "        self.inventory.add_item(item)\n",
    "    def remove_from_inventory(self,item):\n",
    "        self.inventory.remove_item(item)"
   ]
  },
  {
   "cell_type": "markdown",
   "id": "796541e2-5ac6-4646-bc06-483a24ef2943",
   "metadata": {},
   "source": [
    "17. Describe the concept of \"aggregation\" in composition and how it differs from simple composition."
   ]
  },
  {
   "cell_type": "markdown",
   "id": "ac026681-212b-431f-821a-a4e75dffe819",
   "metadata": {},
   "source": [
    "Aggregation is a form of composition where one class is composed of one or more instances of another class, often referred to as “has-a” relationship. Aggregation is a more specialized form of composition, indicating whole-part relationships where the part (the aggregate object) can exist independently of the whole (the aggregating object).\n",
    "\n",
    "Aggregation in composition differs from simple composition in the following ways:\n",
    "\n",
    "1. Independence: In aggregation, the aggregated object can exist independently of the aggregating object. This means that even if the aggregating object is destroyed, the aggregated object can still exist. For example, a university can be composed of departments and even if the university ceases to exist, the departments can still exist.\n",
    "2. Multiplicity: Aggregation can involve multiple instances of the aggregated class within a single instance of the aggregating class. For example, a car be composed of multiple heels, but each wheel can exist independently and can be shared by multiple cars.\n",
    "3. Weaker relationship: Aggregation implies a weaker relationship compared to simple composition. In simple composed objects are tightly coupled and are considered to be part of the whole, meaning they cannot exist independently of the parent object.\n"
   ]
  },
  {
   "cell_type": "markdown",
   "id": "66bbdb10-62e4-47b5-ba4b-19ef4088a645",
   "metadata": {},
   "source": [
    "18. Create a Python class for a house, using composition to represent rooms, furniture, and appliances."
   ]
  },
  {
   "cell_type": "code",
   "execution_count": 10,
   "id": "fc9a367f-f347-47c7-9489-77ff90fd6c16",
   "metadata": {},
   "outputs": [
    {
     "name": "stdout",
     "output_type": "stream",
     "text": [
      "Size: 30*60 feet\n",
      "Floors: 2\n",
      "Rooms: Rooms:5,Windows:3\n",
      "Furniture:\n",
      "Furniture:2,Material:Wooden\n",
      "Furniture:5,Material:Alloy\n",
      "Appliances:\n",
      "Lamp\n",
      "Air Purifier\n",
      "Paintings\n",
      "Type: ['Electric', 'Electric', 'Paper']\n",
      "Appliances: None\n",
      "None\n"
     ]
    }
   ],
   "source": [
    "class Rooms:\n",
    "    def __init__(self,total_no,windows):\n",
    "        self.total_no=total_no\n",
    "        self.windows=windows\n",
    "    def __str__(self):\n",
    "        return f\"Rooms:{self.total_no},Windows:{self.windows}\"\n",
    "class Furniture:\n",
    "    def __init__(self,total_no,material):\n",
    "        self.total_no=total_no\n",
    "        self.material=material\n",
    "    def __str__(self):\n",
    "        return f\"Furniture:{self.total_no},Material:{self.material}\"\n",
    "class Appliances:\n",
    "    def __init__(self,name,type):\n",
    "        self.name=name\n",
    "        self.type=type\n",
    "    def display_appliances(self):\n",
    "        print(\"Appliances:\")\n",
    "        for appliance in self.name:\n",
    "            print(appliance)\n",
    "        print(\"Type:\",self.type)\n",
    "class House:\n",
    "    def __init__(self,size,floors,rooms,furniture):\n",
    "        self.size=size\n",
    "        self.floors=floors\n",
    "        self.rooms=rooms\n",
    "        self.furniture=furniture\n",
    "        self.appliances=Appliances(name,type)\n",
    "    def display_house(self):\n",
    "        print(\"Size:\",self.size,\"feet\")\n",
    "        print(\"Floors:\",self.floors)\n",
    "        print(\"Rooms:\",self.rooms)\n",
    "        print(\"Furniture:\")\n",
    "        for f in self.furniture:\n",
    "            print(f)\n",
    "        print(\"Appliances:\",self.appliances.display_appliances())\n",
    "rooms=Rooms(5,3)\n",
    "furniture1=Furniture(2,\"Wooden\")\n",
    "furniture2=Furniture(5,\"Alloy\")\n",
    "name=['Lamp','Air Purifier','Paintings']\n",
    "type=['Electric','Electric','Paper']\n",
    "appliances=Appliances(name,type)\n",
    "house=House(\"30*60\",2,rooms,[furniture1,furniture2])\n",
    "print(house.display_house())"
   ]
  },
  {
   "cell_type": "markdown",
   "id": "b2835d3c-335c-4d5a-b50d-ee338f043d19",
   "metadata": {},
   "source": [
    "19. How can you achieve flexibility in composed objects by allowing them to be replaced or modified\n",
    "dynamically at runtime?"
   ]
  },
  {
   "cell_type": "markdown",
   "id": "314f982a-c6da-4f77-b112-75296e198c34",
   "metadata": {},
   "source": [
    "One way to achieve flexibility in composed objects and allow them to be replaced or modified dynamically at runtime is through the use of interfaces and polymorphism in object-oriented programming.\n",
    "\n",
    "By defining interfaces for the components that can be composed, and then implementing these interfaces in various classes, you can achieve flexibility in object composition. At runtime, you can replace or modify the behavior of the composed objects by substituting different implementations of the interfaces.\n",
    "Here are some key steps to achieve this flexibility:\n",
    "\n",
    "1. Define interfaces: Identify the common behavior or functionality that the composed objects should exhibit and define interfaces for these behaviors. For example, if you are composing a set of payment methods, you can define an interface like “PaymentMethod” with methods such as “processPayment” and “refundPayment”.\n",
    "2. Implement interfaces: Implement the defined interfaces in different classes that represent the various behaviors or functionalities. For example, you can have classes like “CreditCardPay”, ”PayPalPayment”, ”GiftCardPayment”, etc., implementing the “PaymentMethod” interface with their specific implementation of the “processPayment” and “refundPayment” methods.\n",
    "3. Compose using interfaces: In the client code that composes these objects, use the interfaces rather than concrete implementation. This allows for flexibility in substituting different implementations of the interfaces at runtime.\n",
    "4. Use polymorphism: Use polymorphism to work with objects through their interfaces, rather than their specific implementations. This allows you to replace or modify the behavior of the composed objects dynamically at runtime.\n"
   ]
  },
  {
   "cell_type": "markdown",
   "id": "37ad5f33-fa6a-4c34-b368-fd226037adf9",
   "metadata": {},
   "source": [
    "20. Create a Python class for a social media application, using composition to represent users, posts, and\n",
    "comments."
   ]
  },
  {
   "cell_type": "code",
   "execution_count": null,
   "id": "275087c9-a31e-4682-840b-57cc8e2aece0",
   "metadata": {},
   "outputs": [],
   "source": [
    "class Users:\n",
    "    def __init__(self,username,followers):\n",
    "        self.username=username\n",
    "        self.followers=followers\n",
    "    def __str__(self):\n",
    "        return f\"Username:{self.username},Followers:{self.followers}\"\n",
    "class Posts:\n",
    "    def __init__(self,size,likes):\n",
    "        self.size=size\n",
    "        self.likes=likes\n",
    "    def display_posts_info(self):\n",
    "        print(\"Size:\")\n",
    "        for i in self.size:\n",
    "            print(i)\n",
    "        print(\"Likes:\",self.likes)\n",
    "class Comments:\n",
    "    def __init__(self,pinned,top):\n",
    "        self.pinned=pinned\n",
    "        self.top=top\n",
    "    def display_comments_info(self):\n",
    "        print(\"Pinned Comments:\")\n",
    "        for pc in self.pinned:\n",
    "            print(pc)\n",
    "        print(\"Top Comments:\")\n",
    "        for tc in self.top:\n",
    "            print(tc)\n",
    "class App:\n",
    "    def __init__(self,users,posts,comments):\n",
    "        self.users={}\n",
    "        self.posts=Posts()\n",
    "        self.comments=Comments()\n",
    "    def display_app_info(self):\n",
    "        print(\"Usrs:\")\n",
    "        for u in self.users:\n",
    "            print(u)\n",
    "        print(\"Posts:\",self.posts.display_posts_info())\n",
    "        print(\"Comments:\",self.comments.display_comments_info())"
   ]
  }
 ],
 "metadata": {
  "kernelspec": {
   "display_name": "Python 3 (ipykernel)",
   "language": "python",
   "name": "python3"
  },
  "language_info": {
   "codemirror_mode": {
    "name": "ipython",
    "version": 3
   },
   "file_extension": ".py",
   "mimetype": "text/x-python",
   "name": "python",
   "nbconvert_exporter": "python",
   "pygments_lexer": "ipython3",
   "version": "3.10.8"
  }
 },
 "nbformat": 4,
 "nbformat_minor": 5
}
